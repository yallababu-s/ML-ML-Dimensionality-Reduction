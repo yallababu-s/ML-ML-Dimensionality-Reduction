{
 "cells": [
  {
   "cell_type": "markdown",
   "metadata": {
    "_cell_guid": "b1076dfc-b9ad-4769-8c92-a6c4dae69d19",
    "_uuid": "8f2839f25d086af736a60e9eeb907d3b93b6e0e5"
   },
   "source": [
    "`S.Y.Babu, Data Scientist`\n",
    "\n",
    "# Latent Dirichlet Allocation / Analysis (LDA)   \n",
    "#Supervised\n",
    "\n",
    "  This is a probabilistic model used to find clusters assigments for documents.  \n",
    "It uses two probability values to cluster documents: \n",
    "- **P(word | topic)**: the probability that a particular word is associated with a particular topic. This first set of probability is also considered as the **Word X Topic** matrix.  \n",
    "- **P(topics | documents)**: the topics associated with documents. This second set of probability is considered as **Topics X Documents** matrix.   \n",
    "These probability values are calculated for all words, topics and documents.    \n",
    "\n"
   ]
  },
  {
   "cell_type": "markdown",
   "metadata": {},
   "source": [
    "#we will be using the dataset of the Australian Broadcasting Corporation, available on kaggle: \n",
    "#unzip the data \n"
   ]
  },
  {
   "cell_type": "code",
   "execution_count": 1,
   "metadata": {},
   "outputs": [],
   "source": [
    "#dataset in zip format\n",
    "#import zipfile\n",
    "#import os\n",
    "# Path to the ZIP file\n",
    "#zip_file_path = 'lda.zip'\n",
    "# Folder to extract files to\n",
    "#extracted_folder_path = 'lda_data'# Extract ZIP file\n",
    "#with zipfile.ZipFile(zip_file_path, 'r') as zip_ref:\n",
    "    #zip_ref.extractall(extracted_folder_path)\n",
    "# Extract ZIP file\n",
    "#with zipfile.ZipFile(zip_file_path, 'r') as zip_ref:\n",
    "    #zip_ref.extractall(extracted_folder_path)"
   ]
  },
  {
   "cell_type": "code",
   "execution_count": 2,
   "metadata": {},
   "outputs": [],
   "source": [
    "# List the extracted files\n",
    "#extracted_files = os.listdir(extracted_folder_path)\n",
    "#print(extracted_files)"
   ]
  },
  {
   "cell_type": "code",
   "execution_count": 3,
   "metadata": {},
   "outputs": [],
   "source": [
    "#Identify the CSV file (assuming there is only one CSV file)\n",
    "#csv_file = [file for file in extracted_files if file.endswith(\".csv\")]\n",
    "#if csv_file:\n",
    "    #csv_file_path = os.path.join(extracted_folder_path, csv_file[0])\n",
    "    #print(\"CSV file found:\", csv_file_path)\n",
    "#else:\n",
    "    #print(\"No CSV file found!\")\n",
    "    #exit()\n",
    "#csv\n",
    "#csv_file"
   ]
  },
  {
   "cell_type": "code",
   "execution_count": 4,
   "metadata": {},
   "outputs": [],
   "source": [
    "# Load the dataset into a pandas DataFrame\n",
    "#df = pd.read_csv(csv_file_path, delimiter=',', on_bad_lines='skip')     #delimiter check  [',' or ''|'']\n",
    "#ParserError to fix this  Use `on_bad_lines` to skip problematic rows"
   ]
  },
  {
   "cell_type": "code",
   "execution_count": 5,
   "metadata": {},
   "outputs": [],
   "source": [
    "import warnings\n",
    "# To ignore all warnings, you can use the following:\n",
    "warnings.filterwarnings('ignore')"
   ]
  },
  {
   "cell_type": "markdown",
   "metadata": {
    "_cell_guid": "79c7e3d0-c299-4dcb-8224-4455121ee9b0",
    "_uuid": "d629ff2d2480ee46fbb7e2d37f6b5fab8052498a",
    "collapsed": true
   },
   "source": [
    "## Import Useful Libraries "
   ]
  },
  {
   "cell_type": "code",
   "execution_count": 6,
   "metadata": {},
   "outputs": [],
   "source": [
    "import pandas as pd\n",
    "import matplotlib.pyplot as plt\n",
    "from sklearn.feature_extraction.text import CountVectorizer\n",
    "from sklearn.decomposition import LatentDirichletAllocation"
   ]
  },
  {
   "cell_type": "markdown",
   "metadata": {},
   "source": [
    "## Load the Dataset"
   ]
  },
  {
   "cell_type": "code",
   "execution_count": 7,
   "metadata": {},
   "outputs": [
    {
     "data": {
      "text/plain": [
       "(1244184, 2)"
      ]
     },
     "execution_count": 7,
     "metadata": {},
     "output_type": "execute_result"
    }
   ],
   "source": [
    "news_data = pd.read_csv(\"abcnews-date-text.csv\")\n",
    "news_data.shape"
   ]
  },
  {
   "cell_type": "code",
   "execution_count": 8,
   "metadata": {},
   "outputs": [
    {
     "data": {
      "text/html": [
       "<div>\n",
       "<style scoped>\n",
       "    .dataframe tbody tr th:only-of-type {\n",
       "        vertical-align: middle;\n",
       "    }\n",
       "\n",
       "    .dataframe tbody tr th {\n",
       "        vertical-align: top;\n",
       "    }\n",
       "\n",
       "    .dataframe thead th {\n",
       "        text-align: right;\n",
       "    }\n",
       "</style>\n",
       "<table border=\"1\" class=\"dataframe\">\n",
       "  <thead>\n",
       "    <tr style=\"text-align: right;\">\n",
       "      <th></th>\n",
       "      <th>publish_date</th>\n",
       "      <th>headline_text</th>\n",
       "    </tr>\n",
       "  </thead>\n",
       "  <tbody>\n",
       "    <tr>\n",
       "      <th>87233</th>\n",
       "      <td>20040427</td>\n",
       "      <td>man arrested over spanish bombings</td>\n",
       "    </tr>\n",
       "    <tr>\n",
       "      <th>24254</th>\n",
       "      <td>20030616</td>\n",
       "      <td>call for marine park plan to have more no fishing</td>\n",
       "    </tr>\n",
       "    <tr>\n",
       "      <th>262909</th>\n",
       "      <td>20061010</td>\n",
       "      <td>security council condemns north korea nuclear ...</td>\n",
       "    </tr>\n",
       "    <tr>\n",
       "      <th>704052</th>\n",
       "      <td>20120624</td>\n",
       "      <td>aussie kennedy wins in japan</td>\n",
       "    </tr>\n",
       "    <tr>\n",
       "      <th>1178282</th>\n",
       "      <td>20191006</td>\n",
       "      <td>paris attacker radical vision islam anti terro...</td>\n",
       "    </tr>\n",
       "  </tbody>\n",
       "</table>\n",
       "</div>"
      ],
      "text/plain": [
       "         publish_date                                      headline_text\n",
       "87233        20040427                 man arrested over spanish bombings\n",
       "24254        20030616  call for marine park plan to have more no fishing\n",
       "262909       20061010  security council condemns north korea nuclear ...\n",
       "704052       20120624                       aussie kennedy wins in japan\n",
       "1178282      20191006  paris attacker radical vision islam anti terro..."
      ]
     },
     "execution_count": 8,
     "metadata": {},
     "output_type": "execute_result"
    }
   ],
   "source": [
    "news_data.sample(5)"
   ]
  },
  {
   "cell_type": "markdown",
   "metadata": {},
   "source": [
    "Our data has over a million of records, and there are two columns: \n",
    "- the date a particular headline have been published.  \n",
    "- the actual headline.   \n",
    "By looking at the first 5 rows, we can see that we don't have the topic of the headline text! So, we will use LDA to attempt to figure out clusters of the news.   \n",
    "Over a **a million** of record, that is a lot of data. To do so, we will use only **20000** records to make the computation faster. You can increase the number of observation if you wish. "
   ]
  },
  {
   "cell_type": "markdown",
   "metadata": {},
   "source": [
    "## Preprocessing.    "
   ]
  },
  {
   "cell_type": "code",
   "execution_count": 9,
   "metadata": {},
   "outputs": [],
   "source": [
    "NUM_SAMPLES = 20000 # The number of sample to use \n",
    "sample_df = news_data.sample(NUM_SAMPLES, replace=False).reset_index(drop=True)"
   ]
  },
  {
   "cell_type": "code",
   "execution_count": 10,
   "metadata": {},
   "outputs": [
    {
     "data": {
      "text/plain": [
       "(20000, 2)"
      ]
     },
     "execution_count": 10,
     "metadata": {},
     "output_type": "execute_result"
    }
   ],
   "source": [
    "sample_df.shape"
   ]
  },
  {
   "cell_type": "code",
   "execution_count": 11,
   "metadata": {},
   "outputs": [
    {
     "data": {
      "text/html": [
       "<div>\n",
       "<style scoped>\n",
       "    .dataframe tbody tr th:only-of-type {\n",
       "        vertical-align: middle;\n",
       "    }\n",
       "\n",
       "    .dataframe tbody tr th {\n",
       "        vertical-align: top;\n",
       "    }\n",
       "\n",
       "    .dataframe thead th {\n",
       "        text-align: right;\n",
       "    }\n",
       "</style>\n",
       "<table border=\"1\" class=\"dataframe\">\n",
       "  <thead>\n",
       "    <tr style=\"text-align: right;\">\n",
       "      <th></th>\n",
       "      <th>publish_date</th>\n",
       "      <th>headline_text</th>\n",
       "    </tr>\n",
       "  </thead>\n",
       "  <tbody>\n",
       "    <tr>\n",
       "      <th>18201</th>\n",
       "      <td>20060718</td>\n",
       "      <td>landing gear problems force f 111 to dump fuel</td>\n",
       "    </tr>\n",
       "    <tr>\n",
       "      <th>9710</th>\n",
       "      <td>20091203</td>\n",
       "      <td>turnbull stands by bishop</td>\n",
       "    </tr>\n",
       "    <tr>\n",
       "      <th>11140</th>\n",
       "      <td>20050505</td>\n",
       "      <td>union maintains attack on hospital management</td>\n",
       "    </tr>\n",
       "    <tr>\n",
       "      <th>4395</th>\n",
       "      <td>20181004</td>\n",
       "      <td>abc board appoints independent adviser for inv...</td>\n",
       "    </tr>\n",
       "    <tr>\n",
       "      <th>18906</th>\n",
       "      <td>20140623</td>\n",
       "      <td>nbnco has a strategy to keep phone and interne...</td>\n",
       "    </tr>\n",
       "  </tbody>\n",
       "</table>\n",
       "</div>"
      ],
      "text/plain": [
       "       publish_date                                      headline_text\n",
       "18201      20060718     landing gear problems force f 111 to dump fuel\n",
       "9710       20091203                          turnbull stands by bishop\n",
       "11140      20050505      union maintains attack on hospital management\n",
       "4395       20181004  abc board appoints independent adviser for inv...\n",
       "18906      20140623  nbnco has a strategy to keep phone and interne..."
      ]
     },
     "execution_count": 11,
     "metadata": {},
     "output_type": "execute_result"
    }
   ],
   "source": [
    "sample_df.sample(5) # randomly show 5 rows"
   ]
  },
  {
   "cell_type": "markdown",
   "metadata": {},
   "source": [
    "We are not interested in the **publish_data** column, since we will only be using **headline_text** data.    \n",
    "\n",
    "**`max_df`**` : float in range [0.0, 1.0] or int, default=1.0`<br>\n",
    "When building the vocabulary ignore terms that have a document frequency strictly higher than the given threshold (corpus-specific stop words). If float, the parameter represents a proportion of documents, integer absolute counts. This parameter is ignored if vocabulary is not None.\n",
    "\n",
    "**`min_df`**` : float in range [0.0, 1.0] or int, default=1`<br>\n",
    "When building the vocabulary ignore terms that have a document frequency strictly lower than the given threshold. This value is also called cut-off in the literature. If float, the parameter represents a proportion of documents, integer absolute counts. This parameter is ignored if vocabulary is not None.     \n",
    "\n",
    "\n",
    "Be defining the **CountVectorizer** object as below, we ignore:   \n",
    "- all terms that occur over 95% times in our document corpus. We say in this case that the terms occuring more than this threshold are not significant, most of them are  `stopwords`.   \n",
    "\n",
    "- all the terms that occur fewer than three times in the entire corpus.  "
   ]
  },
  {
   "cell_type": "code",
   "execution_count": 12,
   "metadata": {},
   "outputs": [],
   "source": [
    "cv = CountVectorizer(max_df=0.95, min_df=3, stop_words=\"english\")\n",
    "dtm = cv.fit_transform(sample_df['headline_text'])"
   ]
  },
  {
   "cell_type": "code",
   "execution_count": 13,
   "metadata": {},
   "outputs": [
    {
     "data": {
      "text/plain": [
       "<20000x6362 sparse matrix of type '<class 'numpy.int64'>'\n",
       "\twith 90127 stored elements in Compressed Sparse Row format>"
      ]
     },
     "execution_count": 13,
     "metadata": {},
     "output_type": "execute_result"
    }
   ],
   "source": [
    "dtm"
   ]
  },
  {
   "cell_type": "markdown",
   "metadata": {},
   "source": [
    "We can observe that our Document X Term Matrix (dtm) has:  \n",
    "- 20000 documents, and.  \n",
    "- 6425 distinct words   \n",
    "\n",
    "We can also get all those words using the `get_feature_names()` function"
   ]
  },
  {
   "cell_type": "code",
   "execution_count": 14,
   "metadata": {},
   "outputs": [
    {
     "data": {
      "text/plain": [
       "6362"
      ]
     },
     "execution_count": 14,
     "metadata": {},
     "output_type": "execute_result"
    }
   ],
   "source": [
    "#feature_names = cv.get_feature_names()\n",
    "feature_names = cv.get_feature_names_out()\n",
    "len(feature_names) # show the total number of distinct words\n",
    "#In versions after 1.0, the method get_feature_names() was replaced with get_feature_names_out()."
   ]
  },
  {
   "cell_type": "markdown",
   "metadata": {},
   "source": [
    "Let's have a look at some of the features that have been extracted from the documents.  "
   ]
  },
  {
   "cell_type": "code",
   "execution_count": 15,
   "metadata": {},
   "outputs": [
    {
     "data": {
      "text/plain": [
       "array([], dtype=object)"
      ]
     },
     "execution_count": 15,
     "metadata": {},
     "output_type": "execute_result"
    }
   ],
   "source": [
    "feature_names[6420:]"
   ]
  },
  {
   "cell_type": "markdown",
   "metadata": {},
   "source": [
    "## LDA     \n",
    "From our DTM matrix, we can now build our LDA to extract topics from the underlined texts. The number of topic to be extracted is a hyperparameter, so we do not know it a a glance. In our case, we will be using 7 topics.   \n",
    "LDA is an iterative algorithm, we will have 30 iterations in our case, but the default value is 10.  "
   ]
  },
  {
   "cell_type": "code",
   "execution_count": 16,
   "metadata": {},
   "outputs": [
    {
     "data": {
      "text/html": [
       "<style>#sk-container-id-1 {color: black;}#sk-container-id-1 pre{padding: 0;}#sk-container-id-1 div.sk-toggleable {background-color: white;}#sk-container-id-1 label.sk-toggleable__label {cursor: pointer;display: block;width: 100%;margin-bottom: 0;padding: 0.3em;box-sizing: border-box;text-align: center;}#sk-container-id-1 label.sk-toggleable__label-arrow:before {content: \"▸\";float: left;margin-right: 0.25em;color: #696969;}#sk-container-id-1 label.sk-toggleable__label-arrow:hover:before {color: black;}#sk-container-id-1 div.sk-estimator:hover label.sk-toggleable__label-arrow:before {color: black;}#sk-container-id-1 div.sk-toggleable__content {max-height: 0;max-width: 0;overflow: hidden;text-align: left;background-color: #f0f8ff;}#sk-container-id-1 div.sk-toggleable__content pre {margin: 0.2em;color: black;border-radius: 0.25em;background-color: #f0f8ff;}#sk-container-id-1 input.sk-toggleable__control:checked~div.sk-toggleable__content {max-height: 200px;max-width: 100%;overflow: auto;}#sk-container-id-1 input.sk-toggleable__control:checked~label.sk-toggleable__label-arrow:before {content: \"▾\";}#sk-container-id-1 div.sk-estimator input.sk-toggleable__control:checked~label.sk-toggleable__label {background-color: #d4ebff;}#sk-container-id-1 div.sk-label input.sk-toggleable__control:checked~label.sk-toggleable__label {background-color: #d4ebff;}#sk-container-id-1 input.sk-hidden--visually {border: 0;clip: rect(1px 1px 1px 1px);clip: rect(1px, 1px, 1px, 1px);height: 1px;margin: -1px;overflow: hidden;padding: 0;position: absolute;width: 1px;}#sk-container-id-1 div.sk-estimator {font-family: monospace;background-color: #f0f8ff;border: 1px dotted black;border-radius: 0.25em;box-sizing: border-box;margin-bottom: 0.5em;}#sk-container-id-1 div.sk-estimator:hover {background-color: #d4ebff;}#sk-container-id-1 div.sk-parallel-item::after {content: \"\";width: 100%;border-bottom: 1px solid gray;flex-grow: 1;}#sk-container-id-1 div.sk-label:hover label.sk-toggleable__label {background-color: #d4ebff;}#sk-container-id-1 div.sk-serial::before {content: \"\";position: absolute;border-left: 1px solid gray;box-sizing: border-box;top: 0;bottom: 0;left: 50%;z-index: 0;}#sk-container-id-1 div.sk-serial {display: flex;flex-direction: column;align-items: center;background-color: white;padding-right: 0.2em;padding-left: 0.2em;position: relative;}#sk-container-id-1 div.sk-item {position: relative;z-index: 1;}#sk-container-id-1 div.sk-parallel {display: flex;align-items: stretch;justify-content: center;background-color: white;position: relative;}#sk-container-id-1 div.sk-item::before, #sk-container-id-1 div.sk-parallel-item::before {content: \"\";position: absolute;border-left: 1px solid gray;box-sizing: border-box;top: 0;bottom: 0;left: 50%;z-index: -1;}#sk-container-id-1 div.sk-parallel-item {display: flex;flex-direction: column;z-index: 1;position: relative;background-color: white;}#sk-container-id-1 div.sk-parallel-item:first-child::after {align-self: flex-end;width: 50%;}#sk-container-id-1 div.sk-parallel-item:last-child::after {align-self: flex-start;width: 50%;}#sk-container-id-1 div.sk-parallel-item:only-child::after {width: 0;}#sk-container-id-1 div.sk-dashed-wrapped {border: 1px dashed gray;margin: 0 0.4em 0.5em 0.4em;box-sizing: border-box;padding-bottom: 0.4em;background-color: white;}#sk-container-id-1 div.sk-label label {font-family: monospace;font-weight: bold;display: inline-block;line-height: 1.2em;}#sk-container-id-1 div.sk-label-container {text-align: center;}#sk-container-id-1 div.sk-container {/* jupyter's `normalize.less` sets `[hidden] { display: none; }` but bootstrap.min.css set `[hidden] { display: none !important; }` so we also need the `!important` here to be able to override the default hidden behavior on the sphinx rendered scikit-learn.org. See: https://github.com/scikit-learn/scikit-learn/issues/21755 */display: inline-block !important;position: relative;}#sk-container-id-1 div.sk-text-repr-fallback {display: none;}</style><div id=\"sk-container-id-1\" class=\"sk-top-container\"><div class=\"sk-text-repr-fallback\"><pre>LatentDirichletAllocation(max_iter=30, n_components=7, random_state=2021)</pre><b>In a Jupyter environment, please rerun this cell to show the HTML representation or trust the notebook. <br />On GitHub, the HTML representation is unable to render, please try loading this page with nbviewer.org.</b></div><div class=\"sk-container\" hidden><div class=\"sk-item\"><div class=\"sk-estimator sk-toggleable\"><input class=\"sk-toggleable__control sk-hidden--visually\" id=\"sk-estimator-id-1\" type=\"checkbox\" checked><label for=\"sk-estimator-id-1\" class=\"sk-toggleable__label sk-toggleable__label-arrow\">LatentDirichletAllocation</label><div class=\"sk-toggleable__content\"><pre>LatentDirichletAllocation(max_iter=30, n_components=7, random_state=2021)</pre></div></div></div></div></div>"
      ],
      "text/plain": [
       "LatentDirichletAllocation(max_iter=30, n_components=7, random_state=2021)"
      ]
     },
     "execution_count": 16,
     "metadata": {},
     "output_type": "execute_result"
    }
   ],
   "source": [
    "# Set the number of topics\n",
    "NB_TOPICS = 7 \n",
    "\n",
    "# Creat the model\n",
    "LDA_model = LatentDirichletAllocation(n_components = NB_TOPICS, max_iter = 30, random_state = 2021)\n",
    "\n",
    "# Fit the model on the dtm\n",
    "LDA_model.fit(dtm)"
   ]
  },
  {
   "cell_type": "markdown",
   "metadata": {},
   "source": [
    "### Show Stored Words.   \n",
    "Let's randomnly have a look at some words of that have been stored.  "
   ]
  },
  {
   "cell_type": "code",
   "execution_count": 17,
   "metadata": {},
   "outputs": [
    {
     "data": {
      "text/plain": [
       "6362"
      ]
     },
     "execution_count": 17,
     "metadata": {},
     "output_type": "execute_result"
    }
   ],
   "source": [
    "len(feature_names)"
   ]
  },
  {
   "cell_type": "code",
   "execution_count": 19,
   "metadata": {},
   "outputs": [
    {
     "name": "stdout",
     "output_type": "stream",
     "text": [
      "loophole\n",
      "praises\n",
      "robbed\n",
      "owner\n",
      "roger\n",
      "bounces\n",
      "whales\n",
      "taxi\n",
      "officers\n",
      "riewoldt\n",
      "half\n",
      "suburbs\n",
      "quits\n",
      "25pc\n",
      "stumps\n"
     ]
    }
   ],
   "source": [
    "import random \n",
    "for index in range(15):\n",
    "    random_word_ID = random.randint(0, 6506)\n",
    "    print(cv.get_feature_names_out()[random_word_ID])"
   ]
  },
  {
   "cell_type": "markdown",
   "metadata": {},
   "source": [
    "### Top Words Per Topic"
   ]
  },
  {
   "cell_type": "code",
   "execution_count": 20,
   "metadata": {},
   "outputs": [
    {
     "data": {
      "text/plain": [
       "6362"
      ]
     },
     "execution_count": 20,
     "metadata": {},
     "output_type": "execute_result"
    }
   ],
   "source": [
    "len(LDA_model.components_[0])"
   ]
  },
  {
   "cell_type": "code",
   "execution_count": 21,
   "metadata": {},
   "outputs": [
    {
     "data": {
      "text/plain": [
       "array([1104, 1214, 1507, ..., 2505, 4953, 2508], dtype=int64)"
      ]
     },
     "execution_count": 21,
     "metadata": {},
     "output_type": "execute_result"
    }
   ],
   "source": [
    "# Pick a single topic \n",
    "a_topic = LDA_model.components_[0]\n",
    "\n",
    "# Get the indices that would sort this array\n",
    "a_topic.argsort()"
   ]
  },
  {
   "cell_type": "code",
   "execution_count": 22,
   "metadata": {},
   "outputs": [
    {
     "data": {
      "text/plain": [
       "0.14303621407409484"
      ]
     },
     "execution_count": 22,
     "metadata": {},
     "output_type": "execute_result"
    }
   ],
   "source": [
    "# The word least representative of this topic\n",
    "a_topic[597]"
   ]
  },
  {
   "cell_type": "code",
   "execution_count": 23,
   "metadata": {},
   "outputs": [
    {
     "data": {
      "text/plain": [
       "0.14299144835659988"
      ]
     },
     "execution_count": 23,
     "metadata": {},
     "output_type": "execute_result"
    }
   ],
   "source": [
    "# The word most representative of this topic\n",
    "a_topic[3598]"
   ]
  },
  {
   "cell_type": "markdown",
   "metadata": {},
   "source": [
    "Let have a look at the top 10 words for the topic we previously took"
   ]
  },
  {
   "cell_type": "code",
   "execution_count": 24,
   "metadata": {},
   "outputs": [
    {
     "name": "stdout",
     "output_type": "stream",
     "text": [
      "act\n",
      "indigenous\n",
      "sydney\n",
      "new\n",
      "deal\n",
      "minister\n",
      "health\n",
      "government\n",
      "says\n",
      "govt\n"
     ]
    }
   ],
   "source": [
    "top_10_words_indices = a_topic.argsort()[-10:]\n",
    "\n",
    "for i in top_10_words_indices:\n",
    "    print(cv.get_feature_names_out()[i])"
   ]
  },
  {
   "cell_type": "markdown",
   "metadata": {},
   "source": [
    "This looks like Government Article. Let's have a look at all the 7 topics found. "
   ]
  },
  {
   "cell_type": "code",
   "execution_count": 25,
   "metadata": {},
   "outputs": [
    {
     "name": "stdout",
     "output_type": "stream",
     "text": [
      "THE TOP 10 WORDS FOR TOPIC #0\n",
      "['act', 'indigenous', 'sydney', 'new', 'deal', 'minister', 'health', 'government', 'says', 'govt']\n",
      "\n",
      "\n",
      "THE TOP 10 WORDS FOR TOPIC #1\n",
      "['abuse', 'child', 'man', 'cup', 'accused', 'death', 'world', 'murder', 'interview', 'court']\n",
      "\n",
      "\n",
      "THE TOP 10 WORDS FOR TOPIC #2\n",
      "['change', 'fears', 'set', 'industry', 'workers', 'china', 'market', 'australian', 'home', 'new']\n",
      "\n",
      "\n",
      "THE TOP 10 WORDS FOR TOPIC #3\n",
      "['rail', 'coronavirus', 'cuts', 'covid', 'says', 'ban', 'wa', 'public', 'group', 'calls']\n",
      "\n",
      "\n",
      "THE TOP 10 WORDS FOR TOPIC #4\n",
      "['open', 'takes', 'council', 'says', 'urges', 'final', 'missing', 'water', 'win', 'plan']\n",
      "\n",
      "\n",
      "THE TOP 10 WORDS FOR TOPIC #5\n",
      "['country', 'west', 'nsw', 'qld', 'budget', 'gold', 'day', 'north', 'coast', 'south']\n",
      "\n",
      "\n",
      "THE TOP 10 WORDS FOR TOPIC #6\n",
      "['road', 'abc', 'dies', 'charged', 'woman', 'killed', 'car', 'crash', 'man', 'police']\n",
      "\n",
      "\n"
     ]
    }
   ],
   "source": [
    "for i, topic in enumerate(LDA_model.components_):\n",
    "    print(\"THE TOP {} WORDS FOR TOPIC #{}\".format(10, i))\n",
    "    print([cv.get_feature_names_out()[index] for index in topic.argsort()[-10:]])\n",
    "    print(\"\\n\")"
   ]
  },
  {
   "cell_type": "markdown",
   "metadata": {},
   "source": [
    "### Attach Discovered Topic Labels to Original News"
   ]
  },
  {
   "cell_type": "code",
   "execution_count": 26,
   "metadata": {},
   "outputs": [
    {
     "name": "stdout",
     "output_type": "stream",
     "text": [
      "(20000, 7)\n"
     ]
    }
   ],
   "source": [
    "# Link documents to topics\n",
    "final_topics = LDA_model.transform(dtm)\n",
    "\n",
    "# Show the shape of the object \n",
    "print(final_topics.shape)"
   ]
  },
  {
   "cell_type": "code",
   "execution_count": 27,
   "metadata": {},
   "outputs": [
    {
     "data": {
      "text/plain": [
       "array([[0.02041921, 0.02044082, 0.02040819, ..., 0.02046598, 0.87734868,\n",
       "        0.0204834 ],\n",
       "       [0.87736266, 0.02045173, 0.02042787, ..., 0.02042951, 0.02045849,\n",
       "        0.02042967],\n",
       "       [0.71415387, 0.04761907, 0.04763602, ..., 0.04771204, 0.04761906,\n",
       "        0.04761906],\n",
       "       ...,\n",
       "       [0.20528415, 0.02380954, 0.0238289 , ..., 0.02384414, 0.02381496,\n",
       "        0.0238271 ],\n",
       "       [0.03571435, 0.03615018, 0.03571435, ..., 0.03575049, 0.78494718,\n",
       "        0.03600911],\n",
       "       [0.01593638, 0.23815635, 0.01588777, ..., 0.13800094, 0.16887341,\n",
       "        0.13421798]])"
      ]
     },
     "execution_count": 27,
     "metadata": {},
     "output_type": "execute_result"
    }
   ],
   "source": [
    "final_topics"
   ]
  },
  {
   "cell_type": "markdown",
   "metadata": {},
   "source": [
    "**final_topics** contains, for each of our 20.000 documents, the probability score of how likely a document belongs to each of the 7 topics.  This is a Document X Topics matrix. \n",
    "For example, below is the probability values for the fourth document."
   ]
  },
  {
   "cell_type": "code",
   "execution_count": 28,
   "metadata": {},
   "outputs": [
    {
     "data": {
      "text/plain": [
       "array([0.42854914, 0.02857144, 0.0286978 , 0.02857144, 0.02857144,\n",
       "       0.02882197, 0.42821677])"
      ]
     },
     "execution_count": 28,
     "metadata": {},
     "output_type": "execute_result"
    }
   ],
   "source": [
    "final_topics[4]"
   ]
  },
  {
   "cell_type": "code",
   "execution_count": 29,
   "metadata": {},
   "outputs": [
    {
     "data": {
      "text/plain": [
       "0"
      ]
     },
     "execution_count": 29,
     "metadata": {},
     "output_type": "execute_result"
    }
   ],
   "source": [
    "final_topics[4].argmax()"
   ]
  },
  {
   "cell_type": "markdown",
   "metadata": {},
   "source": [
    "This value (4) means that our LDA model thinks that the first document belongs to the 4th topic."
   ]
  },
  {
   "cell_type": "markdown",
   "metadata": {},
   "source": [
    "### Combination with the original data     \n",
    "Let's create a new column called **Topic N°** that will correspond to the topic value to which each document belongs to."
   ]
  },
  {
   "cell_type": "code",
   "execution_count": 30,
   "metadata": {},
   "outputs": [],
   "source": [
    "sample_df[\"Topic N°\"] = final_topics.argmax(axis=1)"
   ]
  },
  {
   "cell_type": "code",
   "execution_count": 31,
   "metadata": {},
   "outputs": [
    {
     "data": {
      "text/html": [
       "<div>\n",
       "<style scoped>\n",
       "    .dataframe tbody tr th:only-of-type {\n",
       "        vertical-align: middle;\n",
       "    }\n",
       "\n",
       "    .dataframe tbody tr th {\n",
       "        vertical-align: top;\n",
       "    }\n",
       "\n",
       "    .dataframe thead th {\n",
       "        text-align: right;\n",
       "    }\n",
       "</style>\n",
       "<table border=\"1\" class=\"dataframe\">\n",
       "  <thead>\n",
       "    <tr style=\"text-align: right;\">\n",
       "      <th></th>\n",
       "      <th>publish_date</th>\n",
       "      <th>headline_text</th>\n",
       "      <th>Topic N°</th>\n",
       "    </tr>\n",
       "  </thead>\n",
       "  <tbody>\n",
       "    <tr>\n",
       "      <th>0</th>\n",
       "      <td>20101231</td>\n",
       "      <td>surf rescues prompt renewed warnings to swimmers</td>\n",
       "      <td>5</td>\n",
       "    </tr>\n",
       "    <tr>\n",
       "      <th>1</th>\n",
       "      <td>20150904</td>\n",
       "      <td>nsw government unveils olympic stadium plans</td>\n",
       "      <td>0</td>\n",
       "    </tr>\n",
       "    <tr>\n",
       "      <th>2</th>\n",
       "      <td>20120210</td>\n",
       "      <td>hewson and carr analyse politics</td>\n",
       "      <td>0</td>\n",
       "    </tr>\n",
       "    <tr>\n",
       "      <th>3</th>\n",
       "      <td>20031014</td>\n",
       "      <td>astle blow for kiwis ahead of one day series</td>\n",
       "      <td>4</td>\n",
       "    </tr>\n",
       "    <tr>\n",
       "      <th>4</th>\n",
       "      <td>20140921</td>\n",
       "      <td>deadly crash into uni undiscovered for hours</td>\n",
       "      <td>0</td>\n",
       "    </tr>\n",
       "  </tbody>\n",
       "</table>\n",
       "</div>"
      ],
      "text/plain": [
       "   publish_date                                     headline_text  Topic N°\n",
       "0      20101231  surf rescues prompt renewed warnings to swimmers         5\n",
       "1      20150904      nsw government unveils olympic stadium plans         0\n",
       "2      20120210                  hewson and carr analyse politics         0\n",
       "3      20031014      astle blow for kiwis ahead of one day series         4\n",
       "4      20140921      deadly crash into uni undiscovered for hours         0"
      ]
     },
     "execution_count": 31,
     "metadata": {},
     "output_type": "execute_result"
    }
   ],
   "source": [
    "sample_df.head()"
   ]
  },
  {
   "cell_type": "markdown",
   "metadata": {},
   "source": [
    "According to our LDA model:   \n",
    "- the first document belongs to 4th topic.  \n",
    "- the second document belongs to 4th topic. \n",
    "- the third document belongs to 6th topic.  \n",
    "etc.   "
   ]
  },
  {
   "cell_type": "code",
   "execution_count": 32,
   "metadata": {},
   "outputs": [
    {
     "name": "stdout",
     "output_type": "stream",
     "text": [
      "Requirement already satisfied: pyLDAvis in c:\\users\\hp\\anaconda3\\lib\\site-packages (3.4.1)\n",
      "Requirement already satisfied: numpy>=1.24.2 in c:\\users\\hp\\anaconda3\\lib\\site-packages (from pyLDAvis) (1.24.3)\n",
      "Requirement already satisfied: scipy in c:\\users\\hp\\anaconda3\\lib\\site-packages (from pyLDAvis) (1.12.0)\n",
      "Requirement already satisfied: pandas>=2.0.0 in c:\\users\\hp\\anaconda3\\lib\\site-packages (from pyLDAvis) (2.1.2)\n",
      "Requirement already satisfied: joblib>=1.2.0 in c:\\users\\hp\\anaconda3\\lib\\site-packages (from pyLDAvis) (1.2.0)\n",
      "Requirement already satisfied: jinja2 in c:\\users\\hp\\anaconda3\\lib\\site-packages (from pyLDAvis) (3.1.2)\n",
      "Requirement already satisfied: numexpr in c:\\users\\hp\\anaconda3\\lib\\site-packages (from pyLDAvis) (2.8.4)\n",
      "Requirement already satisfied: funcy in c:\\users\\hp\\anaconda3\\lib\\site-packages (from pyLDAvis) (2.0)\n",
      "Requirement already satisfied: scikit-learn>=1.0.0 in c:\\users\\hp\\anaconda3\\lib\\site-packages (from pyLDAvis) (1.3.2)\n",
      "Requirement already satisfied: gensim in c:\\users\\hp\\anaconda3\\lib\\site-packages (from pyLDAvis) (4.3.0)\n",
      "Requirement already satisfied: setuptools in c:\\users\\hp\\anaconda3\\lib\\site-packages (from pyLDAvis) (68.0.0)\n",
      "Requirement already satisfied: python-dateutil>=2.8.2 in c:\\users\\hp\\anaconda3\\lib\\site-packages (from pandas>=2.0.0->pyLDAvis) (2.8.2)\n",
      "Requirement already satisfied: pytz>=2020.1 in c:\\users\\hp\\anaconda3\\lib\\site-packages (from pandas>=2.0.0->pyLDAvis) (2022.7)\n",
      "Requirement already satisfied: tzdata>=2022.1 in c:\\users\\hp\\anaconda3\\lib\\site-packages (from pandas>=2.0.0->pyLDAvis) (2023.3)\n",
      "Requirement already satisfied: threadpoolctl>=2.0.0 in c:\\users\\hp\\anaconda3\\lib\\site-packages (from scikit-learn>=1.0.0->pyLDAvis) (3.5.0)\n",
      "Requirement already satisfied: smart-open>=1.8.1 in c:\\users\\hp\\anaconda3\\lib\\site-packages (from gensim->pyLDAvis) (5.2.1)\n",
      "Requirement already satisfied: FuzzyTM>=0.4.0 in c:\\users\\hp\\anaconda3\\lib\\site-packages (from gensim->pyLDAvis) (2.0.9)\n",
      "Requirement already satisfied: MarkupSafe>=2.0 in c:\\users\\hp\\anaconda3\\lib\\site-packages (from jinja2->pyLDAvis) (2.1.1)\n",
      "Requirement already satisfied: pyfume in c:\\users\\hp\\anaconda3\\lib\\site-packages (from FuzzyTM>=0.4.0->gensim->pyLDAvis) (0.3.1)\n",
      "Requirement already satisfied: six>=1.5 in c:\\users\\hp\\anaconda3\\lib\\site-packages (from python-dateutil>=2.8.2->pandas>=2.0.0->pyLDAvis) (1.16.0)\n",
      "Requirement already satisfied: simpful in c:\\users\\hp\\anaconda3\\lib\\site-packages (from pyfume->FuzzyTM>=0.4.0->gensim->pyLDAvis) (2.12.0)\n",
      "Requirement already satisfied: fst-pso in c:\\users\\hp\\anaconda3\\lib\\site-packages (from pyfume->FuzzyTM>=0.4.0->gensim->pyLDAvis) (1.8.1)\n",
      "Requirement already satisfied: typing-extensions in c:\\users\\hp\\anaconda3\\lib\\site-packages (from pyfume->FuzzyTM>=0.4.0->gensim->pyLDAvis) (4.7.1)\n",
      "Requirement already satisfied: miniful in c:\\users\\hp\\anaconda3\\lib\\site-packages (from fst-pso->pyfume->FuzzyTM>=0.4.0->gensim->pyLDAvis) (0.0.6)\n"
     ]
    }
   ],
   "source": [
    "!pip install pyLDAvis"
   ]
  },
  {
   "cell_type": "code",
   "execution_count": 33,
   "metadata": {},
   "outputs": [],
   "source": [
    "#!pip install pyLDAvis==3.3.1\n",
    "#to help visualize and interpret the results of topic modeling. \n",
    "#It's commonly used with topic models like Latent Dirichlet Allocation (LDA) to visualize topics,\n"
   ]
  },
  {
   "cell_type": "code",
   "execution_count": 35,
   "metadata": {},
   "outputs": [],
   "source": [
    "#import pyLDAvis.sklearn\n",
    "#versions of pyLDAvis (starting from version 4.0.0) have removed the pyLDAvis.sklearn module\n",
    "import pyLDAvis\n",
    "#import pyLDAvis.display"
   ]
  },
  {
   "cell_type": "markdown",
   "metadata": {},
   "source": [
    "## Some Visualization       \n",
    "We will be using the `pyldavis` module to visualize the topics associated to our documents.   "
   ]
  },
  {
   "cell_type": "code",
   "execution_count": 36,
   "metadata": {},
   "outputs": [],
   "source": [
    "pyLDAvis.enable_notebook() # To enable the visualization on the notebook"
   ]
  },
  {
   "cell_type": "code",
   "execution_count": 37,
   "metadata": {},
   "outputs": [],
   "source": [
    "# Prepare pyLDAvis inputs\n",
    "panel = pyLDAvis.prepare(\n",
    "    topic_term_dists=LDA_model.components_,          # Topic-term distributions\n",
    "    doc_topic_dists=LDA_model.transform(dtm),        # Document-topic distributions\n",
    "    doc_lengths=dtm.sum(axis=1).A1,                 # Document lengths\n",
    "    vocab=cv.get_feature_names_out(),               # Vocabulary terms\n",
    "    term_frequency=dtm.sum(axis=0).A1,              # Term frequencies\n",
    "    mds='tsne'                                      # Use t-SNE for dimensionality reduction (optional)\n",
    ")"
   ]
  },
  {
   "cell_type": "code",
   "execution_count": 38,
   "metadata": {},
   "outputs": [
    {
     "data": {
      "text/html": [
       "\n",
       "<link rel=\"stylesheet\" type=\"text/css\" href=\"https://cdn.jsdelivr.net/gh/bmabey/pyLDAvis@3.4.0/pyLDAvis/js/ldavis.v1.0.0.css\">\n",
       "\n",
       "\n",
       "<div id=\"ldavis_el1245217868430800482124813209\" style=\"background-color:white;\"></div>\n",
       "<script type=\"text/javascript\">\n",
       "\n",
       "var ldavis_el1245217868430800482124813209_data = {\"mdsDat\": {\"x\": [195.4147491455078, -80.00553894042969, -170.96998596191406, 12.006308555603027, 103.81136322021484, -79.14572143554688, 103.32657623291016], \"y\": [17.241479873657227, 174.66476440429688, 15.82254409790039, 16.455801010131836, -141.52784729003906, -142.32054138183594, 175.2704620361328], \"topics\": [1, 2, 3, 4, 5, 6, 7], \"cluster\": [1, 1, 1, 1, 1, 1, 1], \"Freq\": [15.119894817092986, 14.653602126994688, 14.385240916648181, 14.343279459969338, 14.184909580545288, 14.119804300600522, 13.193268798148988]}, \"tinfo\": {\"Term\": [\"police\", \"man\", \"court\", \"interview\", \"crash\", \"south\", \"car\", \"coast\", \"north\", \"murder\", \"killed\", \"woman\", \"death\", \"world\", \"calls\", \"plan\", \"home\", \"win\", \"new\", \"charged\", \"water\", \"day\", \"gold\", \"missing\", \"accused\", \"dies\", \"government\", \"budget\", \"abc\", \"cup\", \"police\", \"crash\", \"car\", \"killed\", \"woman\", \"dies\", \"abc\", \"road\", \"dead\", \"guilty\", \"arrested\", \"fatal\", \"driver\", \"injured\", \"assault\", \"investigate\", \"kills\", \"stabbing\", \"blast\", \"pleads\", \"accident\", \"toll\", \"bail\", \"kill\", \"officer\", \"alice\", \"killing\", \"rape\", \"armed\", \"father\", \"man\", \"business\", \"bus\", \"charged\", \"drug\", \"jailed\", \"attack\", \"news\", \"train\", \"death\", \"charges\", \"teen\", \"hit\", \"perth\", \"south\", \"coast\", \"north\", \"gold\", \"budget\", \"west\", \"country\", \"big\", \"warning\", \"east\", \"hour\", \"expected\", \"games\", \"wall\", \"australians\", \"mental\", \"highlights\", \"border\", \"record\", \"vs\", \"2014\", \"wrap\", \"2015\", \"damage\", \"monday\", \"doubt\", \"mid\", \"package\", \"thursday\", \"seekers\", \"cyclone\", \"rain\", \"day\", \"korea\", \"rural\", \"queensland\", \"tasmania\", \"qld\", \"central\", \"test\", \"bushfire\", \"residents\", \"nsw\", \"season\", \"second\", \"australia\", \"wins\", \"flood\", \"new\", \"health\", \"coronavirus\", \"calls\", \"group\", \"cuts\", \"rail\", \"trump\", \"job\", \"19\", \"president\", \"farm\", \"donald\", \"aboriginal\", \"light\", \"international\", \"debate\", \"economic\", \"senate\", \"records\", \"need\", \"domestic\", \"travel\", \"wind\", \"spark\", \"sector\", \"discusses\", \"access\", \"lawyers\", \"spill\", \"owners\", \"resources\", \"clear\", \"covid\", \"ban\", \"green\", \"anti\", \"staff\", \"aid\", \"public\", \"violence\", \"service\", \"long\", \"power\", \"push\", \"wa\", \"rise\", \"coronavirus\", \"fight\", \"says\", \"gets\", \"australia\", \"new\", \"mp\", \"help\", \"council\", \"election\", \"home\", \"industry\", \"change\", \"continues\", \"future\", \"trade\", \"strong\", \"shares\", \"illegal\", \"closer\", \"way\", \"growth\", \"crisis\", \"dairy\", \"military\", \"parents\", \"economy\", \"fined\", \"construction\", \"upgrade\", \"lawyer\", \"global\", \"nationals\", \"forced\", \"hearing\", \"corruption\", \"discuss\", \"footage\", \"trading\", \"eyes\", \"market\", \"workers\", \"fears\", \"share\", \"set\", \"ceo\", \"youth\", \"china\", \"faces\", \"return\", \"new\", \"climate\", \"farmers\", \"australian\", \"work\", \"lead\", \"blaze\", \"urged\", \"jobs\", \"election\", \"says\", \"council\", \"wa\", \"sale\", \"union\", \"deal\", \"cancer\", \"housing\", \"policy\", \"flu\", \"training\", \"education\", \"carbon\", \"club\", \"nrn\", \"doctor\", \"turnbull\", \"afghanistan\", \"confident\", \"human\", \"white\", \"friday\", \"remains\", \"bird\", \"reform\", \"cabinet\", \"delay\", \"grandstand\", \"april\", \"wool\", \"sees\", \"player\", \"music\", \"private\", \"july\", \"government\", \"study\", \"hope\", \"minister\", \"act\", \"promises\", \"govt\", \"plans\", \"indigenous\", \"defends\", \"health\", \"says\", \"afl\", \"demand\", \"sydney\", \"canberra\", \"rates\", \"new\", \"boost\", \"adelaide\", \"sa\", \"support\", \"house\", \"nsw\", \"hospital\", \"win\", \"missing\", \"final\", \"urges\", \"japan\", \"victory\", \"vote\", \"lose\", \"tigers\", \"blues\", \"award\", \"rudd\", \"great\", \"series\", \"grand\", \"finals\", \"firefighters\", \"quits\", \"warriors\", \"heat\", \"wheat\", \"strikes\", \"relief\", \"israeli\", \"crows\", \"gaza\", \"reef\", \"chelsea\", \"crews\", \"cats\", \"plan\", \"water\", \"art\", \"vic\", \"battle\", \"takes\", \"murray\", \"city\", \"broken\", \"clash\", \"search\", \"title\", \"open\", \"league\", \"mayor\", \"aussie\", \"mp\", \"claims\", \"council\", \"says\", \"centre\", \"inquiry\", \"minister\", \"australian\", \"new\", \"australia\", \"court\", \"interview\", \"murder\", \"world\", \"accused\", \"cup\", \"abuse\", \"shooting\", \"care\", \"rate\", \"commission\", \"fires\", \"royal\", \"old\", \"aged\", \"sri\", \"inquest\", \"indonesian\", \"girl\", \"released\", \"sentence\", \"shark\", \"suspected\", \"sexual\", \"extended\", \"lanka\", \"fruit\", \"held\", \"players\", \"drink\", \"nuclear\", \"case\", \"child\", \"state\", \"told\", \"death\", \"sex\", \"trial\", \"cricket\", \"face\", \"man\", \"australia\", \"report\", \"years\", \"charged\", \"australian\"], \"Freq\": [8910187.0, 6753808.0, 3477984.0, 2954005.0, 2974109.0, 2446351.0, 2400970.0, 2314098.0, 2234746.0, 2108582.0, 2237216.0, 2182631.0, 3185797.0, 1977602.0, 1999309.0, 2461315.0, 1928788.0, 1911681.0, 6890129.0, 2519684.0, 2366538.0, 2423618.0, 1771860.0, 1695041.0, 1584660.0, 1691370.0, 2195618.0, 1652832.0, 1677723.0, 1548938.0, 8899233.462975817, 2963159.067037147, 2390018.0007333555, 2226262.353994493, 2171677.2870427896, 1680416.1927837466, 1666766.4384190894, 1598537.3081196642, 1366532.6172709784, 1230096.987019491, 1148219.5985163106, 1134574.3961477666, 1011758.6356200229, 970818.4562394044, 861644.5048455854, 779771.081520577, 697893.248245907, 723923.4989439896, 656956.9275005141, 656954.806331226, 629665.3690815155, 616018.0773691016, 588725.5579540568, 575076.1191258009, 493203.0921604605, 479553.5881818404, 465909.61053526704, 452261.99783934484, 411330.4486518565, 384030.1191719209, 5432631.400460136, 1330156.5045435335, 747552.3772807907, 2013414.443194357, 1086954.9846977221, 1096239.0628613848, 1265184.385615687, 1045855.4249445926, 765525.4489416954, 1540708.7534792216, 920019.474860383, 766467.0795337381, 909404.1759970792, 773817.5110787547, 2435335.9416295546, 2303086.36489907, 2223732.6826562076, 1760845.196260038, 1641813.1375978948, 1364084.651525424, 1324415.3628765813, 1231831.037525963, 1086352.3377078555, 1073131.464913567, 768953.8529604003, 663140.2168143356, 649916.9218826669, 623467.0950118409, 583788.7075000614, 544112.0786087281, 608536.1510064716, 491210.59548302455, 1226823.875174542, 438315.34399305686, 411865.82466339355, 411862.7153695722, 398644.84947851254, 398639.1886735334, 385416.448219295, 385406.56142411294, 372190.32217254344, 332506.8762375748, 319292.538128168, 319289.41768673266, 556411.8424625944, 1019381.9593986088, 1902960.876941023, 617231.033280303, 1097877.305983757, 1298772.7134571432, 769370.5486234224, 1530658.7972374659, 570085.1566709342, 1032841.7495463293, 626554.6412694873, 888228.854431162, 1450610.2033081858, 671403.1433167248, 732756.7894828576, 1127599.2472322434, 772748.124701307, 683761.249252564, 1089478.1546476781, 783907.9558329242, 754411.6576081677, 1988258.6650743387, 1429983.5484511217, 1053473.1113763852, 962590.9402673759, 949611.2589562569, 910660.5858062982, 858728.5614842575, 845744.1157926526, 793814.768283145, 638020.7590888602, 625030.1105961058, 586083.3196737487, 586078.5303974504, 521165.7354582604, 482216.31497702224, 469237.1376350633, 443267.2254013163, 378355.6415289729, 378354.8581622085, 365367.92810427246, 326423.1447632987, 326420.23519498267, 274488.75429463683, 274488.3181887566, 274485.89586676605, 261507.00882204226, 261506.40419802643, 261505.87232430276, 261504.7105395505, 261499.75140386433, 1076277.9826422262, 1195904.9584642183, 862515.7186882787, 649277.5252273201, 576339.2338840505, 708272.5927725264, 1233062.3679282835, 683424.3634920208, 746412.9584217008, 435224.5314097298, 920902.9130631849, 730037.1420392942, 1223821.1867162262, 811095.3089415012, 984531.9509369537, 667136.4695085512, 1193974.0042690176, 698659.0785897922, 908144.0480379595, 932871.9071554159, 689737.2308318367, 717762.9522113042, 773483.4368400269, 670973.9045124452, 1917729.847198587, 1309308.7825427977, 1076291.889132471, 998617.2845211934, 985674.4274531079, 908005.4137813388, 674986.3011077906, 584376.5515068519, 584372.7932201308, 558486.4307643916, 558483.1684265537, 545496.3425310666, 532592.6643413546, 519652.20442830096, 493755.33129887463, 493748.62353762577, 467866.3645036657, 467863.5079073253, 403145.53849758126, 390192.77876585093, 364297.9604935481, 351045.9181868724, 338412.20483597484, 325468.8952596715, 299580.40398710436, 299573.72863153846, 286627.13732974755, 286624.1790830923, 273687.1230887256, 298071.85524936114, 1414883.5900137858, 1310576.9057885243, 1149888.534720869, 695398.6062887094, 1278112.653244276, 341495.87627451296, 640404.2257628087, 1345936.3424169538, 699445.2635359481, 757073.0009004882, 3101557.5348644545, 671042.1568512346, 898967.7154438695, 1453622.071216174, 884911.5333836491, 675328.2452300747, 617449.2319845075, 784092.2025525455, 667921.0319039272, 729127.3005316422, 846669.2112062594, 754883.7765465925, 671958.1955003077, 593083.7639303483, 594392.5374938906, 1256438.7344368875, 949190.1870507876, 808359.9231888307, 641933.9911589074, 603530.7666492979, 552314.2032770638, 526713.8501473692, 526711.8640761072, 526709.7818103548, 513912.55303416116, 513908.40825691755, 475506.8345860779, 475503.2876744651, 462699.66051897034, 437097.0803644005, 437093.56201308535, 398687.60913596005, 398686.77259679954, 385888.90026077896, 385887.8508377041, 360279.9668490915, 360277.120550635, 347486.0927877371, 334674.9663562484, 321877.62922960473, 321870.993428792, 309070.42409586546, 309070.4040907662, 283469.89615628164, 283469.4566191676, 1729800.832247424, 849256.5293339377, 515464.7391381005, 1339374.3803146048, 1006664.5393754414, 477205.7939360342, 1992502.47155057, 988174.8824492124, 1118072.6882644931, 761030.4711954994, 1449313.0119048462, 1923333.912591327, 596499.2202565931, 457945.2912433014, 1119797.1278978325, 643239.8498072869, 513837.7984212998, 1161050.599960992, 695245.073732707, 666003.6981470427, 697503.1914384248, 568928.521530545, 558657.7644727158, 523830.5537340017, 518104.58241201827, 1900599.4275762665, 1683954.116089164, 1237936.5848488964, 1135981.0231684004, 715447.8089531218, 702706.1790197521, 638982.0340037032, 626243.0683473878, 600757.7836938534, 511552.72178187885, 486063.864567427, 447831.43890899624, 422346.94663343707, 384117.9709460393, 358635.2603073099, 345889.348097491, 345888.12544017506, 345887.12858796946, 333142.8758557653, 307655.92905830825, 307653.5378625993, 307653.00697346264, 307652.0073766517, 294913.1471404158, 282172.8467168931, 282172.25087012886, 282169.59786421864, 269429.5934169973, 269426.72300874535, 256682.97693694732, 2088372.677883068, 1876759.338755143, 451288.59323173214, 736868.8591887717, 475704.5461653331, 902860.3604782041, 627246.2616806176, 675266.9142924607, 465981.39736571634, 432235.11216943525, 808310.1580083225, 515172.60753593495, 838248.2406211935, 570525.791320384, 594837.103032225, 562397.533895361, 715663.1661954055, 698041.95078873, 946159.0246282896, 980865.5126452175, 584347.0363769865, 556875.0612002821, 594676.3229307438, 581860.3450152088, 601512.6659954521, 569796.8425138844, 3466037.3443319993, 2942769.1735225962, 2097380.6918834057, 1966398.2029348135, 1573454.811122864, 1537736.6009708722, 1001906.4625522317, 870921.654087275, 751851.6750823318, 692312.3454967252, 608963.7998222657, 608957.641449767, 597058.228322913, 561329.699288584, 501798.2416265088, 489893.75581450865, 477987.7994299702, 466074.79983213375, 454166.80090680683, 442258.93299534696, 418448.5431093211, 406535.9523729261, 394631.02299914096, 394630.25693619926, 382704.95841679495, 358913.6235735507, 358908.0724911665, 335093.0872646189, 323189.7845747924, 323185.3171311541, 527481.9406784859, 935739.5517227957, 1127533.5284305143, 844735.9251426877, 655574.3095571169, 1635837.243673106, 789714.1374092827, 887347.5034274927, 490199.808666141, 716460.1573750242, 1311926.0167125782, 749050.1271221938, 593631.7529027063, 514398.9476667065, 497022.4839568479, 491318.31363840034], \"Total\": [8910187.0, 6753808.0, 3477984.0, 2954005.0, 2974109.0, 2446351.0, 2400970.0, 2314098.0, 2234746.0, 2108582.0, 2237216.0, 2182631.0, 3185797.0, 1977602.0, 1999309.0, 2461315.0, 1928788.0, 1911681.0, 6890129.0, 2519684.0, 2366538.0, 2423618.0, 1771860.0, 1695041.0, 1584660.0, 1691370.0, 2195618.0, 1652832.0, 1677723.0, 1548938.0, 8910187.904464362, 2974109.2567723403, 2400970.468830315, 2237216.2832949767, 2182631.6552844336, 1691370.0439188501, 1677723.720845534, 1609493.0250175784, 1377505.5996339438, 1241046.959990497, 1159170.1399375412, 1145523.921911373, 1022708.5509254074, 981770.0496606592, 872600.1743075171, 790723.5554685267, 708846.7392968063, 735977.8444796453, 667908.3991510108, 667908.1038372834, 640616.0884082714, 626969.8368970775, 599677.2896926355, 586031.0601589468, 504154.38037659175, 490508.09321225167, 476861.9851042849, 463215.6996923792, 422277.7518875654, 394984.89815629163, 6753808.011240782, 1492587.757092382, 815124.461270451, 2519684.7275714832, 1275369.9295266955, 1343063.6874187028, 1779032.1650694027, 1409647.259893354, 892261.2596568861, 3185797.9606584897, 1263955.5695006817, 967638.4407168124, 1729180.641133342, 1420326.9268282272, 2446351.055503813, 2314098.0545942453, 2234746.094085754, 1771860.0148319942, 1652832.0502127, 1375100.5176830317, 1335424.6509211226, 1242847.2568154077, 1097368.8043244027, 1084143.624918624, 779961.5282497692, 674158.6175415254, 660933.3411521392, 634482.912272799, 594806.7120243, 555130.6455371313, 621195.2500196535, 502229.6696224537, 1255738.6513514896, 449328.22586344363, 422877.82194979314, 422877.65118433547, 409652.6256595365, 409652.4834401156, 396427.25626556366, 396426.7028885083, 383201.89710182, 343525.83486943843, 330300.6139391983, 330300.6099317821, 603990.1055289726, 1172040.593677691, 2423618.0762286885, 693397.4160393343, 1410863.6124762131, 1868442.7183771147, 961732.5642962074, 2381510.9326895075, 658123.9146726341, 1595115.9508355625, 788209.1052310528, 1395996.7036942574, 3633083.090180799, 889313.4950737389, 1169953.3593219486, 3756164.9059631927, 1487452.1567124135, 1035316.7139060692, 6890129.817078411, 2746208.631706023, 2188632.831010213, 1999309.2142967135, 1441035.39780393, 1064525.2038955553, 973643.3756462901, 960660.384964401, 921710.983448374, 869778.5342058578, 856795.5291224393, 804863.0647252669, 649065.6518580191, 636082.4088448209, 597133.295138582, 597132.9667677651, 532217.6187475519, 493268.1886375715, 480285.2722408061, 454318.9310515755, 389403.5597030977, 389403.3888429825, 376420.3135112589, 337470.79761673824, 337471.0678649053, 285538.5605867631, 285538.3327677741, 285538.480966184, 272555.40675381315, 272555.5798845886, 272555.47320970084, 272555.2751761067, 272555.3700960601, 1192865.9226568332, 1362681.1767054347, 1023459.0023823424, 751221.8407406679, 676666.8466117812, 867002.2013275978, 1667687.86863981, 851438.9875061765, 1004126.9467388883, 495668.10461071564, 1493695.0830911, 1061438.4372538307, 2732319.788492587, 1413426.3313922142, 2188632.831010213, 1085375.8975887818, 4950394.374163381, 1275370.9080294874, 3756164.9059631927, 6890129.817078411, 1414632.7610034547, 1898195.2999346592, 3569338.0559343044, 2078626.2632545764, 1928788.9415189368, 1320362.4779639314, 1087348.189640696, 1009676.6744111171, 996731.4666485246, 919059.9460022347, 686045.6451691029, 595429.1651234301, 595428.9858099615, 569538.3577731061, 569538.5206934077, 556592.7654275694, 543647.9440483538, 530702.7939524527, 504812.36101084383, 504812.3747951435, 478921.80831209285, 478921.9111122817, 414195.708928457, 401250.4345779537, 375359.87129707076, 362421.3630311534, 349469.52881545824, 336524.1458907209, 310633.60654195433, 310633.59868762194, 297688.59383464244, 297689.0100318899, 284743.1791127394, 310512.6107281626, 1601215.4124728173, 1499608.7157531846, 1307743.4129338306, 813799.1123006085, 1722929.9953733853, 362443.5188990583, 775280.1135202685, 1946443.110229372, 903066.857282923, 1007922.9583387384, 6890129.817078411, 864871.0476577264, 1368916.1258268892, 3177739.5733452747, 1492674.326435898, 1004659.7521461949, 876302.5545737417, 1695958.0819883975, 1112274.1600953361, 2078626.2632545764, 4950394.374163381, 3569338.0559343044, 2732319.788492587, 864747.5416413823, 1201912.628791315, 1267519.3845503088, 960263.9897931447, 819438.5693962891, 653008.7490966467, 614601.8150834821, 563392.6008097649, 537788.0511334912, 537787.8902915913, 537788.1367810951, 524985.6353965228, 524985.6306425177, 486578.65568444616, 486578.6754241447, 473776.3627391043, 448171.7290504579, 448171.7640874219, 409765.03919869324, 409765.0404092962, 396962.45627034066, 396962.4956076402, 371357.9491797073, 371357.90975467075, 358555.6860351423, 345753.36776157905, 332951.04000098753, 332951.24736720516, 320148.59912467125, 320148.9032362431, 294544.1277099602, 294544.2555451155, 2195618.247691374, 1029692.3518818573, 588710.5022626426, 1943308.0713976917, 1403812.22645708, 551285.875226922, 3617832.78340244, 1462620.2444492336, 1748772.319056566, 1038200.3625691356, 2746208.631706023, 4950394.374163381, 786762.4648436633, 526834.7307310256, 2934855.0382024017, 1293354.4395797849, 696917.1517951849, 6890129.817078411, 1620439.9849427964, 1464215.1474809954, 2060500.7272538384, 1246185.857158393, 1380175.0392410706, 3633083.090180799, 1735648.1359673787, 1911681.8926181907, 1695041.7739161917, 1249017.369798788, 1147069.1589180022, 726532.0727563766, 713788.4934147329, 650070.8306668767, 637327.1397810029, 611840.1441405924, 522635.2831612517, 497148.21742474224, 458917.65117744164, 433430.4933319109, 395199.8460871988, 369712.68821019947, 356968.9884160479, 356969.19581467443, 356969.1695714791, 344225.6900102078, 318738.6696787889, 318738.6107859471, 318738.60697396175, 318738.6372042784, 305995.16156922147, 293251.3944868867, 293251.46479142224, 293251.43176330277, 280507.8273822214, 280507.98827142915, 267764.3775014929, 2461315.408076423, 2366538.9730416466, 510111.0994035164, 907426.5378956951, 549093.2234528982, 1190873.1407500294, 793105.7209606959, 895456.1721358384, 550808.5494592863, 505523.6380318153, 1224862.5547298691, 671045.7098483364, 1459584.2561560606, 874703.1445134386, 948510.1008620507, 873996.989223369, 1414632.7610034547, 1364547.3277395894, 3569338.0559343044, 4950394.374163381, 1358792.1471078787, 1206877.8690548118, 1943308.0713976917, 3177739.5733452747, 6890129.817078411, 3756164.9059631927, 3477984.3756273137, 2954005.240167772, 2108582.8577065603, 1977602.220663878, 1584660.949967026, 1548938.4402457636, 1013109.220161977, 882129.228712607, 763055.4401601829, 703519.1287142572, 620167.6537365965, 620168.3125455587, 608260.1208061835, 572538.9161924154, 513001.75226276956, 501094.14287171984, 489186.81327632413, 477279.9516379218, 465372.89869532676, 453465.4413304596, 429650.560177201, 417743.65812293533, 405836.26250226155, 405836.178356479, 393930.2365569396, 370113.5700586348, 370114.12254828477, 346299.5764223976, 334391.7183513963, 334392.52036150417, 601379.6867244244, 1241109.8220169614, 1689156.768548259, 1178341.3636439466, 849119.283967955, 3185797.9606584897, 1327187.2370877878, 1636792.4587276406, 615764.6354474351, 1494617.1656776716, 6753808.011240782, 3756164.9059631927, 2215669.4255594816, 1302581.1726800883, 2519684.7275714832, 3177739.5733452747], \"Category\": [\"Default\", \"Default\", \"Default\", \"Default\", \"Default\", \"Default\", \"Default\", \"Default\", \"Default\", \"Default\", \"Default\", \"Default\", \"Default\", \"Default\", \"Default\", \"Default\", \"Default\", \"Default\", \"Default\", \"Default\", \"Default\", \"Default\", \"Default\", \"Default\", \"Default\", \"Default\", \"Default\", \"Default\", \"Default\", \"Default\", \"Topic1\", \"Topic1\", \"Topic1\", \"Topic1\", \"Topic1\", \"Topic1\", \"Topic1\", \"Topic1\", \"Topic1\", \"Topic1\", \"Topic1\", \"Topic1\", \"Topic1\", \"Topic1\", \"Topic1\", \"Topic1\", \"Topic1\", \"Topic1\", \"Topic1\", \"Topic1\", \"Topic1\", \"Topic1\", \"Topic1\", \"Topic1\", \"Topic1\", \"Topic1\", \"Topic1\", \"Topic1\", \"Topic1\", \"Topic1\", \"Topic1\", \"Topic1\", \"Topic1\", \"Topic1\", \"Topic1\", \"Topic1\", \"Topic1\", \"Topic1\", \"Topic1\", \"Topic1\", \"Topic1\", \"Topic1\", \"Topic1\", \"Topic1\", \"Topic2\", \"Topic2\", \"Topic2\", \"Topic2\", \"Topic2\", \"Topic2\", \"Topic2\", \"Topic2\", \"Topic2\", \"Topic2\", \"Topic2\", \"Topic2\", \"Topic2\", \"Topic2\", \"Topic2\", \"Topic2\", \"Topic2\", \"Topic2\", \"Topic2\", \"Topic2\", \"Topic2\", \"Topic2\", \"Topic2\", \"Topic2\", \"Topic2\", \"Topic2\", \"Topic2\", \"Topic2\", \"Topic2\", \"Topic2\", \"Topic2\", \"Topic2\", \"Topic2\", \"Topic2\", \"Topic2\", \"Topic2\", \"Topic2\", \"Topic2\", \"Topic2\", \"Topic2\", \"Topic2\", \"Topic2\", \"Topic2\", \"Topic2\", \"Topic2\", \"Topic2\", \"Topic2\", \"Topic2\", \"Topic2\", \"Topic2\", \"Topic2\", \"Topic3\", \"Topic3\", \"Topic3\", \"Topic3\", \"Topic3\", \"Topic3\", \"Topic3\", \"Topic3\", \"Topic3\", \"Topic3\", \"Topic3\", \"Topic3\", \"Topic3\", \"Topic3\", \"Topic3\", \"Topic3\", \"Topic3\", \"Topic3\", \"Topic3\", \"Topic3\", \"Topic3\", \"Topic3\", \"Topic3\", \"Topic3\", \"Topic3\", \"Topic3\", \"Topic3\", \"Topic3\", \"Topic3\", \"Topic3\", \"Topic3\", \"Topic3\", \"Topic3\", \"Topic3\", \"Topic3\", \"Topic3\", \"Topic3\", \"Topic3\", \"Topic3\", \"Topic3\", \"Topic3\", \"Topic3\", \"Topic3\", \"Topic3\", \"Topic3\", \"Topic3\", \"Topic3\", \"Topic3\", \"Topic3\", \"Topic3\", \"Topic3\", \"Topic3\", \"Topic3\", \"Topic3\", \"Topic4\", \"Topic4\", \"Topic4\", \"Topic4\", \"Topic4\", \"Topic4\", \"Topic4\", \"Topic4\", \"Topic4\", \"Topic4\", \"Topic4\", \"Topic4\", \"Topic4\", \"Topic4\", \"Topic4\", \"Topic4\", \"Topic4\", \"Topic4\", \"Topic4\", \"Topic4\", \"Topic4\", \"Topic4\", \"Topic4\", \"Topic4\", \"Topic4\", \"Topic4\", \"Topic4\", \"Topic4\", \"Topic4\", \"Topic4\", \"Topic4\", \"Topic4\", \"Topic4\", \"Topic4\", \"Topic4\", \"Topic4\", \"Topic4\", \"Topic4\", \"Topic4\", \"Topic4\", \"Topic4\", \"Topic4\", \"Topic4\", \"Topic4\", \"Topic4\", \"Topic4\", \"Topic4\", \"Topic4\", \"Topic4\", \"Topic4\", \"Topic4\", \"Topic4\", \"Topic4\", \"Topic4\", \"Topic4\", \"Topic5\", \"Topic5\", \"Topic5\", \"Topic5\", \"Topic5\", \"Topic5\", \"Topic5\", \"Topic5\", \"Topic5\", \"Topic5\", \"Topic5\", \"Topic5\", \"Topic5\", \"Topic5\", \"Topic5\", \"Topic5\", \"Topic5\", \"Topic5\", \"Topic5\", \"Topic5\", \"Topic5\", \"Topic5\", \"Topic5\", \"Topic5\", \"Topic5\", \"Topic5\", \"Topic5\", \"Topic5\", \"Topic5\", \"Topic5\", \"Topic5\", \"Topic5\", \"Topic5\", \"Topic5\", \"Topic5\", \"Topic5\", \"Topic5\", \"Topic5\", \"Topic5\", \"Topic5\", \"Topic5\", \"Topic5\", \"Topic5\", \"Topic5\", \"Topic5\", \"Topic5\", \"Topic5\", \"Topic5\", \"Topic5\", \"Topic5\", \"Topic5\", \"Topic5\", \"Topic5\", \"Topic5\", \"Topic5\", \"Topic6\", \"Topic6\", \"Topic6\", \"Topic6\", \"Topic6\", \"Topic6\", \"Topic6\", \"Topic6\", \"Topic6\", \"Topic6\", \"Topic6\", \"Topic6\", \"Topic6\", \"Topic6\", \"Topic6\", \"Topic6\", \"Topic6\", \"Topic6\", \"Topic6\", \"Topic6\", \"Topic6\", \"Topic6\", \"Topic6\", \"Topic6\", \"Topic6\", \"Topic6\", \"Topic6\", \"Topic6\", \"Topic6\", \"Topic6\", \"Topic6\", \"Topic6\", \"Topic6\", \"Topic6\", \"Topic6\", \"Topic6\", \"Topic6\", \"Topic6\", \"Topic6\", \"Topic6\", \"Topic6\", \"Topic6\", \"Topic6\", \"Topic6\", \"Topic6\", \"Topic6\", \"Topic6\", \"Topic6\", \"Topic6\", \"Topic6\", \"Topic6\", \"Topic6\", \"Topic6\", \"Topic6\", \"Topic6\", \"Topic6\", \"Topic7\", \"Topic7\", \"Topic7\", \"Topic7\", \"Topic7\", \"Topic7\", \"Topic7\", \"Topic7\", \"Topic7\", \"Topic7\", \"Topic7\", \"Topic7\", \"Topic7\", \"Topic7\", \"Topic7\", \"Topic7\", \"Topic7\", \"Topic7\", \"Topic7\", \"Topic7\", \"Topic7\", \"Topic7\", \"Topic7\", \"Topic7\", \"Topic7\", \"Topic7\", \"Topic7\", \"Topic7\", \"Topic7\", \"Topic7\", \"Topic7\", \"Topic7\", \"Topic7\", \"Topic7\", \"Topic7\", \"Topic7\", \"Topic7\", \"Topic7\", \"Topic7\", \"Topic7\", \"Topic7\", \"Topic7\", \"Topic7\", \"Topic7\", \"Topic7\", \"Topic7\"], \"logprob\": [30.0, 29.0, 28.0, 27.0, 26.0, 25.0, 24.0, 23.0, 22.0, 21.0, 20.0, 19.0, 18.0, 17.0, 16.0, 15.0, 14.0, 13.0, 12.0, 11.0, 10.0, 9.0, 8.0, 7.0, 6.0, 5.0, 4.0, 3.0, 2.0, 1.0, 6.4803, 5.3806, 5.1656, 5.0946, 5.0698, 4.8133, 4.8052, 4.7634, 4.6066, 4.5014, 4.4325, 4.4206, 4.306, 4.2647, 4.1454, 4.0455, 3.9346, 3.9712, 3.8742, 3.8742, 3.8317, 3.8098, 3.7645, 3.741, 3.5875, 3.5594, 3.5305, 3.5008, 3.4059, 3.3373, 5.9867, 4.5796, 4.0033, 4.9941, 4.3777, 4.3862, 4.5295, 4.3391, 4.0271, 4.7265, 4.2109, 4.0283, 4.1993, 4.0379, 5.2157, 5.1599, 5.1248, 4.8914, 4.8214, 4.6361, 4.6066, 4.5341, 4.4084, 4.3962, 4.0629, 3.9149, 3.8947, 3.8532, 3.7874, 3.717, 3.8289, 3.6147, 4.5301, 3.5008, 3.4386, 3.4386, 3.4059, 3.4059, 3.3722, 3.3722, 3.3373, 3.2245, 3.184, 3.184, 3.7394, 4.3448, 4.969, 3.8431, 4.419, 4.587, 4.0634, 4.7513, 3.7637, 4.3579, 3.8581, 4.2071, 4.6976, 3.9272, 4.0147, 4.4457, 4.0678, 3.9455, 4.4113, 4.0822, 4.0438, 5.0314, 4.7018, 4.3962, 4.306, 4.2924, 4.2505, 4.1918, 4.1766, 4.1132, 3.8947, 3.8742, 3.8098, 3.8098, 3.6924, 3.6147, 3.5875, 3.5305, 3.3722, 3.3722, 3.3373, 3.2245, 3.2245, 3.0513, 3.0513, 3.0513, 3.0028, 3.0028, 3.0028, 3.0028, 3.0028, 4.4176, 4.523, 4.1962, 3.9122, 3.793, 3.9992, 4.5536, 3.9635, 4.0516, 3.5122, 4.2617, 4.0294, 4.5461, 4.1347, 4.3285, 3.9393, 4.5214, 3.9855, 4.2478, 4.2746, 3.9727, 4.0125, 4.0873, 3.9451, 4.9982, 4.6165, 4.4205, 4.3456, 4.3326, 4.2505, 3.954, 3.8098, 3.8098, 3.7645, 3.7645, 3.741, 3.717, 3.6924, 3.6413, 3.6413, 3.5875, 3.5874, 3.4386, 3.4059, 3.3372, 3.3002, 3.2635, 3.2245, 3.1417, 3.1416, 3.0975, 3.0974, 3.0513, 3.1366, 4.6941, 4.6175, 4.4867, 3.9838, 4.5924, 3.2726, 3.9014, 4.6441, 3.9896, 4.0687, 5.4789, 3.9481, 4.2405, 4.7211, 4.2248, 3.9545, 3.8649, 4.1038, 3.9434, 4.0311, 4.1806, 4.0658, 3.9495, 3.8246, 3.8268, 4.5864, 4.306, 4.1454, 3.9149, 3.8532, 3.7645, 3.717, 3.717, 3.717, 3.6924, 3.6924, 3.6148, 3.6147, 3.5875, 3.5305, 3.5305, 3.4386, 3.4386, 3.4059, 3.4059, 3.3373, 3.3372, 3.3011, 3.2635, 3.2245, 3.2245, 3.1839, 3.1839, 3.0975, 3.0975, 4.9061, 4.1947, 3.6954, 4.6503, 4.3648, 3.6183, 5.0475, 4.3462, 4.4697, 4.085, 4.7292, 5.0122, 3.8415, 3.5771, 4.4713, 3.9169, 3.6923, 4.5075, 3.9946, 3.9517, 3.9979, 3.7941, 3.7759, 3.7115, 3.7006, 5.0049, 4.8839, 4.5762, 4.4902, 4.0279, 4.0099, 3.9149, 3.8947, 3.8532, 3.6924, 3.6413, 3.5594, 3.5008, 3.4059, 3.3373, 3.3011, 3.3011, 3.3011, 3.2635, 3.184, 3.1839, 3.1839, 3.1839, 3.1417, 3.0975, 3.0975, 3.0975, 3.0513, 3.0513, 3.0028, 5.0991, 4.9923, 3.5671, 4.0574, 3.6198, 4.2605, 3.8963, 3.9701, 3.5991, 3.5239, 4.1499, 3.6995, 4.1863, 3.8015, 3.8433, 3.7872, 4.0282, 4.0033, 4.3074, 4.3434, 3.8255, 3.7773, 3.843, 3.8212, 3.8544, 3.8003, 5.6736, 5.51, 5.1713, 5.1068, 4.8839, 4.8609, 4.4325, 4.2924, 4.1454, 4.0629, 3.9346, 3.9346, 3.9149, 3.8532, 3.741, 3.717, 3.6924, 3.6672, 3.6413, 3.6147, 3.5594, 3.5305, 3.5008, 3.5008, 3.4701, 3.4059, 3.4059, 3.3373, 3.3011, 3.3011, 3.791, 4.3642, 4.5506, 4.2619, 4.0084, 4.9228, 4.1945, 4.3111, 3.7177, 4.0972, 4.7021, 4.1417, 3.9091, 3.7658, 3.7315, 3.7199], \"loglift\": [30.0, 29.0, 28.0, 27.0, 26.0, 25.0, 24.0, 23.0, 22.0, 21.0, 20.0, 19.0, 18.0, 17.0, 16.0, 15.0, 14.0, 13.0, 12.0, 11.0, 10.0, 9.0, 8.0, 7.0, 6.0, 5.0, 4.0, 3.0, 2.0, 1.0, 11.4221, 11.4196, 11.4187, 11.4184, 11.4183, 11.4168, 11.4168, 11.4165, 11.4153, 11.4145, 11.4138, 11.4137, 11.4126, 11.4121, 11.4107, 11.4094, 11.4077, 11.4068, 11.4068, 11.4068, 11.4061, 11.4057, 11.4049, 11.4044, 11.4014, 11.4007, 11.4001, 11.3994, 11.3971, 11.3952, 11.2056, 11.3081, 11.3368, 11.199, 11.2635, 11.2202, 11.0825, 11.1248, 11.2701, 10.6969, 11.1057, 11.1903, 10.7807, 10.816, 11.4501, 11.4499, 11.4497, 11.4484, 11.448, 11.4466, 11.4464, 11.4457, 11.4446, 11.4444, 11.4404, 11.4382, 11.4378, 11.4371, 11.4359, 11.4346, 11.4341, 11.4325, 11.4313, 11.4298, 11.4283, 11.4282, 11.4274, 11.4274, 11.4265, 11.4265, 11.4255, 11.422, 11.4207, 11.4207, 11.3726, 11.3151, 11.2128, 11.3383, 11.2038, 11.091, 11.2315, 11.0126, 11.311, 11.02, 11.2251, 11.0025, 10.5365, 11.1736, 10.9867, 10.2513, 10.7998, 11.0398, 9.6103, 10.201, 10.3895, 11.4676, 11.4654, 11.4627, 11.4617, 11.4616, 11.4611, 11.4603, 11.4601, 11.4593, 11.456, 11.4556, 11.4544, 11.4544, 11.4521, 11.4505, 11.4499, 11.4485, 11.4443, 11.4443, 11.4433, 11.4398, 11.4398, 11.4337, 11.4337, 11.4336, 11.4317, 11.4317, 11.4317, 11.4317, 11.4317, 11.3703, 11.3426, 11.302, 11.3273, 11.3126, 11.2709, 11.1712, 11.2533, 11.1765, 11.3431, 10.9895, 11.0988, 10.67, 10.9177, 10.6743, 10.9864, 10.0509, 10.8713, 10.0534, 9.4735, 10.7548, 10.5006, 9.9439, 10.3424, 11.4703, 11.4676, 11.4658, 11.465, 11.4649, 11.4639, 11.4598, 11.4573, 11.4573, 11.4565, 11.4564, 11.4559, 11.4555, 11.455, 11.4539, 11.4539, 11.4527, 11.4527, 11.449, 11.4481, 11.4461, 11.4442, 11.4439, 11.4426, 11.4398, 11.4398, 11.4382, 11.4382, 11.4364, 11.4352, 11.3523, 11.3413, 11.3474, 11.3188, 11.1774, 11.4165, 11.2849, 11.1071, 11.2205, 11.1899, 10.6779, 11.2223, 11.0555, 10.6939, 10.9532, 11.0788, 11.1259, 10.7046, 10.9661, 10.4284, 9.7101, 9.9225, 10.0733, 11.0989, 10.7719, 11.4784, 11.4756, 11.4735, 11.47, 11.469, 11.4673, 11.4663, 11.4663, 11.4663, 11.4658, 11.4658, 11.4641, 11.4641, 11.4635, 11.4621, 11.4621, 11.4597, 11.4597, 11.4589, 11.4589, 11.4569, 11.4569, 11.4558, 11.4546, 11.4533, 11.4533, 11.4519, 11.4519, 11.4488, 11.4488, 11.2487, 11.2945, 11.3543, 11.115, 11.1546, 11.3428, 10.8907, 11.095, 11.0398, 11.1766, 10.848, 10.5417, 11.2103, 11.347, 10.5236, 10.7887, 11.1824, 9.7064, 10.641, 10.6994, 10.404, 10.7031, 10.5827, 9.5505, 10.2782, 11.4859, 11.4852, 11.4828, 11.482, 11.4764, 11.4761, 11.4745, 11.4742, 11.4735, 11.4703, 11.4692, 11.4673, 11.4658, 11.4633, 11.4613, 11.4602, 11.4602, 11.4602, 11.459, 11.4564, 11.4564, 11.4564, 11.4563, 11.4549, 11.4532, 11.4532, 11.4532, 11.4515, 11.4514, 11.4495, 11.3274, 11.2599, 11.3692, 11.2835, 11.3483, 11.2149, 11.2571, 11.2095, 11.3245, 11.3351, 11.0761, 11.2274, 10.9372, 11.0644, 11.0251, 11.0509, 10.8103, 10.8215, 10.164, 9.873, 10.6479, 10.7183, 10.3076, 9.7941, 9.0534, 9.6059, 11.5562, 11.5558, 11.5543, 11.5539, 11.5525, 11.5524, 11.5485, 11.5468, 11.5448, 11.5436, 11.5414, 11.5414, 11.541, 11.5398, 11.5375, 11.537, 11.5365, 11.5359, 11.5352, 11.5346, 11.5332, 11.5324, 11.5316, 11.5316, 11.5307, 11.5289, 11.5289, 11.5267, 11.5255, 11.5255, 11.4285, 11.2772, 11.1554, 11.2268, 11.3009, 10.8931, 11.0405, 10.9474, 11.3316, 10.8243, 9.921, 9.9473, 10.2426, 10.6305, 9.9364, 9.6928]}, \"token.table\": {\"Topic\": [1, 2, 3, 4, 5, 6, 7, 1, 2, 3, 4, 5, 6, 7, 1, 2, 3, 4, 5, 6, 7, 1, 2, 3, 4, 5, 6, 7, 1, 2, 3, 4, 5, 6, 7, 1, 2, 3, 4, 5, 6, 7, 1, 2, 3, 4, 5, 6, 7, 1, 2, 3, 4, 5, 6, 7, 1, 2, 3, 4, 5, 6, 7, 1, 2, 3, 4, 5, 6, 7, 1, 2, 3, 4, 5, 6, 7, 1, 2, 3, 4, 5, 6, 7, 1, 2, 3, 4, 5, 6, 7, 1, 2, 3, 4, 5, 6, 7, 1, 2, 3, 4, 5, 6, 7, 1, 2, 3, 4, 5, 6, 7, 1, 2, 3, 4, 5, 6, 7, 1, 2, 3, 4, 5, 6, 7, 1, 2, 3, 4, 5, 6, 7, 1, 2, 3, 4, 5, 6, 7, 1, 2, 3, 4, 5, 6, 7, 1, 2, 3, 4, 5, 6, 7, 1, 2, 3, 4, 5, 6, 7, 1, 2, 3, 4, 5, 6, 7, 1, 2, 3, 4, 5, 6, 7, 1, 2, 3, 4, 5, 6, 7, 1, 2, 3, 4, 5, 6, 7, 1, 2, 3, 4, 5, 6, 7, 1, 2, 3, 4, 5, 6, 7, 1, 2, 3, 4, 5, 6, 7, 1, 2, 3, 4, 5, 6, 7, 1, 2, 3, 4, 5, 6, 7, 1, 2, 3, 4, 5, 6, 7, 1, 2, 3, 4, 5, 6, 7, 1, 2, 3, 4, 5, 6, 7, 1, 2, 3, 4, 5, 6, 7, 1, 2, 3, 4, 5, 6, 7, 1, 2, 3, 4, 5, 6, 7, 1, 2, 3, 4, 5, 6, 7, 1, 2, 3, 4, 5, 6, 7, 1, 2, 3, 4, 5, 6, 7, 1, 2, 3, 4, 5, 6, 7, 1, 2, 3, 4, 5, 6, 7, 1, 2, 3, 4, 5, 6, 7, 1, 2, 3, 4, 5, 6, 7, 1, 2, 3, 4, 5, 6, 7, 1, 2, 3, 4, 5, 6, 7, 1, 2, 3, 4, 5, 6, 7, 1, 2, 3, 4, 5, 6, 7, 1, 2, 3, 4, 5, 6, 7, 1, 2, 3, 4, 5, 6, 7, 1, 2, 3, 4, 5, 6, 7, 1, 2, 3, 4, 5, 6, 7, 1, 2, 3, 4, 5, 6, 7, 1, 2, 3, 4, 5, 6, 7, 1, 2, 3, 4, 5, 6, 7, 1, 2, 3, 4, 5, 6, 7, 1, 2, 3, 4, 5, 6, 7, 1, 2, 3, 4, 5, 6, 7, 1, 2, 3, 4, 5, 6, 7, 1, 2, 3, 4, 5, 6, 7, 1, 2, 3, 4, 5, 6, 7, 1, 2, 3, 4, 5, 6, 7, 1, 2, 3, 4, 5, 6, 7, 1, 2, 3, 4, 5, 6, 7, 1, 2, 3, 4, 5, 6, 7, 1, 2, 3, 4, 5, 6, 7, 1, 2, 3, 4, 5, 6, 7, 1, 2, 3, 4, 5, 6, 7, 1, 2, 3, 4, 5, 6, 7, 1, 2, 3, 4, 5, 6, 7, 1, 2, 3, 4, 5, 6, 7, 1, 2, 3, 4, 5, 6, 7, 1, 2, 3, 4, 5, 6, 7, 1, 2, 3, 4, 5, 6, 7, 1, 2, 3, 4, 5, 6, 7, 1, 2, 3, 4, 5, 6, 7, 1, 2, 3, 4, 5, 6, 7, 1, 2, 3, 4, 5, 6, 7, 1, 2, 3, 4, 5, 6, 7, 1, 2, 3, 4, 5, 6, 7, 1, 2, 3, 4, 5, 6, 7, 1, 2, 3, 4, 5, 6, 7, 1, 2, 3, 4, 5, 6, 7, 1, 2, 3, 4, 5, 6, 7, 1, 2, 3, 4, 5, 6, 7, 1, 2, 3, 4, 5, 6, 7, 1, 2, 3, 4, 5, 6, 7, 1, 2, 3, 4, 5, 6, 7, 1, 2, 3, 4, 5, 6, 7, 1, 2, 3, 4, 5, 6, 7, 1, 2, 3, 4, 5, 6, 7, 1, 2, 3, 4, 5, 6, 7, 1, 2, 3, 4, 5, 6, 7, 1, 2, 3, 4, 5, 6, 7, 1, 2, 3, 4, 5, 6, 7, 1, 2, 3, 4, 5, 6, 7, 1, 2, 3, 4, 5, 6, 7, 1, 2, 3, 4, 5, 6, 7, 1, 2, 3, 4, 5, 6, 7, 1, 2, 3, 4, 5, 6, 7, 1, 2, 3, 4, 5, 6, 7, 1, 2, 3, 4, 5, 6, 7, 1, 2, 3, 4, 5, 6, 7, 1, 2, 3, 4, 5, 6, 7, 1, 2, 3, 4, 5, 6, 7, 1, 2, 3, 4, 5, 6, 7, 1, 2, 3, 4, 5, 6, 7, 1, 2, 3, 4, 5, 6, 7, 1, 2, 3, 4, 5, 6, 7, 1, 2, 3, 4, 5, 6, 7, 1, 2, 3, 4, 5, 6, 7, 1, 2, 3, 4, 5, 6, 7, 1, 2, 3, 4, 5, 6, 7, 1, 2, 3, 4, 5, 6, 7, 1, 2, 3, 4, 5, 6, 7, 1, 2, 3, 4, 5, 6, 7, 1, 2, 3, 4, 5, 6, 7, 1, 2, 3, 4, 5, 6, 7, 1, 2, 3, 4, 5, 6, 7, 1, 2, 3, 4, 5, 6, 7, 1, 2, 3, 4, 5, 6, 7, 1, 2, 3, 4, 5, 6, 7, 1, 2, 3, 4, 5, 6, 7, 1, 2, 3, 4, 5, 6, 7, 1, 2, 3, 4, 5, 6, 7, 1, 2, 3, 4, 5, 6, 7, 1, 2, 3, 4, 5, 6, 7, 1, 2, 3, 4, 5, 6, 7, 1, 2, 3, 4, 5, 6, 7, 1, 2, 3, 4, 5, 6, 7, 1, 2, 3, 4, 5, 6, 7, 1, 2, 3, 4, 5, 6, 7, 1, 2, 3, 4, 5, 6, 7, 1, 2, 3, 4, 5, 6, 7, 1, 2, 3, 4, 5, 6, 7, 1, 2, 3, 4, 5, 6, 7, 1, 2, 3, 4, 5, 6, 7, 1, 2, 3, 4, 5, 6, 7, 1, 2, 3, 4, 5, 6, 7, 1, 2, 3, 4, 5, 6, 7, 1, 2, 3, 4, 5, 6, 7, 1, 2, 3, 4, 5, 6, 7, 1, 2, 3, 4, 5, 6, 7, 1, 2, 3, 4, 5, 6, 7, 1, 2, 3, 4, 5, 6, 7, 1, 2, 3, 4, 5, 6, 7, 1, 2, 3, 4, 5, 6, 7, 1, 2, 3, 4, 5, 6, 7, 1, 2, 3, 4, 5, 6, 7, 1, 2, 3, 4, 5, 6, 7, 1, 2, 3, 4, 5, 6, 7, 1, 2, 3, 4, 5, 6, 7, 1, 2, 3, 4, 5, 6, 7, 1, 2, 3, 4, 5, 6, 7, 1, 2, 3, 4, 5, 6, 7, 1, 2, 3, 4, 5, 6, 7, 1, 2, 3, 4, 5, 6, 7, 1, 2, 3, 4, 5, 6, 7, 1, 2, 3, 4, 5, 6, 7, 1, 2, 3, 4, 5, 6, 7, 1, 2, 3, 4, 5, 6, 7, 1, 2, 3, 4, 5, 6, 7, 1, 2, 3, 4, 5, 6, 7, 1, 2, 3, 4, 5, 6, 7, 1, 2, 3, 4, 5, 6, 7, 1, 2, 3, 4, 5, 6, 7, 1, 2, 3, 4, 5, 6, 7, 1, 2, 3, 4, 5, 6, 7, 1, 2, 3, 4, 5, 6, 7, 1, 2, 3, 4, 5, 6, 7, 1, 2, 3, 4, 5, 6, 7, 1, 2, 3, 4, 5, 6, 7, 1, 2, 3, 4, 5, 6, 7, 1, 2, 3, 4, 5, 6, 7, 1, 2, 3, 4, 5, 6, 7, 1, 2, 3, 4, 5, 6, 7, 1, 2, 3, 4, 5, 6, 7, 1, 2, 3, 4, 5, 6, 7, 1, 2, 3, 4, 5, 6, 7, 1, 2, 3, 4, 5, 6, 7, 1, 2, 3, 4, 5, 6, 7, 1, 2, 3, 4, 5, 6, 7, 1, 2, 3, 4, 5, 6, 7, 1, 2, 3, 4, 5, 6, 7, 1, 2, 3, 4, 5, 6, 7, 1, 2, 3, 4, 5, 6, 7, 1, 2, 3, 4, 5, 6, 7, 1, 2, 3, 4, 5, 6, 7, 1, 2, 3, 4, 5, 6, 7, 1, 2, 3, 4, 5, 6, 7, 1, 2, 3, 4, 5, 6, 7, 1, 2, 3, 4, 5, 6, 7, 1, 2, 3, 4, 5, 6, 7, 1, 2, 3, 4, 5, 6, 7, 1, 2, 3, 4, 5, 6, 7, 1, 2, 3, 4, 5, 6, 7, 1, 2, 3, 4, 5, 6, 7, 1, 2, 3, 4, 5, 6, 7, 1, 2, 3, 4, 5, 6, 7, 1, 2, 3, 4, 5, 6, 7, 1, 2, 3, 4, 5, 6, 7, 1, 2, 3, 4, 5, 6, 7, 1, 2, 3, 4, 5, 6, 7, 1, 2, 3, 4, 5, 6, 7, 1, 2, 3, 4, 5, 6, 7, 1, 2, 3, 4, 5, 6, 7, 1, 2, 3, 4, 5, 6, 7, 1, 2, 3, 4, 5, 6, 7, 1, 2, 3, 4, 5, 6, 7, 1, 2, 3, 4, 5, 6, 7, 1, 2, 3, 4, 5, 6, 7, 1, 2, 3, 4, 5, 6, 7, 1, 2, 3, 4, 5, 6, 7, 1, 2, 3, 4, 5, 6, 7, 1, 2, 3, 4, 5, 6, 7, 1, 2, 3, 4, 5, 6, 7, 1, 2, 3, 4, 5, 6, 7, 1, 2, 3, 4, 5, 6, 7, 1, 2, 3, 4, 5, 6, 7, 1, 2, 3, 4, 5, 6, 7, 1, 2, 3, 4, 5, 6, 7, 1, 2, 3, 4, 5, 6, 7, 1, 2, 3, 4, 5, 6, 7, 1, 2, 3, 4, 5, 6, 7, 1, 2, 3, 4, 5, 6, 7, 1, 2, 3, 4, 5, 6, 7, 1, 2, 3, 4, 5, 6, 7, 1, 2, 3, 4, 5, 6, 7, 1, 2, 3, 4, 5, 6, 7, 1, 2, 3, 4, 5, 6, 7, 1, 2, 3, 4, 5, 6, 7, 1, 2, 3, 4, 5, 6, 7, 1, 2, 3, 4, 5, 6, 7, 1, 2, 3, 4, 5, 6, 7, 1, 2, 3, 4, 5, 6, 7, 1, 2, 3, 4, 5, 6, 7, 1, 2, 3, 4, 5, 6, 7, 1, 2, 3, 4, 5, 6, 7, 1, 2, 3, 4, 5, 6, 7, 1, 2, 3, 4, 5, 6, 7, 1, 2, 3, 4, 5, 6, 7, 1, 2, 3, 4, 5, 6, 7, 1, 2, 3, 4, 5, 6, 7, 1, 2, 3, 4, 5, 6, 7, 1, 2, 3, 4, 5, 6, 7, 1, 2, 3, 4, 5, 6, 7, 1, 2, 3, 4, 5, 6, 7, 1, 2, 3, 4, 5, 6, 7, 1, 2, 3, 4, 5, 6, 7, 1, 2, 3, 4, 5, 6, 7, 1, 2, 3, 4, 5, 6, 7, 1, 2, 3, 4, 5, 6, 7, 1, 2, 3, 4, 5, 6, 7, 1, 2, 3, 4, 5, 6, 7, 1, 2, 3, 4, 5, 6, 7, 1, 2, 3, 4, 5, 6, 7, 1, 2, 3, 4, 5, 6, 7, 1, 2, 3, 4, 5, 6, 7, 1, 2, 3, 4, 5, 6, 7, 1, 2, 3, 4, 5, 6, 7, 1, 2, 3, 4, 5, 6, 7, 1, 2, 3, 4, 5, 6, 7, 1, 2, 3, 4, 5, 6, 7, 1, 2, 3, 4, 5, 6, 7, 1, 2, 3, 4, 5, 6, 7, 1, 2, 3, 4, 5, 6, 7, 1, 2, 3, 4, 5, 6, 7, 1, 2, 3, 4, 5, 6, 7, 1, 2, 3, 4, 5, 6, 7, 1, 2, 3, 4, 5, 6, 7, 1, 2, 3, 4, 5, 6, 7, 1, 2, 3, 4, 5, 6, 7, 1, 2, 3, 4, 5, 6, 7, 1, 2, 3, 4, 5, 6, 7, 1, 2, 3, 4, 5, 6, 7, 1, 2, 3, 4, 5, 6, 7, 1, 2, 3, 4, 5, 6, 7, 1, 2, 3, 4, 5, 6, 7, 1, 2, 3, 4, 5, 6, 7, 1, 2, 3, 4, 5, 6, 7, 1, 2, 3, 4, 5, 6, 7, 1, 2, 3, 4, 5, 6, 7, 1, 2, 3, 4, 5, 6, 7, 1, 2, 3, 4, 5, 6, 7, 1, 2, 3, 4, 5, 6, 7, 1, 2, 3, 4, 5, 6, 7, 1, 2, 3, 4, 5, 6, 7, 1, 2, 3, 4, 5, 6, 7, 1, 2, 3, 4, 5, 6, 7, 1, 2, 3, 4, 5, 6, 7, 1, 2, 3, 4, 5, 6, 7, 1, 2, 3, 4, 5, 6, 7, 1, 2, 3, 4, 5, 6, 7, 1, 2, 3, 4, 5, 6, 7, 1, 2, 3, 4, 5, 6, 7, 1, 2, 3, 4, 5, 6, 7, 1, 2, 3, 4, 5, 6, 7, 1, 2, 3, 4, 5, 6, 7, 1, 2, 3, 4, 5, 6, 7, 1, 2, 3, 4, 5, 6, 7, 1, 2, 3, 4, 5, 6, 7, 1, 2, 3, 4, 5, 6, 7, 1, 2, 3, 4, 5, 6, 7, 1, 2, 3, 4, 5, 6, 7, 1, 2, 3, 4, 5, 6, 7, 1, 2, 3, 4, 5, 6, 7, 1, 2, 3, 4, 5, 6, 7, 1, 2, 3, 4, 5, 6, 7, 1, 2, 3, 4, 5, 6, 7, 1, 2, 3, 4, 5, 6, 7, 1, 2, 3, 4, 5, 6, 7, 1, 2, 3, 4, 5, 6, 7, 1, 2, 3, 4, 5, 6, 7, 1, 2, 3, 4, 5, 6, 7, 1, 2, 3, 4, 5, 6, 7, 1, 2, 3, 4, 5, 6, 7, 1, 2, 3, 4, 5, 6, 7, 1, 2, 3, 4, 5, 6, 7, 1, 2, 3, 4, 5, 6, 7, 1, 2, 3, 4, 5, 6, 7, 1, 2, 3, 4, 5, 6, 7, 1, 2, 3, 4, 5, 6, 7, 1, 2, 3, 4, 5, 6, 7, 1, 2, 3, 4, 5, 6, 7, 1, 2, 3, 4, 5, 6, 7, 1, 2, 3, 4, 5, 6, 7, 1, 2, 3, 4, 5, 6, 7, 1, 2, 3, 4, 5, 6, 7, 1, 2, 3, 4, 5, 6, 7, 1, 2, 3, 4, 5, 6, 7, 1, 2, 3, 4, 5, 6, 7, 1, 2, 3, 4, 5, 6, 7, 1, 2, 3, 4, 5, 6, 7, 1, 2, 3, 4, 5, 6, 7, 1, 2, 3, 4, 5, 6, 7, 1, 2, 3, 4, 5, 6, 7], \"Freq\": [0.002243099735476158, 0.002175266375971753, 0.9872961520992853, 0.0021281279397059806, 0.002107433016467349, 0.0020936364009749276, 0.0019579696819661185, 0.004611260980793447, 0.97395980262332, 0.004388974554026994, 0.0043771508079223954, 0.004332220572724921, 0.004308573080515724, 0.004024803174005357, 0.004760130602996918, 0.9731293662726698, 0.004528226804389375, 0.004513580248687846, 0.004464758396349416, 0.004447670748030966, 0.004154739634000386, 0.9934686976709064, 0.0011271224078819007, 0.001106856854276409, 0.0011038766258050132, 0.0010925517576137092, 0.0010859952549766383, 0.0010150658173574178, 0.0030672126329404077, 0.002972885232644957, 0.9826242501110932, 0.0029100002991146565, 0.002878557832349506, 0.0028675529689817037, 0.002678898168390802, 0.0019277289764352873, 0.0018665312311516274, 0.0018329711772863944, 0.0018260617544317878, 0.0018063205462757685, 0.0017984240630133607, 0.988941744938235, 0.006832704276489636, 0.006619072825507643, 0.9612924992498895, 0.006489493092944796, 0.006419449994262175, 0.006384428444920864, 0.005964169852825141, 0.9829053802949572, 0.0029502849431959364, 0.002897211034164898, 0.002889406047542687, 0.0028566251037293986, 0.002842576127809418, 0.0026568174462007848, 0.001233071339355374, 0.0011926841511676852, 0.0011718595072584082, 0.0011680732083658122, 0.0011554522120571595, 0.0011504038135336985, 0.9929284873415609, 0.0013912117042383593, 0.11547698256562824, 0.16220616668561397, 0.001319977105967066, 0.7170937686877152, 0.001298606726485678, 0.001213837554542839, 0.34970680427730383, 0.0012914768729535657, 0.0012682562417106144, 0.0012641584832559759, 0.45485392030384275, 0.1904508367364909, 0.0011644463608597724, 0.004009629066253956, 0.0038883742661980957, 0.003816443452605636, 0.003802057289887144, 0.9772376473044361, 0.0037465678051158183, 0.0034999478727988143, 0.002479782764404859, 0.23014061815465411, 0.0023615768202276924, 0.0023526795986229597, 0.7581691128573727, 0.0023298010287822178, 0.0021658379449235672, 0.0038031059180489105, 0.0036841979421386164, 0.003619870676482228, 0.003610124121079745, 0.003569188588389316, 0.003551644788664846, 0.9781604015710442, 0.002250282637128867, 0.002181078660589794, 0.8169218012543179, 0.0021360960758393965, 0.0021130280836597053, 0.17243208814358202, 0.0019653929337096823, 0.9776678644780044, 0.0038551861348834673, 0.0037858702551446847, 0.0037736380410731346, 0.0037328639941679688, 0.003714515673060644, 0.0034719100939749046, 0.0025984335041103488, 0.0025172324571069004, 0.8642959573164749, 0.0024653170336128923, 0.0024373625748084263, 0.12341893562171669, 0.0022669734925716825, 0.005639858297330195, 0.005492354311092329, 0.005365095970024365, 0.005350634794903005, 0.9679587567481964, 0.00526675997919912, 0.004928368481359309, 0.9740745236076743, 0.004475727152453029, 0.004392843316296492, 0.0043833708778786016, 0.0043312724665802065, 0.004312327589744426, 0.004030522546812199, 0.990553466173541, 0.0016322021546396506, 0.0016002827678945834, 0.001595969337253358, 0.0015787156146884569, 0.0015709514395342513, 0.0014691544764013345, 0.003828577739797632, 0.0037089959465935072, 0.0036423437995617, 0.0036286212987022104, 0.09716902858604672, 0.8846876700540367, 0.0033365280661216434, 0.9874453677296008, 0.0021659404337156783, 0.0021269764259133853, 0.0021201004245365103, 0.0020983264201764056, 0.002088012418111093, 0.0019550763914915063, 0.7111642076188338, 0.0010634996022830146, 0.0010438259838475466, 0.001041015466928194, 0.0010297733992507836, 0.08318511767561365, 0.20147246746717323, 0.0022334173047146777, 0.00216476718264353, 0.0021258654468032127, 0.10943172708751327, 0.11829789035300202, 0.6434781892094904, 0.12226929991481793, 0.0005196789940987559, 0.3001995461407598, 0.24177426250861708, 0.05740935379531845, 0.04898187502575077, 0.15169648145516845, 0.1994188271156112, 0.0006145878083848246, 0.13164483443166863, 0.0005846923440752709, 0.45743899600612675, 0.0719992921758351, 0.18310499855954637, 0.15461241824885574, 0.003281738353887731, 0.9814768196095106, 0.0031270662593397437, 0.0031136165119877448, 0.0030766297067697478, 0.003061498740998749, 0.0028647961859757654, 0.003924382973967598, 0.003805706092643104, 0.003733293080309514, 0.0037252471900502265, 0.003685017738753788, 0.9777044007476098, 0.0034235263053269357, 0.9817380283014409, 0.0031516951408460357, 0.0030933304160155536, 0.0030849925981826275, 0.0030533088904175086, 0.003038300818318242, 0.002843195881027773, 0.0014324700695722283, 0.0013884392272698032, 0.8776117410613605, 0.11563526574937208, 0.001343674537595671, 0.0013392714533654287, 0.0012497420740171644, 0.00355495190365875, 0.003447502025423163, 0.003381939387855686, 0.11683262014524393, 0.0033327674096800784, 0.8663465140010173, 0.0031014769938170345, 0.0015689779973418097, 0.9911362745864403, 0.0014957590241325251, 0.0014901267954241185, 0.0014732301092988992, 0.0014659886723880908, 0.0013694361802439794, 0.004914822470443713, 0.004763674675350621, 0.004672985998294766, 0.004662909478621893, 0.972104525011304, 0.004592373840911783, 0.004290078250725598, 0.9836034414824978, 0.002829729349716832, 0.0027773269543517054, 0.002772835320463266, 0.0027428910945403364, 0.0027264217702827253, 0.002548253626041295, 0.0022343881000694175, 0.0021579304888821598, 0.0021168487873487077, 0.7046070980591225, 0.0020894609863264064, 0.284847965690821, 0.0019468161893352535, 0.0037330047604115673, 0.0036182019487125956, 0.0035512336418881954, 0.003541666740913281, 0.0035033991370136235, 0.978795378884069, 0.003256573091860834, 0.0012046111044766079, 0.2702050085584976, 0.1802158689698767, 0.11715089837572815, 0.4290470529363931, 0.0011250030960352749, 0.001051566251039006, 0.0038866680287275683, 0.9780604964443123, 0.0036995026625900726, 0.003689547058008291, 0.0036457423978484517, 0.003629813430517601, 0.003386896678722128, 0.0035420655723576613, 0.1373090524361775, 0.003375038390062989, 0.003360514287254757, 0.003326019543085205, 0.8459944938353641, 0.003091818385302459, 0.0011810032360812465, 0.9933332305534117, 0.0011241311540158587, 0.0011205010211180679, 0.0011084005781254321, 0.0011023503566291142, 0.0010297476986733001, 0.9171016642475277, 0.0023198911207408645, 0.07173505737867826, 0.0022708188601223375, 0.002247509536328537, 0.0022364682776893686, 0.0020880246893183246, 0.0024752314925721272, 0.7949096195943256, 0.00235597379892693, 0.0023483616057155344, 0.1934347103936415, 0.0023141067362642547, 0.002161862872036343, 0.891175070731651, 0.0012675971586995247, 0.10272628813376361, 0.0012421380191484773, 0.0012267285399465274, 0.0012206987437370688, 0.0011423113930141067, 0.005250998408159447, 0.005089429226369926, 0.005008644635475165, 0.004987102077903228, 0.9701690802521464, 0.004911703126401452, 0.004583179123429425, 0.0009763372198965455, 0.0009458266817747784, 0.9944729838597776, 0.0009258197715309968, 0.000915816316409106, 0.0009113147616042551, 0.0008517942036290046, 0.0015131196369000254, 0.16153576591725294, 0.12190857755220436, 0.0014334817612737083, 0.497342399202643, 0.13507666162785295, 0.08118965442614255, 0.0020317329617038694, 0.0019692501438144626, 0.0019338432136771324, 0.0019265535515900348, 0.9884677652074298, 0.001897394903241645, 0.0017734706477609888, 0.9954383158924688, 0.0007875981918766547, 0.0007730207531058018, 0.0007713547601034186, 0.0007626082968409068, 0.0007584433143349488, 0.0007088800225140488, 0.003625964874260557, 0.003518115662615884, 0.00345489371096211, 0.003441877426798098, 0.9794047235136033, 0.0033879528209757614, 0.003166675990187553, 0.002555515493855401, 0.0024768842478906194, 0.002434947583376069, 0.002425773938013511, 0.002400874043457997, 0.0023877688357972003, 0.9853176590185492, 0.23858887807267162, 0.0015228305879720697, 0.0014970472129376218, 0.0014914070996488364, 0.0014760982207221332, 0.001469652376963521, 0.7539542298354415, 0.007282522112147378, 0.007062179135420867, 0.006935201826798811, 0.00691652869317792, 0.0068306322785218225, 0.9586151914422182, 0.006356334684551199, 0.0043122578236830765, 0.8662274494060489, 0.006126505829841496, 0.002812540250753127, 0.0027821508369146276, 0.11515004744615032, 0.002589178059040156, 0.0014365699744105342, 0.0013931490581757895, 0.001368862782993644, 0.25250734685969584, 0.19226487329651804, 0.4300488498139715, 0.12098023995052483, 0.005385666726582131, 0.005220123691953582, 0.03240504902853849, 0.9422047358918502, 0.005049062556170748, 0.0050352673032850355, 0.004698663132873653, 0.0017951931300359456, 0.0017390933447223225, 0.0017078246119245652, 0.9898319694224632, 0.0016848328966320965, 0.001676555879126808, 0.00156527597711126, 0.7990737801314389, 0.0007500938428204132, 0.0007366000911506281, 0.0007346157159050714, 0.0007262813398737335, 0.0007227094644317316, 0.19725563065941135, 0.727888718717738, 0.0014960968926676975, 0.0014691972129476016, 0.264904881215304, 0.0014478357025816428, 0.0014415063661769143, 0.0013513133224095334, 0.006951677670452026, 0.006741344858884503, 0.006616571157107159, 0.00659161641675169, 0.006523882121501132, 0.9605079562819946, 0.0060675668692868456, 0.19042578284575026, 0.001119493486460238, 0.0010987730887732426, 0.001096997054685786, 0.1376686902778475, 0.0010780526910862472, 0.6675129395888197, 0.09969312690425007, 0.0009725431943278967, 0.0009540479196338639, 0.6914848900163297, 0.12560089668954705, 0.08041899564254623, 0.0008749292445538342, 0.0021810112664048227, 0.0021140063119837837, 0.0020738033393311603, 0.23557936900121035, 0.002044767859082043, 0.7541039092838635, 0.0019029407055575105, 0.22280795529726144, 0.1100892559357739, 0.0013623565575255534, 0.0013579594949407478, 0.15157773995470566, 0.5115557268037936, 0.0012494986178488803, 0.003861342681422051, 0.003744632016358577, 0.0036714405823357207, 0.003665506141739273, 0.003623965057564138, 0.8550243104018751, 0.12640951914493512, 0.007169185473437296, 0.00694170875933642, 0.9594380764093413, 0.006794949588948758, 0.006714232045235543, 0.0066922181696773934, 0.006255609637774099, 0.0022546713816829194, 0.0021864531193653337, 0.0021482971421368535, 0.7758867657985997, 0.12234771910398877, 0.09320927116050608, 0.0019679234316022196, 0.0034238255832750165, 0.0033184771037896316, 0.0032570238240898237, 0.9805941818979133, 0.0032131286243042463, 0.0031990821603728615, 0.0029918968173849375, 0.0036315416172799705, 0.0035181140501247847, 0.0034493137225060653, 0.003443735317564007, 0.9794005556771804, 0.0033916702047714626, 0.0031648150704610906, 0.0008435251894899779, 0.995241318935305, 0.0008020403441052248, 0.0007994475412686779, 0.0007908048651468543, 0.0007869156608920337, 0.0007354917379671836, 0.003147535973924032, 0.00304756300753915, 0.00299273912274744, 0.0029862892539484157, 0.002952427442753536, 0.002939527705155487, 0.9819344758323126, 0.004115865951450625, 0.0039934453231510675, 0.003919570806073749, 0.003906906603146208, 0.976621115762156, 0.0038478069894843535, 0.0035945229309335457, 0.004707919367500784, 0.00456788894528794, 0.004480973510811002, 0.9733224929899851, 0.004415786934953299, 0.004396472393958424, 0.004109168596659658, 0.0019332921612143638, 0.0018738671972426107, 0.0018392026349257548, 0.9890463207763341, 0.001812461401138466, 0.0018065189047412906, 0.0016876689767977846, 0.0008923378888995961, 0.34469555117282236, 0.44983881537844195, 0.0008461903585468775, 0.20211704482008466, 0.0008320262650722808, 0.0007781113286205899, 0.006283930676677902, 0.006090777069812803, 0.0059813233592559125, 0.964396643716755, 0.005891185009385533, 0.005865431195136854, 0.005488781661749909, 0.17549360418763574, 0.0005306306016184364, 0.2167020853387714, 0.21149131524399775, 0.11267719495813495, 0.2650796828916041, 0.01802547110745965, 0.001460209678363334, 0.9917556929074743, 0.0013898200836114604, 0.0013853271307549579, 0.0013703506212332827, 0.0013636111919485287, 0.0012745009602945611, 0.000561819660172442, 0.0005434181974032319, 0.0005339299431628581, 0.0007458342878645417, 0.0005261668260570976, 0.0005238666432109463, 0.9965648564406909, 0.0016347185068853552, 0.0015869344274533218, 0.9022623411043879, 0.0015508867885835422, 0.09001179257502274, 0.0015265755902760163, 0.0014259775283138407, 0.9963181390369552, 0.0006358206228281649, 0.0006237161583005002, 0.0006223712177974264, 0.0006153102801562886, 0.0006122841640243725, 0.0005722721840579252, 0.00695523864408505, 0.006744905953156799, 0.006613002401218743, 0.006602307518629171, 0.006523878379638976, 0.96049671048688, 0.006067563389150567, 0.00316679440121316, 0.003072602567741179, 0.0030157626682322247, 0.003004394688330434, 0.002973538742882716, 0.18868248241566657, 0.7960833925511236, 0.0035868801148755207, 0.003478353998579287, 0.0034158135247814576, 0.9796652518061016, 0.0033716673079829894, 0.0033495941995837553, 0.0031325419669912882, 0.006649584747625806, 0.00644498214000655, 0.006329040662355638, 0.006308580401593713, 0.006243789575847616, 0.9622221933291367, 0.005800483926005896, 0.0012589267264169657, 0.0012208361228997343, 0.001198885605618618, 0.0011943663814725058, 0.001181454312483614, 0.0011775806917869464, 0.9927683115385875, 0.001831802565936543, 0.001778257567855321, 0.9896177151512143, 0.0017397427446740911, 0.001720955026049101, 0.0017125005526678553, 0.0015988348549866647, 0.003231841022114832, 0.9212270116787694, 0.003071242364765888, 0.0030646197397205706, 0.003029850958232655, 0.0031358129589577313, 0.0632394465577347, 0.0036743729677343783, 0.003561315337957936, 0.0034972493477512853, 0.9791770571431309, 0.0034482577081814936, 0.0034312990637150272, 0.0032070680979917497, 0.004762573349040135, 0.9731150575540803, 0.004533110563386741, 0.004518464002600355, 0.004469642133312398, 0.00444523119866842, 0.00415474107640508, 0.0008049948212285519, 0.7851736289082042, 0.21104604104782068, 0.0007645594073482863, 0.0007554820695384308, 0.0007530064319539247, 0.000702668467735635, 0.9920344428096266, 0.0013727711890989854, 0.0013473629439279308, 0.0013437331946177802, 0.0013284882475151473, 0.0013234065984809363, 0.0012500856624158927, 0.0015392269528818109, 0.0014926793412877427, 0.0014658552939284491, 0.0014626995236508853, 0.9912582129430392, 0.0014390312465691558, 0.0013435691956728466, 0.4836179252502072, 0.0005938857464799596, 0.0005828994879562816, 0.0005813300224528992, 0.0005744243742380158, 0.0005719132294326037, 0.5134779481313624, 0.003665793711585904, 0.0035530578721727035, 0.9792347747270012, 0.0034816585072110096, 0.0034422009634163895, 0.0034252905875044094, 0.0031998189086780084, 0.0018792133679977206, 0.001822384260508297, 0.0917452964130102, 0.001783856052040891, 0.733028062248747, 0.0017568863061137071, 0.16798395212310122, 0.00525369178561158, 0.00509750822663389, 0.00500864516721555, 0.0049817169673918105, 0.9701611047897402, 0.004909010827867714, 0.004588565249965214, 0.003703248639839728, 0.11332206575895001, 0.003524824563906907, 0.003515333921570055, 0.8692384409899562, 0.0034621863244836825, 0.0032325127799318594, 0.9935235675018401, 0.0011174373146759361, 0.0010979265044196895, 0.001094970321047531, 0.0010819631142100334, 0.0010772332208145797, 0.0010068760565572058, 0.006557187747288297, 0.00635563484522001, 0.006251499179151394, 0.9628417276854523, 0.006154081943151722, 0.006120489792807007, 0.005720743203704903, 0.006829205666007437, 0.006619076260899516, 0.9613000024877176, 0.0064859943043311654, 0.006419453326046991, 0.006380929601777205, 0.005967675105064961, 0.0037181970059085097, 0.0036020033494738686, 0.0035391444861567678, 0.0035239059738374707, 0.9788991736231712, 0.0034705711807199303, 0.003245803124010297, 0.005010228610996228, 0.004853578715931763, 0.9716273942150065, 0.004753425504333171, 0.00470206488300056, 0.004678952603400885, 0.004373356906471848, 0.0030043185838257176, 0.002913418688212529, 0.9829837677800349, 0.0028502509641423475, 0.0028178967640088396, 0.002807112030631004, 0.0026222308870109596, 0.004921464638442135, 0.9722024202501628, 0.004681823869271451, 0.0046717337316221595, 0.004623805577788022, 0.004598580233664793, 0.004300921173010681, 0.005855394127486017, 0.005652040296705093, 0.005550363381314632, 0.005535410893757211, 0.005472610446016043, 0.005448686465924169, 0.9664839382490136, 0.9892935764392509, 0.0018480338296671282, 0.0018147887766466614, 0.0018098997982612987, 0.001789366089042775, 0.001780565927949122, 0.0016651860380545605, 0.8522664482166218, 0.10661612513512993, 0.0014552640430285063, 0.0354618679278288, 0.001437230059736666, 0.0014278210249757057, 0.001335298849826264, 0.0017995770626299096, 0.9898420977945144, 0.0017128726833950498, 0.0017064159743030922, 0.001687968234040356, 0.0016796667509221248, 0.0015708250833719817, 0.003951197431529538, 0.003835641631838833, 0.9775939562044369, 0.0037586044320450296, 0.0037119766532224645, 0.0036937310006397214, 0.0034524829276012326, 0.004071645864013919, 0.003950540499853506, 0.003879547700173263, 0.9769152122116597, 0.0038210830416130627, 0.003804378853453006, 0.003555904054572156, 0.0036296827270256124, 0.0035162551418060624, 0.0034511737404505824, 0.0034437358660099563, 0.9794081495300043, 0.003387951807705259, 0.0031648155744864715, 0.0009390817553434, 0.1937034122572749, 0.3227968451382083, 0.35077349540382546, 0.13009024507205608, 0.0008779837108102998, 0.0008192911011013372, 0.0028954610223902756, 0.9836557491741227, 0.0027530612999776393, 0.002748611308652244, 0.0027174613693744802, 0.0027041113953982956, 0.0025261117423825, 0.004952653589255512, 0.004797803835824151, 0.00476226454815138, 0.0046988015344500015, 0.004655646685133065, 0.004630261479652514, 0.9715045063434294, 0.006276717700545331, 0.00609315027677361, 0.0059739924753779315, 0.9599352480435853, 0.005890259966289077, 0.005870937079576264, 0.009957727619336153, 0.1738371577461413, 0.08435471162465555, 0.14196143659556912, 0.11803892264278149, 0.001225731941309102, 0.0012210484677342309, 0.4793602110645847, 0.002165952591688571, 0.0020939756395107812, 0.002055218819107356, 0.7745218356306813, 0.00202642803823624, 0.21524319980564047, 0.0018924401734129693, 0.0024240148237712426, 0.002349467981420512, 0.9862733610107478, 0.0023010125338925377, 0.0022749211390697822, 0.0022637391127171727, 0.0021134029806432002, 0.0014244846438799229, 0.3366020688240979, 0.0013572781888866138, 0.6567005699176649, 0.0013390155652471276, 0.0013324410207369126, 0.0012433194173762198, 0.9904411233131627, 0.0016499000709181398, 0.001619346365901137, 0.0016149815508987083, 0.0015975222908889925, 0.0015896656238846205, 0.0014866559898272973, 0.9722650202389336, 0.004782461326540493, 0.004698913828511993, 0.004691318601418493, 0.004638152011763993, 0.0046103028457544935, 0.004311557246743493, 0.0014918828729735816, 0.05619833315399663, 0.0014215326811162932, 0.8792925191802761, 0.0014001217531597271, 0.0588938160485286, 0.0013022432253582826, 0.0017993766070710522, 0.0017422535401799078, 0.614658941185332, 0.0017072426282143676, 0.2275902759115711, 0.0016786810947687953, 0.15082332338839285, 0.0015612272872667396, 0.00151479078333778, 0.0014859681257267019, 0.0014811643494581888, 0.0014651517618964787, 0.9911287304190388, 0.0013634718308796192, 0.00546265939977753, 0.005294577572092067, 0.005199331203070305, 0.005185324384096517, 0.0051236943806118465, 0.9689609216049486, 0.004773523906267133, 0.004079997082325789, 0.003950539651873281, 0.0038753708212879547, 0.9769108264714804, 0.0038189941983489597, 0.003806466059918072, 0.0035579913143721307, 0.005462656225979706, 0.005300177220283899, 0.005204930906600151, 0.0051825200092627975, 0.005126492765919416, 0.9689575572777787, 0.004767918408521774, 0.003149145095762256, 0.0030556220975266127, 0.0029943484090273983, 0.0029830611506196482, 0.0029524243063700412, 0.002942749513449113, 0.9819237579238054, 0.24036509471687878, 0.6604365512658336, 0.0017936540336472143, 0.001789790481609202, 0.0017695068334096374, 0.09220173761114474, 0.0016439413921742374, 0.003174413013627357, 0.003075161761022914, 0.003021468460433625, 0.0030100789724298365, 0.981987012059217, 0.002962893950699855, 0.0027676455849206224, 0.00659412989344052, 0.006348907538768509, 0.006238053597615408, 0.9628303039111032, 0.006147354918490143, 0.006117122025448389, 0.005724094415905576, 0.005797503756635478, 0.005619210458122854, 0.005521149143940912, 0.9671490262267516, 0.0054379456046350205, 0.0054171447198085474, 0.005060558122783301, 0.0047637055709222765, 0.0046221610406387255, 0.004526984546137717, 0.004517222854394024, 0.9729673394773876, 0.004451331435124094, 0.004153599836941452, 0.005274048951605039, 0.00510653305252742, 0.005014669494968725, 0.005009265756288802, 0.004949824630809647, 0.00492280593741003, 0.969722521066937, 0.001957397820056961, 0.0018992076234586508, 0.0018630895703976307, 0.9889062731352257, 0.0018370043098535603, 0.0018289780758400003, 0.0017085845656365994, 0.002950373174699826, 0.9833321449135316, 0.0028096630694449108, 0.0028020980100226037, 0.0027703247604489133, 0.002758220665373222, 0.0025751462273533865, 0.006652993196087414, 0.006444980594877095, 0.006332449187664955, 0.006305168846522618, 0.006240378036309568, 0.9622185526019363, 0.005803892578032177, 0.22681480201468718, 0.0014842740947610142, 0.5478084811260621, 0.0014513424983637808, 0.0014356607857936698, 0.1581673211533974, 0.06283819043969213, 0.004203081024880579, 0.004063408086937207, 0.003990348396320673, 0.003977455509741284, 0.003930181592283527, 0.003915139891274241, 0.9759206031835062, 0.005383236748746221, 0.0060978745334337, 0.005123870139631846, 0.9686128793953694, 0.005049371219992611, 0.0050355751237631235, 0.004698950375763616, 0.0011022315440563635, 0.9937833605703673, 0.00104748681298956, 0.001044664919635601, 0.0010328129675489734, 0.001028297938182639, 0.0009611368763584163, 0.000888132534902352, 0.0008621717377282832, 0.20795782713142272, 0.0008430427292842326, 0.7878423317982685, 0.0008307455095702001, 0.000775635747148054, 0.0005395495361076956, 0.0005229650216781558, 0.1676733106026812, 0.11617452357892648, 0.5507446361647828, 0.10264653515875084, 0.06169826339792171, 0.005274365912189985, 0.0051147825333083385, 0.005017409624160216, 0.005003885609000755, 0.0049524943513948, 0.9700370353426949, 0.0046008699572488015, 0.005438485780445493, 0.005282303624699366, 0.005173533909090457, 0.005156800106689086, 0.9691270102071193, 0.005078709028816022, 0.004744032980788607, 0.004498991256959708, 0.00436748228175627, 0.0042821168066242135, 0.00426596658159923, 0.004229051781542125, 0.9744284412323905, 0.0039268118560745755, 0.0019053034810978405, 0.0018496099947272883, 0.8427460191295308, 0.0018095497676888209, 0.14824628993132757, 0.001781214485149417, 0.0016629879614505254, 0.0013538876303616357, 0.0013129448470754561, 0.9923309324526157, 0.0012851870278983851, 0.001270614172830423, 0.001264368663515582, 0.0011824830969432226, 0.003503459119706718, 0.0033974570232643093, 0.0033381677150846572, 0.9800630440838645, 0.0033669140463232767, 0.0032716918240953503, 0.0030596876312105337, 0.9911768367003769, 0.0015229077230199833, 0.001495511499431264, 0.001490676871739137, 0.0014745614460987138, 0.0014673095045605235, 0.0013730342645640484, 0.0007104340061694377, 0.2854509999529839, 0.1841291277589028, 0.0006743843051900557, 0.5277505078336475, 0.0006638242917718529, 0.0006204918229178483, 0.006274272837690429, 0.006084338462408882, 0.005984542434718578, 0.9644159346923031, 0.005894404087127335, 0.005862211820130463, 0.005482343069567368, 0.006121001891506084, 0.005932759906118916, 0.005826089447732854, 0.005807265249194137, 0.005744517920731748, 0.9652296042712434, 0.005336660285726217, 0.005636738052544008, 0.005469253007949974, 0.005362409100191712, 0.005342195387913122, 0.005284441924260007, 0.005267115885164072, 0.9676390697956604, 0.10970367485746495, 0.1236716790986053, 0.37812916301326177, 0.0009772440170217754, 0.24777271338528215, 0.13884819966052622, 0.0008971679574059749, 0.0031407194435860127, 0.9796211416309881, 0.0029893982607581884, 0.002981349261671602, 0.002947543465507939, 0.005579566166821691, 0.002741489088891327, 0.5259161352881889, 0.3475432153844347, 0.0010744973404179607, 0.12236489061161288, 0.0010600396259344035, 0.0010548348487203231, 0.0009860161277785915, 0.0010130709264960889, 0.0009814448637958527, 0.0009622618421580046, 0.9942663806905551, 0.0009498188010956167, 0.000944634200652955, 0.0008824189953410151, 0.0033140227539708413, 0.0032155023440629434, 0.003154351744809765, 0.003144159978267569, 0.8755831567788722, 0.10869688880028093, 0.002892763070226726, 0.29456373639640115, 0.0010900826963671857, 0.14312117465072932, 0.0010676127042116253, 0.29850808425016956, 0.26066746515291583, 0.0009823419647494987, 0.002501405427493375, 0.9858870882074529, 0.0023796045481433645, 0.0023706297465070475, 0.002344987456117572, 0.0023347305399617816, 0.0021821589121444, 0.35544911772188026, 0.07307551370836206, 0.0013454815129978915, 0.16280181398118537, 0.40477329622421976, 0.001320122410706601, 0.0012346260086959651, 0.002379678078170811, 0.0023088979096918846, 0.0022661857390580496, 0.0022613043481284683, 0.9864802929590548, 0.0022234735684242145, 0.00207947253600157, 0.0043532420131309636, 0.004217133472484634, 0.004141269695730942, 0.004134575833076205, 0.9752890949326011, 0.0040654059189772504, 0.003799882700339329, 0.003278308658999354, 0.003175861513405624, 0.0031204392871008193, 0.9814318985581093, 0.0030734143678118942, 0.0030582992151833113, 0.002861802231011731, 0.0011167834592976697, 0.0010813300161453627, 0.1449908585794572, 0.21144776593872838, 0.6393473797682148, 0.0010424455946234775, 0.0009743978569601787, 0.004089842854913887, 0.003962035265697828, 0.003894988661518912, 0.003878227010474183, 0.0038384180892429513, 0.0038153708190564488, 0.9765233138340113, 0.0014776245406553396, 0.0014321824737976664, 0.001406431969244985, 0.9916284519225536, 0.0013874977747209544, 0.0013799240969113423, 0.001289039963195996, 0.9888445877276001, 0.0019261129433044007, 0.0018894444790215038, 0.0018874073421168984, 0.0018639802677139362, 0.0018558317200955147, 0.001733603505819191, 0.0039902956233151465, 0.0038655988850865484, 0.003792007367443441, 0.003779742114502923, 0.00374090214685795, 0.003722504267447173, 0.9771072870887092, 0.0016198822185140354, 0.0015676814104493887, 0.3543274849632516, 0.0015345380402496131, 0.17811910012763435, 0.46141785700000176, 0.0014143933232754263, 0.0032672789957664088, 0.003168473531517194, 0.9814882657917894, 0.0031031614449795776, 0.0030663187294968195, 0.00305292137841218, 0.0028553104499137506, 0.0006604592210842502, 0.0006398092915680333, 0.0006408248618721095, 0.00062626835418035, 0.0006198364089212004, 0.0006164511745742796, 0.9961962693853808, 0.9861486920520067, 0.002390215881301424, 0.002347217288727748, 0.0023408939662904423, 0.00231433601205376, 0.00230295403166661, 0.0021549882866336648, 0.006382453859677115, 0.006179836276830222, 0.006071991434347199, 0.006042579204579102, 0.0059804867195131185, 0.9637832130665422, 0.005562179451700179, 0.8162226484634644, 0.0014079749290477816, 0.0013819151075159612, 0.0013781922758685583, 0.0013618118166199855, 0.0013558552859841409, 0.17689183485900836, 0.0026867361720100576, 0.0026041520683622076, 0.0025532252044460336, 0.002549095999263641, 0.002518815161259429, 0.9847438631107848, 0.0023440121418714798, 0.0021167155811692437, 0.0020516192537114505, 0.9880114443173575, 0.002010391579654848, 0.001985437987462694, 0.001977843415925951, 0.0018465658222194016, 0.0017531648850251632, 0.0017010194679321071, 0.24896020238055794, 0.6005003298312267, 0.14391415870551175, 0.0016389844027696783, 0.001531097332921976, 0.006617002244341753, 0.006437063240262679, 0.006304655293864872, 0.006280889765024239, 0.9623986707035979, 0.006182432574113049, 0.005775023508273638, 0.9813063489229129, 0.0032267914255041563, 0.003165361234431629, 0.0031568292634493334, 0.0031244077737166104, 0.0031124630143413968, 0.002907695710766305, 0.9951036100636442, 0.000844799858696006, 0.0008291554168683022, 0.0008273674806594217, 0.0008184277996150195, 0.0008144049431450385, 0.0007616608249830657, 0.9770332183181056, 0.0039634109218974044, 0.0038900144233437487, 0.0038816262520804737, 0.0038375883529482803, 0.0038208120104217306, 0.003571263915339301, 0.984547097856904, 0.0026677134776354043, 0.0026197482432411138, 0.0026112837901127095, 0.002583068946351362, 0.0025689615244706885, 0.0024010832040906706, 0.0028122400731435413, 0.890154744916134, 0.002676675679874058, 0.0026680226334951547, 0.0026391791455654774, 0.0026290839247900904, 0.0964223379745149, 0.005268653077732529, 0.005109242548713954, 0.005014676980652088, 0.0050038694871593035, 0.004944428272948988, 0.004922813285963419, 0.9697401798673296, 0.005208335119160236, 0.005037832076896167, 0.00494725233569338, 0.9705299576674352, 0.004880649584808979, 0.004851344374419842, 0.004544971720351593, 0.007158177572908136, 0.0069343698681683125, 0.9594636302196248, 0.006791279696285474, 0.0067215690997271685, 0.006681210333298675, 0.006248270838883934, 0.0019419509897079033, 0.0018842200018026965, 0.0029323360408403296, 0.6721957344835771, 0.0018225075664557513, 0.3175274010116602, 0.0016951012483201226, 0.002232757492927928, 0.16650220239120503, 0.17285750136877098, 0.0021150032575098137, 0.0020944248474367455, 0.6522509991859697, 0.0019480894869171475, 0.0032672771990501955, 0.003170146457099959, 0.9814944247313869, 0.0031014850705489297, 0.0030646423753264264, 0.0030529196995738115, 0.0028502848758500425, 0.10357939016536445, 0.0038190877774689803, 0.8780573047802097, 0.0037363711378090602, 0.0036980390365032438, 0.003675846767326192, 0.0034357667644108153, 0.0030612222173221726, 0.0029670790430324084, 0.002912162191363379, 0.0029058859797440615, 0.002872935868742644, 0.9826083982790822, 0.0026720970969244797, 0.8043804311520456, 0.00027999019173371396, 0.00027480793012045116, 0.000274215671650364, 0.0002709582500648845, 0.0002699217977422319, 0.19424982140689817, 0.11068279671771436, 0.0011828514672332716, 0.0011597440204077008, 0.8836312647121859, 0.0011428818294809328, 0.0011372610991720103, 0.0010635670795661359, 0.0020569100932365816, 0.0019947072764754546, 0.001958861585460568, 0.3631358271113386, 0.001932504459714328, 0.6271277443006502, 0.0017943931208040296, 0.0035126866363380566, 0.9801512569595757, 0.00334335712668894, 0.003334350237877817, 0.0033055281936822225, 0.003283911660535527, 0.0030677463290685694, 0.005088701321021562, 0.9712634588056488, 0.004843399821444112, 0.0048329614597599655, 0.004772940880076121, 0.0047520641567078276, 0.004441522896604461, 0.0038667832857564857, 0.0037459463080765955, 0.0036766136159651834, 0.978096096956298, 0.0036270902644570317, 0.003611242791974423, 0.003373530704735295, 0.001004472748675436, 0.0009730829752793287, 0.0009561016224584837, 0.0009535286902129012, 0.6892237106989824, 0.3060122112148123, 0.0008768553092945406, 0.0011533639052937355, 0.0011156067237393626, 0.001094958265076815, 0.0010920084852678795, 0.001079619410070351, 0.9934587016751955, 0.0010052849588851793, 0.004921457768516904, 0.9722237659204056, 0.004679294802972249, 0.004666682148516798, 0.004618754061586085, 0.004593528752675184, 0.004293347576635454, 0.0013791565230088967, 0.0013367426883699762, 0.4875731843724179, 0.0013098805930986598, 0.0012957426482190198, 0.5059002023198954, 0.0012045529037453407, 0.0009276372483306063, 0.0008963366049820275, 0.0008797377789638419, 0.0008778407702760493, 0.0008678814746651379, 0.0008636132051176044, 0.9946874946528095, 0.002458688606656308, 0.0023842975154805533, 0.19749321668020384, 0.0023351237433474267, 0.002308645558352667, 0.7908731250106372, 0.002145993850527711, 0.006094039305704962, 0.005912873606201688, 0.005797302384104771, 0.005787931744475292, 0.9653945300944298, 0.005694225348180495, 0.005316276216458147, 0.005585608584005555, 0.005411058315755381, 0.0053194909619192245, 0.9683591045750449, 0.0052393695273125875, 0.005213616209046168, 0.004870238632160581, 0.005007658382698878, 0.004858712646187834, 0.9716295359202136, 0.004755991448594011, 0.004699494789917409, 0.004678950550398644, 0.004368218927677329, 0.00028359407614594775, 0.15812154907437814, 0.13539251433082017, 0.45014507452562613, 0.1685093069106084, 0.0873006773412372, 0.00024745542468210897, 0.7419267427789867, 0.0013421797451251302, 0.0400837866377116, 0.0013123850573369402, 0.21283409583096546, 0.0012918125348165234, 0.0012081036500782751, 0.0008734773069593722, 0.9950718812687938, 0.000830519406617108, 0.0008282820159742816, 0.0008188849752744113, 0.0008153051502458894, 0.0007616077748180591, 0.003714387344193067, 0.00360009850283328, 0.003537239640085397, 0.003527715569972082, 0.9789086888288674, 0.0034705711492921884, 0.003241993466572615, 0.13447394069252824, 0.39927795869040006, 0.16054958984463324, 0.0868430454708645, 0.14418360026385518, 0.07420281708629577, 0.0004692983776253659, 0.003242543842179302, 0.0031477617914079073, 0.003091225129544268, 0.10732321264714693, 0.0030463283686525547, 0.0030280370956966714, 0.8771197492104731, 0.9782777244374802, 0.0037508352076351423, 0.0036794285088118397, 0.0036695109117530476, 0.003627857004106121, 0.003613972368223812, 0.003377933558224562, 0.0034111218377750373, 0.003306325467950919, 0.0032434476460564484, 0.003234714615237772, 0.0031962892796355957, 0.003184063036489448, 0.9804224378895349, 0.0013366819981589309, 0.0012976297819133856, 0.0012736503508854191, 0.29495590828979795, 0.001253781679462247, 0.5743060028665954, 0.1255761695338556, 0.007158175827564191, 0.006938037155265958, 0.9594597273003594, 0.006791278040400471, 0.006714229505096089, 0.0066922156378662655, 0.006244600337526526, 0.0056822509455275285, 0.9679242905453492, 0.0054086179594211815, 0.005391152024137798, 0.005335843229073749, 0.005306733336934776, 0.004954503642053203, 0.0038747069161958617, 0.003747927139796815, 0.0036766135155723513, 0.9780841846445759, 0.003627090165416474, 0.003613223627372828, 0.003377492480630851, 0.5448168202570342, 0.2590431773490531, 0.19106023752291992, 0.001305333275727033, 0.0012898438841056768, 0.0012849154413170634, 0.0012004278506551195, 0.0007930718645789224, 0.0007691009424425717, 0.0007552871907029798, 0.0007524431829918874, 0.14776042062980807, 0.8484784165196095, 0.0006919064474272053, 0.001335274831188614, 0.0012949362674199872, 0.19315676852701041, 0.0012669043841231449, 0.6756196652892006, 0.12616261856096908, 0.0011643487135249411, 0.006097168643989157, 0.005909755673374736, 0.005794184341495843, 0.005781690143454882, 0.9653954471299839, 0.005694230757168153, 0.005325651914959791, 0.0058314841336795245, 0.00565504435732717, 0.005550376693389332, 0.00553841467465358, 0.005478604580974815, 0.005451690038819371, 0.9665012088019926, 0.9836008819561323, 0.0028297306008738653, 0.0027803226062554326, 0.0027698421225484924, 0.0027428923073020747, 0.0027279201877207313, 0.0025512491766608815, 0.9987705192548326, 0.00021222896983491595, 0.00020830088208017132, 0.0002076274956079294, 0.0002054951051124966, 0.0002044850254041337, 0.000191241758116709, 0.0029877088212048562, 0.002897357811235053, 0.002843759754473305, 0.002834571516171291, 0.9830404276941662, 0.002790161697711557, 0.002606396931671279, 0.0013068262874377744, 0.20488117251259327, 0.6165267666907319, 0.0012405477001138298, 0.0012264886058329931, 0.17367801697729626, 0.001140795078787893, 0.0022782565193813606, 0.002209395282371371, 0.9871013226063882, 0.0021615425583474796, 0.002134698347309687, 0.002127695509647654, 0.001987638756406997, 0.006627190347254687, 0.006416695571880819, 0.006301262953127407, 0.00628768264503877, 0.962402483471458, 0.006185830334373995, 0.005781816168737055, 0.003537184766791522, 0.0034301622533347525, 0.003370302203435204, 0.11764676534348602, 0.8656234840110333, 0.0033050003308175142, 0.0030873274220918822, 0.0011704828203805782, 0.0011345048648360933, 0.7393841636598958, 0.0011099199285473618, 0.11895271515154589, 0.1372265184051822, 0.0010205746722785575, 0.0018380717444599578, 0.0017824867967802358, 0.687780821173918, 0.17597534952969868, 0.0017259597313432303, 0.12929058830303322, 0.0016053686584109523, 0.0008204875204134766, 0.6427260017955843, 0.11388022464113498, 0.0007776575679660997, 0.12664061115999126, 0.11443953343191837, 0.000715932048262527, 0.20001951160943737, 0.6951098833407553, 0.0009944110042687394, 0.0009917349789612348, 0.000981030877731216, 0.0009751436220547056, 0.10092843529278504, 0.005462656627576164, 0.005294574885189206, 0.005202129926876378, 0.005185321752637683, 0.005129294505175363, 0.9689548271499676, 0.004767918759043401, 0.0020048408368251785, 0.0019421895606743917, 0.9886484354305254, 0.001903160896842754, 0.0018805653546244375, 0.0018713217237169442, 0.001750127451818701, 0.0016646181117993951, 0.8697497386172686, 0.0015835628987696962, 0.0015792968349260278, 0.12241555520683241, 0.0015562600901702188, 0.0014521681323847106, 0.9763529178746455, 0.00408017258753351, 0.004006772657387404, 0.004000296192962748, 0.003952802120515268, 0.0039312139057664135, 0.003678631793204815, 0.0027717796438084005, 0.0026907583926816933, 0.002642429927097342, 0.0026324799488887988, 0.00260263001426317, 0.0025898371851379005, 0.9840699019304007, 0.0027994719242802825, 0.24951889841147895, 0.002668896862717235, 0.0026545479548531637, 0.7373014119058594, 0.0026158059036201714, 0.0024421841184649106, 0.0015536672363315686, 0.9769739895157562, 0.015731776654910372, 0.0014756255196936938, 0.001457309606605213, 0.001450938854226611, 0.001356173912594906, 0.0042943400916272126, 0.004162274276405463, 0.9756736285983186, 0.0040742303995909635, 0.004030208461183714, 0.004017001879661539, 0.0037484680553773156, 0.0066529939453961314, 0.006448391363784769, 0.006332449900871663, 0.006311989642710528, 0.006236968696119695, 0.9622118408879684, 0.005807303274735834, 0.00491230285373707, 0.004761155073622083, 0.004680542924227424, 0.004665428146215925, 0.9721019095502003, 0.004589854256158431, 0.004287558695928458, 0.004304627921088907, 0.004172313538268551, 0.004092924908576338, 0.004084103949721647, 0.0040377939157345225, 0.004020151998025142, 0.9752871105291285, 0.00612413988188376, 0.005942172610803198, 0.005822952674578001, 0.005807265840864159, 0.005741381139266025, 0.9652171531461591, 0.005342935562934448, 0.004766145979777178, 0.004619720604054377, 0.004531865378620696, 0.004517222841048415, 0.9729648961799404, 0.004446450576115728, 0.0041535998246701265, 0.055789008312369104, 0.08736817765633928, 0.10558975869828797, 0.17629028748337258, 0.1581093262193392, 0.14892880507961023, 0.26792444448255237, 0.0013975677699216802, 0.6362686943668704, 0.0013316650355122519, 0.001326650697024578, 0.0013116076815615563, 0.3571433934482942, 0.001219916920644091, 0.007154512048024176, 0.006938042196314726, 0.9594567554454164, 0.006802289916429139, 0.00671423438353038, 0.006688551519768242, 0.006251942835811895, 0.0019346716769047465, 0.0018771275962583488, 0.07015714784049505, 0.7511218925381062, 0.001817599236968972, 0.0018096621223970552, 0.1712809481833239, 0.00138104120225162, 0.25392975355600983, 0.5738502120595684, 0.001311706141892676, 0.0012961411283427089, 0.0012904811234154482, 0.16694113782893955, 0.9931928720116953, 0.0011749041285713847, 0.001153158150517446, 0.001151294209541394, 0.0011370039953916627, 0.0011326547997808749, 0.0010580971607387986, 0.0032058652758880264, 0.0031088673008739785, 0.00305297016273029, 0.003043105961881404, 0.003010225292385116, 0.002995428991111787, 0.9815833384057197, 0.0042513073859642, 0.004120564975324604, 0.004046477609295499, 0.004035582408408867, 0.003994180645039661, 0.9758417416523494, 0.003708726381809876, 0.21541416003109515, 0.7781595543974028, 0.001316215106533771, 0.0013126711778678212, 0.0012984954632040218, 0.0012914076058721223, 0.001207062103622516, 0.14491380471287515, 0.26432021731235494, 0.11361267526073565, 0.0008997812888282474, 0.33851140685090025, 0.1369147781743276, 0.0008264981310002726, 0.0022573062148229964, 0.0021879218024821257, 0.10043393686341047, 0.6858464134795502, 0.0021173809832689067, 0.2051858969881678, 0.0019705173104807303, 0.00039491803121855234, 0.000382191772412021, 0.24118765289316615, 0.17103061615027135, 0.388521369133352, 0.19813896143693943, 0.0003444170042085073, 0.33262507570888417, 0.0015446631074596457, 0.0015152720546750013, 0.0015111899640104674, 0.0014940451832194247, 0.659918941009887, 0.0013903600803402624, 0.002193827048400103, 0.7549677405315092, 0.002088127539148637, 0.0020802562990979963, 0.0020588915046748273, 0.0020487713388954317, 0.2345618290462394, 0.16581601177027414, 0.6263130014214177, 0.0015880974956786413, 0.0015838238210401088, 0.0015658743875582727, 0.0015590365081366209, 0.20157299273594706, 0.006829200217276705, 0.00662957744169477, 0.961302737661572, 0.006485989129434081, 0.006412443896324947, 0.0063809245107067465, 0.005960666035797411, 0.005903712985582251, 0.9666618540787546, 0.005619123744225979, 0.00560095847350111, 0.005546462661326505, 0.00551618721011839, 0.005152881795621021, 0.0058627201893230296, 0.005679510183406685, 0.0055864034590885426, 0.005571386245488842, 0.9667211117098324, 0.00547227263573082, 0.005108856066618071, 0.004060087020578691, 0.003939325457915325, 0.9769964375770684, 0.0038560416215957624, 0.003812317607527992, 0.00379357874435609, 0.003541645139489412, 0.004550209358958356, 0.004398923625796057, 0.0043197895499880856, 0.004308152185898678, 0.004259275256723166, 0.004238328001362233, 0.9739286731697007, 0.004936742813329745, 0.004787451257211623, 0.004693827738968055, 0.004681175912178384, 0.0046356293357355674, 0.9719588805589927, 0.004306681839204114, 0.0019459690892132937, 0.2475304549959788, 0.743345253729254, 0.0018433924176733914, 0.0018244705073893318, 0.0018145116072398268, 0.0016969965854756667, 0.001132953750437766, 0.0010987097590054772, 0.2528320948441067, 0.7418252647711396, 0.0010627245476698514, 0.0010586617012287324, 0.0009895933117297087, 0.2022533011913259, 0.0014248178005006828, 0.0013991997120728545, 0.0013961858193166394, 0.1971251626666259, 0.0013735816236450263, 0.5950283260204104, 0.004814750641288669, 0.004659515589906281, 0.0045782019915631255, 0.004558489604085997, 0.0045141367322624575, 0.0044870321994814055, 0.9723874337624092, 0.002396168747944875, 0.0023248980877495916, 0.002280661126249071, 0.8545094108472401, 0.0022499410140959315, 0.13414735694584312, 0.0020926540398718578, 0.0032766282108394294, 0.00317586055699506, 0.00311875888648325, 0.981438320843523, 0.0030717339813558773, 0.0030616572159714406, 0.002856762986487888, 0.004677509668919902, 0.004529093292526333, 0.0044453098542396405, 0.004430946979104779, 0.004387858353700195, 0.004359132603430471, 0.9731709676376772, 0.0022173621917670914, 0.002143676842858676, 0.0021051337372758124, 0.0020983320127611893, 0.002075659597712446, 0.0020654570109405117, 0.9872952529540792, 0.0007975143206084957, 0.9954973528925739, 0.000759089745448476, 0.0007570458850676238, 0.0007480528993918746, 0.0007451914948586816, 0.0006957300736420604, 0.005781236336327992, 0.005612332968224098, 0.9672532880082947, 0.005484914637900109, 0.005422687081230253, 0.005398981345356023, 0.005046358524226842, 0.0071655109788138684, 0.006938034439803904, 0.959459351779672, 0.006794944358813766, 0.00671055790079394, 0.006692213018615717, 0.006240928917031434, 0.0038914843203409787, 0.003773741974238354, 0.003703894819770696, 0.0036939166548467443, 0.0036520083621661495, 0.0036360432982878274, 0.9776486254508325, 0.9836206421564656, 0.002568012086472898, 0.00252181504364746, 0.0025136626243253235, 0.002485129156697847, 0.0024756180008220214, 0.0038153322427597345, 0.0028847282969072458, 0.1347295208217945, 0.8517322858151768, 0.002736945084975522, 0.002704432778350543, 0.002694087953515322, 0.002516748099197254, 0.0016557171463171378, 0.0016090413682302888, 0.06006239124215741, 0.0015725493962714795, 0.0015547277355474098, 0.21666047537404678, 0.7168856377813192, 0.006124140462719227, 0.005935898440299579, 0.005822953226847789, 0.005813541125726808, 0.0057445190508396025, 0.965220382057868, 0.005342936069677687, 0.0028438341001626784, 0.002760749249465973, 0.0027053593490015022, 0.9838791409187112, 0.002667460996052128, 0.0026587152222945797, 0.0024837997471436205, 0.001893769528768662, 0.166309868852603, 0.0018044224535652173, 0.0017995666342606822, 0.8247677070223013, 0.001771402882294379, 0.0016538920551246313, 0.0015655770676524566, 0.0015190350533398772, 0.26728196126339476, 0.06315831587069293, 0.45653623553175016, 0.20857081510512107, 0.0013681747310853095, 0.004822141786773168, 0.004657050575882109, 0.004570808898550959, 0.004563416754779718, 0.004511671748381027, 0.004487031269143556, 0.9723896961962607, 0.24569969917208223, 0.14776096071362177, 0.0006334214043970762, 0.0006306955457444799, 0.381551042700179, 0.09453959271867281, 0.12918423399617768, 0.2341785959034723, 0.0015887502499287126, 0.0015601997697502895, 0.0015543217297135554, 0.0015383670496138485, 0.758149603937969, 0.0014308828889421385, 0.0020307100669188618, 0.7999843496648396, 0.19048746689165472, 0.001925691266735142, 0.0019059352548193927, 0.0018955373538111036, 0.0017707625417116343, 0.79210061087715, 0.0019542423289831013, 0.0019180717940733135, 0.0019139380186550521, 0.0018901688100000488, 0.001885001590727222, 0.19833751112432987, 0.0012243624038597123, 0.6475027721081786, 0.0011654325185740937, 0.001161044122861335, 0.0011485058493963098, 0.14329616594973368, 0.20450237478292752, 0.005903712913954667, 0.9666739525309371, 0.005616096130967132, 0.005600958405546736, 0.005540407503865149, 0.005513159598108435, 0.005155909278187076, 0.0031887414035906853, 0.003092310986977743, 0.003031837674864542, 0.003025300019500953, 0.002990977328842109, 0.9818871902297965, 0.0027834067710481485, 0.0029074025381086886, 0.002817989851134562, 0.002765832450399655, 0.10098864951437704, 0.002728577164160435, 0.7677167031086969, 0.12007676797190354, 0.0023012078949248573, 0.002228191063049043, 0.0021869718837643094, 0.21691651983133042, 0.0021551742311732287, 0.002146930395316282, 0.7720634925831465, 0.9825321151791304, 0.003014499085560092, 0.0029602700014812328, 0.0029507001631143754, 0.0029219906480138034, 0.002907635890463517, 0.0027146441500652254, 0.002121733199757199, 0.002057537169610699, 0.002020542847153394, 0.9879714636130952, 0.0019933411394641993, 0.0019824604563885213, 0.0018529803277879538, 0.006848276422551036, 0.006644584098187981, 0.006525178252871706, 0.9611713996198593, 0.006430355963944076, 0.006398748534301533, 0.005980828075694572, 0.8579605936207274, 0.002120455168845454, 0.002083470485667917, 0.002076745997817456, 0.13180668635689138, 0.0020420028105900727, 0.001909754549531001, 0.003462949277636634, 0.003360001528737134, 0.0032978778871598493, 0.0032854531588443923, 0.9803359135461814, 0.0032357542455825647, 0.0030209839418439523, 0.005183035904202457, 0.005028952827603921, 0.9706383712181667, 0.00491737542730843, 0.004869556541467505, 0.004837677284240222, 0.004524197921505271, 0.203760103012239, 0.0011553083531860647, 0.2495954803687055, 0.0011308703129282948, 0.00111865129279941, 0.0011131527337414119, 0.5421261536662867, 0.0020298536616270074, 0.0019705194776717563, 0.9884981361391201, 0.001927840503247804, 0.0019049395901422686, 0.0018976529359723254, 0.0017716979138918804, 0.004009629228918035, 0.0038842640915710334, 0.0038164436074324916, 0.003804112610316393, 0.9772459076141098, 0.003744512790921917, 0.0034978928485999467, 0.001624078117860363, 0.0015733256766772266, 0.33434460240601455, 0.49453927495357314, 0.0015234052427266008, 0.16497871413449353, 0.0014169083169652654, 0.004867284448063513, 0.004712767481458322, 0.004628032370739346, 0.9724425604932136, 0.004563234933130718, 0.004540805050881577, 0.004246724372503956, 0.0011503822062114784, 0.06933779864542931, 0.27322432371484173, 0.4623298230818916, 0.191877383914154, 0.0010754982799229813, 0.0010047418141385747, 0.0016999846825621044, 0.001648549248576892, 0.0016206520640425395, 0.001616293128959047, 0.0015971138145916795, 0.9903334870161958, 0.0014837815024208727, 0.0021533423570918356, 0.0020872213021146044, 0.0020464466515453116, 0.17777417042936727, 0.002019998229554419, 0.8120425943336254, 0.0018767359437704178, 0.0027319017019611586, 0.0026492441632864363, 0.002600210030174313, 0.0025960071044789884, 0.0025651856493799394, 0.9844737012196503, 0.00238445984448097, 0.18664285090521204, 0.002220945984090589, 0.8026693750561221, 0.002173966693046896, 0.002151651529801142, 0.002141081189316311, 0.0019989688339091395, 0.0030012114187596478, 0.002908913784148895, 0.00285968837902316, 0.002850458615562085, 0.0028181544434483213, 0.982942119314135, 0.0026197145290352028, 0.004339811940932081, 0.9754895748152027, 0.004128385205348211, 0.00411503193783765, 0.004072746590720876, 0.00406161886779541, 0.003790102428414018, 0.07020627702800113, 0.2339967681282028, 0.4479054776656207, 0.24592948557120298, 0.0006704925271615843, 0.0006675646121958132, 0.0006236458877092465, 0.003078097080667002, 0.9826379685572011, 0.0029252166829072993, 0.0029189123366079304, 0.002887390605111084, 0.0028716297393626615, 0.002682499350381586, 0.0017788003379609035, 0.9899607093977988, 0.0016931408954566386, 0.0016867620008020657, 0.0016676253168383468, 0.001661246422183774, 0.0015518939423910954, 0.005667793127067722, 0.005502204091576763, 0.005388906330451371, 0.005374380976460935, 0.005316279560499196, 0.9678040008870948, 0.004947335569142147, 0.0008244106783047964, 0.0007994797556907609, 0.20305898422723473, 0.0007829999932848732, 0.0007745488330767256, 0.7930395490541421, 0.0007196162917237663, 0.0034255804113559798, 0.003318476154517069, 0.0032605345073747076, 0.980588633969924, 0.003213127705167321, 0.003202592860232346, 0.002990140154043687, 0.001418805370888324, 0.9919893000247049, 0.0013504467317988814, 0.0013460834144101935, 0.001330811803549786, 0.0013264484861610982, 0.0012377276992577792, 0.006117865655471363, 0.005935898369308625, 0.005826090524210421, 0.0058198157902048095, 0.005741381615134664, 0.9652235078812239, 0.0053397986387755175, 0.004355472960182374, 0.004219364430176675, 0.004143500659353826, 0.004134575509845256, 0.9752823248247718, 0.004065405601153835, 0.003802113690651007, 0.0010200441859755912, 0.0009897044101875993, 0.0009713959247982938, 0.0009682573273029843, 0.000957272236069401, 0.9942025434979603, 0.0008903154895027981, 0.005775314527254169, 0.005603447804534445, 0.9672629522472487, 0.005481955810887744, 0.005425654643100248, 0.005404912107599592, 0.005046362565373961, 0.0013123111161533667, 0.519511163107214, 0.0012484435157258207, 0.001244409772540923, 0.12113196326141461, 0.16439789266262672, 0.191153038917522, 0.9949809876266061, 0.000866385308497494, 0.0008503496206088572, 0.0008485169705644415, 0.0008384373953201554, 0.0008347720952313242, 0.0007807089189210628, 0.005853713506929485, 0.005682517165269669, 0.005571389715420315, 0.0055653828262392695, 0.9667427379083883, 0.005475279488523577, 0.005108859248479761, 0.13559086293341674, 0.0012681935814625896, 0.001244745733944792, 0.5928366183619773, 0.0012279972714320797, 0.2666904581594245, 0.001141575204866483, 0.0013010060421128602, 0.001261662445759883, 0.0012389898648107096, 0.8739459741948468, 0.11990061014662262, 0.001215650443245384, 0.0011362964099232771, 0.0009860425820847774, 0.0009567141360535379, 0.0009390159358622727, 0.0009359819586866272, 0.000925363038571868, 0.0009223290613962226, 0.9943344417058165, 0.004611262842902002, 0.9739531016749473, 0.004388976326372367, 0.0043842468260206725, 0.004327492821800341, 0.004308574820393563, 0.004027169549467749, 0.26737527557181767, 0.3320645262437179, 0.00142486321691664, 0.0014217923910181127, 0.0014072059680001084, 0.0013987611967791584, 0.3949074428441286, 0.0025177996519692336, 0.0024416981256033606, 0.002397843008714552, 0.826029184590013, 0.16206787431897043, 0.0023501183226884957, 0.0021966254135776667], \"Term\": [\"19\", \"19\", \"19\", \"19\", \"19\", \"19\", \"19\", \"2014\", \"2014\", \"2014\", \"2014\", \"2014\", \"2014\", \"2014\", \"2015\", \"2015\", \"2015\", \"2015\", \"2015\", \"2015\", \"2015\", \"abc\", \"abc\", \"abc\", \"abc\", \"abc\", \"abc\", \"abc\", \"aboriginal\", \"aboriginal\", \"aboriginal\", \"aboriginal\", \"aboriginal\", \"aboriginal\", \"aboriginal\", \"abuse\", \"abuse\", \"abuse\", \"abuse\", \"abuse\", \"abuse\", \"abuse\", \"access\", \"access\", \"access\", \"access\", \"access\", \"access\", \"access\", \"accident\", \"accident\", \"accident\", \"accident\", \"accident\", \"accident\", \"accident\", \"accused\", \"accused\", \"accused\", \"accused\", \"accused\", \"accused\", \"accused\", \"act\", \"act\", \"act\", \"act\", \"act\", \"act\", \"act\", \"adelaide\", \"adelaide\", \"adelaide\", \"adelaide\", \"adelaide\", \"adelaide\", \"adelaide\", \"afghanistan\", \"afghanistan\", \"afghanistan\", \"afghanistan\", \"afghanistan\", \"afghanistan\", \"afghanistan\", \"afl\", \"afl\", \"afl\", \"afl\", \"afl\", \"afl\", \"afl\", \"aged\", \"aged\", \"aged\", \"aged\", \"aged\", \"aged\", \"aged\", \"aid\", \"aid\", \"aid\", \"aid\", \"aid\", \"aid\", \"aid\", \"alice\", \"alice\", \"alice\", \"alice\", \"alice\", \"alice\", \"alice\", \"anti\", \"anti\", \"anti\", \"anti\", \"anti\", \"anti\", \"anti\", \"april\", \"april\", \"april\", \"april\", \"april\", \"april\", \"april\", \"armed\", \"armed\", \"armed\", \"armed\", \"armed\", \"armed\", \"armed\", \"arrested\", \"arrested\", \"arrested\", \"arrested\", \"arrested\", \"arrested\", \"arrested\", \"art\", \"art\", \"art\", \"art\", \"art\", \"art\", \"art\", \"assault\", \"assault\", \"assault\", \"assault\", \"assault\", \"assault\", \"assault\", \"attack\", \"attack\", \"attack\", \"attack\", \"attack\", \"attack\", \"attack\", \"aussie\", \"aussie\", \"aussie\", \"aussie\", \"aussie\", \"aussie\", \"aussie\", \"australia\", \"australia\", \"australia\", \"australia\", \"australia\", \"australia\", \"australia\", \"australian\", \"australian\", \"australian\", \"australian\", \"australian\", \"australian\", \"australian\", \"australians\", \"australians\", \"australians\", \"australians\", \"australians\", \"australians\", \"australians\", \"award\", \"award\", \"award\", \"award\", \"award\", \"award\", \"award\", \"bail\", \"bail\", \"bail\", \"bail\", \"bail\", \"bail\", \"bail\", \"ban\", \"ban\", \"ban\", \"ban\", \"ban\", \"ban\", \"ban\", \"battle\", \"battle\", \"battle\", \"battle\", \"battle\", \"battle\", \"battle\", \"big\", \"big\", \"big\", \"big\", \"big\", \"big\", \"big\", \"bird\", \"bird\", \"bird\", \"bird\", \"bird\", \"bird\", \"bird\", \"blast\", \"blast\", \"blast\", \"blast\", \"blast\", \"blast\", \"blast\", \"blaze\", \"blaze\", \"blaze\", \"blaze\", \"blaze\", \"blaze\", \"blaze\", \"blues\", \"blues\", \"blues\", \"blues\", \"blues\", \"blues\", \"blues\", \"boost\", \"boost\", \"boost\", \"boost\", \"boost\", \"boost\", \"boost\", \"border\", \"border\", \"border\", \"border\", \"border\", \"border\", \"border\", \"broken\", \"broken\", \"broken\", \"broken\", \"broken\", \"broken\", \"broken\", \"budget\", \"budget\", \"budget\", \"budget\", \"budget\", \"budget\", \"budget\", \"bus\", \"bus\", \"bus\", \"bus\", \"bus\", \"bus\", \"bus\", \"bushfire\", \"bushfire\", \"bushfire\", \"bushfire\", \"bushfire\", \"bushfire\", \"bushfire\", \"business\", \"business\", \"business\", \"business\", \"business\", \"business\", \"business\", \"cabinet\", \"cabinet\", \"cabinet\", \"cabinet\", \"cabinet\", \"cabinet\", \"cabinet\", \"calls\", \"calls\", \"calls\", \"calls\", \"calls\", \"calls\", \"calls\", \"canberra\", \"canberra\", \"canberra\", \"canberra\", \"canberra\", \"canberra\", \"canberra\", \"cancer\", \"cancer\", \"cancer\", \"cancer\", \"cancer\", \"cancer\", \"cancer\", \"car\", \"car\", \"car\", \"car\", \"car\", \"car\", \"car\", \"carbon\", \"carbon\", \"carbon\", \"carbon\", \"carbon\", \"carbon\", \"carbon\", \"care\", \"care\", \"care\", \"care\", \"care\", \"care\", \"care\", \"case\", \"case\", \"case\", \"case\", \"case\", \"case\", \"case\", \"cats\", \"cats\", \"cats\", \"cats\", \"cats\", \"cats\", \"cats\", \"central\", \"central\", \"central\", \"central\", \"central\", \"central\", \"central\", \"centre\", \"centre\", \"centre\", \"centre\", \"centre\", \"centre\", \"centre\", \"ceo\", \"ceo\", \"ceo\", \"ceo\", \"ceo\", \"ceo\", \"ceo\", \"change\", \"change\", \"change\", \"change\", \"change\", \"change\", \"change\", \"charged\", \"charged\", \"charged\", \"charged\", \"charged\", \"charged\", \"charged\", \"charges\", \"charges\", \"charges\", \"charges\", \"charges\", \"charges\", \"charges\", \"chelsea\", \"chelsea\", \"chelsea\", \"chelsea\", \"chelsea\", \"chelsea\", \"chelsea\", \"child\", \"child\", \"child\", \"child\", \"child\", \"child\", \"child\", \"china\", \"china\", \"china\", \"china\", \"china\", \"china\", \"china\", \"city\", \"city\", \"city\", \"city\", \"city\", \"city\", \"city\", \"claims\", \"claims\", \"claims\", \"claims\", \"claims\", \"claims\", \"claims\", \"clash\", \"clash\", \"clash\", \"clash\", \"clash\", \"clash\", \"clash\", \"clear\", \"clear\", \"clear\", \"clear\", \"clear\", \"clear\", \"clear\", \"climate\", \"climate\", \"climate\", \"climate\", \"climate\", \"climate\", \"climate\", \"closer\", \"closer\", \"closer\", \"closer\", \"closer\", \"closer\", \"closer\", \"club\", \"club\", \"club\", \"club\", \"club\", \"club\", \"club\", \"coast\", \"coast\", \"coast\", \"coast\", \"coast\", \"coast\", \"coast\", \"commission\", \"commission\", \"commission\", \"commission\", \"commission\", \"commission\", \"commission\", \"confident\", \"confident\", \"confident\", \"confident\", \"confident\", \"confident\", \"confident\", \"construction\", \"construction\", \"construction\", \"construction\", \"construction\", \"construction\", \"construction\", \"continues\", \"continues\", \"continues\", \"continues\", \"continues\", \"continues\", \"continues\", \"coronavirus\", \"coronavirus\", \"coronavirus\", \"coronavirus\", \"coronavirus\", \"coronavirus\", \"coronavirus\", \"corruption\", \"corruption\", \"corruption\", \"corruption\", \"corruption\", \"corruption\", \"corruption\", \"council\", \"council\", \"council\", \"council\", \"council\", \"council\", \"council\", \"country\", \"country\", \"country\", \"country\", \"country\", \"country\", \"country\", \"court\", \"court\", \"court\", \"court\", \"court\", \"court\", \"court\", \"covid\", \"covid\", \"covid\", \"covid\", \"covid\", \"covid\", \"covid\", \"crash\", \"crash\", \"crash\", \"crash\", \"crash\", \"crash\", \"crash\", \"crews\", \"crews\", \"crews\", \"crews\", \"crews\", \"crews\", \"crews\", \"cricket\", \"cricket\", \"cricket\", \"cricket\", \"cricket\", \"cricket\", \"cricket\", \"crisis\", \"crisis\", \"crisis\", \"crisis\", \"crisis\", \"crisis\", \"crisis\", \"crows\", \"crows\", \"crows\", \"crows\", \"crows\", \"crows\", \"crows\", \"cup\", \"cup\", \"cup\", \"cup\", \"cup\", \"cup\", \"cup\", \"cuts\", \"cuts\", \"cuts\", \"cuts\", \"cuts\", \"cuts\", \"cuts\", \"cyclone\", \"cyclone\", \"cyclone\", \"cyclone\", \"cyclone\", \"cyclone\", \"cyclone\", \"dairy\", \"dairy\", \"dairy\", \"dairy\", \"dairy\", \"dairy\", \"dairy\", \"damage\", \"damage\", \"damage\", \"damage\", \"damage\", \"damage\", \"damage\", \"day\", \"day\", \"day\", \"day\", \"day\", \"day\", \"day\", \"dead\", \"dead\", \"dead\", \"dead\", \"dead\", \"dead\", \"dead\", \"deal\", \"deal\", \"deal\", \"deal\", \"deal\", \"deal\", \"deal\", \"death\", \"death\", \"death\", \"death\", \"death\", \"death\", \"death\", \"debate\", \"debate\", \"debate\", \"debate\", \"debate\", \"debate\", \"debate\", \"defends\", \"defends\", \"defends\", \"defends\", \"defends\", \"defends\", \"defends\", \"delay\", \"delay\", \"delay\", \"delay\", \"delay\", \"delay\", \"delay\", \"demand\", \"demand\", \"demand\", \"demand\", \"demand\", \"demand\", \"demand\", \"dies\", \"dies\", \"dies\", \"dies\", \"dies\", \"dies\", \"dies\", \"discuss\", \"discuss\", \"discuss\", \"discuss\", \"discuss\", \"discuss\", \"discuss\", \"discusses\", \"discusses\", \"discusses\", \"discusses\", \"discusses\", \"discusses\", \"discusses\", \"doctor\", \"doctor\", \"doctor\", \"doctor\", \"doctor\", \"doctor\", \"doctor\", \"domestic\", \"domestic\", \"domestic\", \"domestic\", \"domestic\", \"domestic\", \"domestic\", \"donald\", \"donald\", \"donald\", \"donald\", \"donald\", \"donald\", \"donald\", \"doubt\", \"doubt\", \"doubt\", \"doubt\", \"doubt\", \"doubt\", \"doubt\", \"drink\", \"drink\", \"drink\", \"drink\", \"drink\", \"drink\", \"drink\", \"driver\", \"driver\", \"driver\", \"driver\", \"driver\", \"driver\", \"driver\", \"drug\", \"drug\", \"drug\", \"drug\", \"drug\", \"drug\", \"drug\", \"east\", \"east\", \"east\", \"east\", \"east\", \"east\", \"east\", \"economic\", \"economic\", \"economic\", \"economic\", \"economic\", \"economic\", \"economic\", \"economy\", \"economy\", \"economy\", \"economy\", \"economy\", \"economy\", \"economy\", \"education\", \"education\", \"education\", \"education\", \"education\", \"education\", \"education\", \"election\", \"election\", \"election\", \"election\", \"election\", \"election\", \"election\", \"expected\", \"expected\", \"expected\", \"expected\", \"expected\", \"expected\", \"expected\", \"extended\", \"extended\", \"extended\", \"extended\", \"extended\", \"extended\", \"extended\", \"eyes\", \"eyes\", \"eyes\", \"eyes\", \"eyes\", \"eyes\", \"eyes\", \"face\", \"face\", \"face\", \"face\", \"face\", \"face\", \"face\", \"faces\", \"faces\", \"faces\", \"faces\", \"faces\", \"faces\", \"faces\", \"farm\", \"farm\", \"farm\", \"farm\", \"farm\", \"farm\", \"farm\", \"farmers\", \"farmers\", \"farmers\", \"farmers\", \"farmers\", \"farmers\", \"farmers\", \"fatal\", \"fatal\", \"fatal\", \"fatal\", \"fatal\", \"fatal\", \"fatal\", \"father\", \"father\", \"father\", \"father\", \"father\", \"father\", \"father\", \"fears\", \"fears\", \"fears\", \"fears\", \"fears\", \"fears\", \"fears\", \"fight\", \"fight\", \"fight\", \"fight\", \"fight\", \"fight\", \"fight\", \"final\", \"final\", \"final\", \"final\", \"final\", \"final\", \"final\", \"finals\", \"finals\", \"finals\", \"finals\", \"finals\", \"finals\", \"finals\", \"fined\", \"fined\", \"fined\", \"fined\", \"fined\", \"fined\", \"fined\", \"firefighters\", \"firefighters\", \"firefighters\", \"firefighters\", \"firefighters\", \"firefighters\", \"firefighters\", \"fires\", \"fires\", \"fires\", \"fires\", \"fires\", \"fires\", \"fires\", \"flood\", \"flood\", \"flood\", \"flood\", \"flood\", \"flood\", \"flood\", \"flu\", \"flu\", \"flu\", \"flu\", \"flu\", \"flu\", \"flu\", \"footage\", \"footage\", \"footage\", \"footage\", \"footage\", \"footage\", \"footage\", \"forced\", \"forced\", \"forced\", \"forced\", \"forced\", \"forced\", \"forced\", \"friday\", \"friday\", \"friday\", \"friday\", \"friday\", \"friday\", \"friday\", \"fruit\", \"fruit\", \"fruit\", \"fruit\", \"fruit\", \"fruit\", \"fruit\", \"future\", \"future\", \"future\", \"future\", \"future\", \"future\", \"future\", \"games\", \"games\", \"games\", \"games\", \"games\", \"games\", \"games\", \"gaza\", \"gaza\", \"gaza\", \"gaza\", \"gaza\", \"gaza\", \"gaza\", \"gets\", \"gets\", \"gets\", \"gets\", \"gets\", \"gets\", \"gets\", \"girl\", \"girl\", \"girl\", \"girl\", \"girl\", \"girl\", \"girl\", \"global\", \"global\", \"global\", \"global\", \"global\", \"global\", \"global\", \"gold\", \"gold\", \"gold\", \"gold\", \"gold\", \"gold\", \"gold\", \"government\", \"government\", \"government\", \"government\", \"government\", \"government\", \"government\", \"govt\", \"govt\", \"govt\", \"govt\", \"govt\", \"govt\", \"govt\", \"grand\", \"grand\", \"grand\", \"grand\", \"grand\", \"grand\", \"grand\", \"grandstand\", \"grandstand\", \"grandstand\", \"grandstand\", \"grandstand\", \"grandstand\", \"grandstand\", \"great\", \"great\", \"great\", \"great\", \"great\", \"great\", \"great\", \"green\", \"green\", \"green\", \"green\", \"green\", \"green\", \"green\", \"group\", \"group\", \"group\", \"group\", \"group\", \"group\", \"group\", \"growth\", \"growth\", \"growth\", \"growth\", \"growth\", \"growth\", \"growth\", \"guilty\", \"guilty\", \"guilty\", \"guilty\", \"guilty\", \"guilty\", \"guilty\", \"health\", \"health\", \"health\", \"health\", \"health\", \"health\", \"health\", \"hearing\", \"hearing\", \"hearing\", \"hearing\", \"hearing\", \"hearing\", \"hearing\", \"heat\", \"heat\", \"heat\", \"heat\", \"heat\", \"heat\", \"heat\", \"held\", \"held\", \"held\", \"held\", \"held\", \"held\", \"held\", \"help\", \"help\", \"help\", \"help\", \"help\", \"help\", \"help\", \"highlights\", \"highlights\", \"highlights\", \"highlights\", \"highlights\", \"highlights\", \"highlights\", \"hit\", \"hit\", \"hit\", \"hit\", \"hit\", \"hit\", \"hit\", \"home\", \"home\", \"home\", \"home\", \"home\", \"home\", \"home\", \"hope\", \"hope\", \"hope\", \"hope\", \"hope\", \"hope\", \"hope\", \"hospital\", \"hospital\", \"hospital\", \"hospital\", \"hospital\", \"hospital\", \"hospital\", \"hour\", \"hour\", \"hour\", \"hour\", \"hour\", \"hour\", \"hour\", \"house\", \"house\", \"house\", \"house\", \"house\", \"house\", \"house\", \"housing\", \"housing\", \"housing\", \"housing\", \"housing\", \"housing\", \"housing\", \"human\", \"human\", \"human\", \"human\", \"human\", \"human\", \"human\", \"illegal\", \"illegal\", \"illegal\", \"illegal\", \"illegal\", \"illegal\", \"illegal\", \"indigenous\", \"indigenous\", \"indigenous\", \"indigenous\", \"indigenous\", \"indigenous\", \"indigenous\", \"indonesian\", \"indonesian\", \"indonesian\", \"indonesian\", \"indonesian\", \"indonesian\", \"indonesian\", \"industry\", \"industry\", \"industry\", \"industry\", \"industry\", \"industry\", \"industry\", \"injured\", \"injured\", \"injured\", \"injured\", \"injured\", \"injured\", \"injured\", \"inquest\", \"inquest\", \"inquest\", \"inquest\", \"inquest\", \"inquest\", \"inquest\", \"inquiry\", \"inquiry\", \"inquiry\", \"inquiry\", \"inquiry\", \"inquiry\", \"inquiry\", \"international\", \"international\", \"international\", \"international\", \"international\", \"international\", \"international\", \"interview\", \"interview\", \"interview\", \"interview\", \"interview\", \"interview\", \"interview\", \"investigate\", \"investigate\", \"investigate\", \"investigate\", \"investigate\", \"investigate\", \"investigate\", \"israeli\", \"israeli\", \"israeli\", \"israeli\", \"israeli\", \"israeli\", \"israeli\", \"jailed\", \"jailed\", \"jailed\", \"jailed\", \"jailed\", \"jailed\", \"jailed\", \"japan\", \"japan\", \"japan\", \"japan\", \"japan\", \"japan\", \"japan\", \"job\", \"job\", \"job\", \"job\", \"job\", \"job\", \"job\", \"jobs\", \"jobs\", \"jobs\", \"jobs\", \"jobs\", \"jobs\", \"jobs\", \"july\", \"july\", \"july\", \"july\", \"july\", \"july\", \"july\", \"kill\", \"kill\", \"kill\", \"kill\", \"kill\", \"kill\", \"kill\", \"killed\", \"killed\", \"killed\", \"killed\", \"killed\", \"killed\", \"killed\", \"killing\", \"killing\", \"killing\", \"killing\", \"killing\", \"killing\", \"killing\", \"kills\", \"kills\", \"kills\", \"kills\", \"kills\", \"kills\", \"kills\", \"korea\", \"korea\", \"korea\", \"korea\", \"korea\", \"korea\", \"korea\", \"lanka\", \"lanka\", \"lanka\", \"lanka\", \"lanka\", \"lanka\", \"lanka\", \"lawyer\", \"lawyer\", \"lawyer\", \"lawyer\", \"lawyer\", \"lawyer\", \"lawyer\", \"lawyers\", \"lawyers\", \"lawyers\", \"lawyers\", \"lawyers\", \"lawyers\", \"lawyers\", \"lead\", \"lead\", \"lead\", \"lead\", \"lead\", \"lead\", \"lead\", \"league\", \"league\", \"league\", \"league\", \"league\", \"league\", \"league\", \"light\", \"light\", \"light\", \"light\", \"light\", \"light\", \"light\", \"long\", \"long\", \"long\", \"long\", \"long\", \"long\", \"long\", \"lose\", \"lose\", \"lose\", \"lose\", \"lose\", \"lose\", \"lose\", \"man\", \"man\", \"man\", \"man\", \"man\", \"man\", \"man\", \"market\", \"market\", \"market\", \"market\", \"market\", \"market\", \"market\", \"mayor\", \"mayor\", \"mayor\", \"mayor\", \"mayor\", \"mayor\", \"mayor\", \"mental\", \"mental\", \"mental\", \"mental\", \"mental\", \"mental\", \"mental\", \"mid\", \"mid\", \"mid\", \"mid\", \"mid\", \"mid\", \"mid\", \"military\", \"military\", \"military\", \"military\", \"military\", \"military\", \"military\", \"minister\", \"minister\", \"minister\", \"minister\", \"minister\", \"minister\", \"minister\", \"missing\", \"missing\", \"missing\", \"missing\", \"missing\", \"missing\", \"missing\", \"monday\", \"monday\", \"monday\", \"monday\", \"monday\", \"monday\", \"monday\", \"mp\", \"mp\", \"mp\", \"mp\", \"mp\", \"mp\", \"mp\", \"murder\", \"murder\", \"murder\", \"murder\", \"murder\", \"murder\", \"murder\", \"murray\", \"murray\", \"murray\", \"murray\", \"murray\", \"murray\", \"murray\", \"music\", \"music\", \"music\", \"music\", \"music\", \"music\", \"music\", \"nationals\", \"nationals\", \"nationals\", \"nationals\", \"nationals\", \"nationals\", \"nationals\", \"need\", \"need\", \"need\", \"need\", \"need\", \"need\", \"need\", \"new\", \"new\", \"new\", \"new\", \"new\", \"new\", \"new\", \"news\", \"news\", \"news\", \"news\", \"news\", \"news\", \"news\", \"north\", \"north\", \"north\", \"north\", \"north\", \"north\", \"north\", \"nrn\", \"nrn\", \"nrn\", \"nrn\", \"nrn\", \"nrn\", \"nrn\", \"nsw\", \"nsw\", \"nsw\", \"nsw\", \"nsw\", \"nsw\", \"nsw\", \"nuclear\", \"nuclear\", \"nuclear\", \"nuclear\", \"nuclear\", \"nuclear\", \"nuclear\", \"officer\", \"officer\", \"officer\", \"officer\", \"officer\", \"officer\", \"officer\", \"old\", \"old\", \"old\", \"old\", \"old\", \"old\", \"old\", \"open\", \"open\", \"open\", \"open\", \"open\", \"open\", \"open\", \"owners\", \"owners\", \"owners\", \"owners\", \"owners\", \"owners\", \"owners\", \"package\", \"package\", \"package\", \"package\", \"package\", \"package\", \"package\", \"parents\", \"parents\", \"parents\", \"parents\", \"parents\", \"parents\", \"parents\", \"perth\", \"perth\", \"perth\", \"perth\", \"perth\", \"perth\", \"perth\", \"plan\", \"plan\", \"plan\", \"plan\", \"plan\", \"plan\", \"plan\", \"plans\", \"plans\", \"plans\", \"plans\", \"plans\", \"plans\", \"plans\", \"player\", \"player\", \"player\", \"player\", \"player\", \"player\", \"player\", \"players\", \"players\", \"players\", \"players\", \"players\", \"players\", \"players\", \"pleads\", \"pleads\", \"pleads\", \"pleads\", \"pleads\", \"pleads\", \"pleads\", \"police\", \"police\", \"police\", \"police\", \"police\", \"police\", \"police\", \"policy\", \"policy\", \"policy\", \"policy\", \"policy\", \"policy\", \"policy\", \"power\", \"power\", \"power\", \"power\", \"power\", \"power\", \"power\", \"president\", \"president\", \"president\", \"president\", \"president\", \"president\", \"president\", \"private\", \"private\", \"private\", \"private\", \"private\", \"private\", \"private\", \"promises\", \"promises\", \"promises\", \"promises\", \"promises\", \"promises\", \"promises\", \"public\", \"public\", \"public\", \"public\", \"public\", \"public\", \"public\", \"push\", \"push\", \"push\", \"push\", \"push\", \"push\", \"push\", \"qld\", \"qld\", \"qld\", \"qld\", \"qld\", \"qld\", \"qld\", \"queensland\", \"queensland\", \"queensland\", \"queensland\", \"queensland\", \"queensland\", \"queensland\", \"quits\", \"quits\", \"quits\", \"quits\", \"quits\", \"quits\", \"quits\", \"rail\", \"rail\", \"rail\", \"rail\", \"rail\", \"rail\", \"rail\", \"rain\", \"rain\", \"rain\", \"rain\", \"rain\", \"rain\", \"rain\", \"rape\", \"rape\", \"rape\", \"rape\", \"rape\", \"rape\", \"rape\", \"rate\", \"rate\", \"rate\", \"rate\", \"rate\", \"rate\", \"rate\", \"rates\", \"rates\", \"rates\", \"rates\", \"rates\", \"rates\", \"rates\", \"record\", \"record\", \"record\", \"record\", \"record\", \"record\", \"record\", \"records\", \"records\", \"records\", \"records\", \"records\", \"records\", \"records\", \"reef\", \"reef\", \"reef\", \"reef\", \"reef\", \"reef\", \"reef\", \"reform\", \"reform\", \"reform\", \"reform\", \"reform\", \"reform\", \"reform\", \"released\", \"released\", \"released\", \"released\", \"released\", \"released\", \"released\", \"relief\", \"relief\", \"relief\", \"relief\", \"relief\", \"relief\", \"relief\", \"remains\", \"remains\", \"remains\", \"remains\", \"remains\", \"remains\", \"remains\", \"report\", \"report\", \"report\", \"report\", \"report\", \"report\", \"report\", \"residents\", \"residents\", \"residents\", \"residents\", \"residents\", \"residents\", \"residents\", \"resources\", \"resources\", \"resources\", \"resources\", \"resources\", \"resources\", \"resources\", \"return\", \"return\", \"return\", \"return\", \"return\", \"return\", \"return\", \"rise\", \"rise\", \"rise\", \"rise\", \"rise\", \"rise\", \"rise\", \"road\", \"road\", \"road\", \"road\", \"road\", \"road\", \"road\", \"royal\", \"royal\", \"royal\", \"royal\", \"royal\", \"royal\", \"royal\", \"rudd\", \"rudd\", \"rudd\", \"rudd\", \"rudd\", \"rudd\", \"rudd\", \"rural\", \"rural\", \"rural\", \"rural\", \"rural\", \"rural\", \"rural\", \"sa\", \"sa\", \"sa\", \"sa\", \"sa\", \"sa\", \"sa\", \"sale\", \"sale\", \"sale\", \"sale\", \"sale\", \"sale\", \"sale\", \"says\", \"says\", \"says\", \"says\", \"says\", \"says\", \"says\", \"search\", \"search\", \"search\", \"search\", \"search\", \"search\", \"search\", \"season\", \"season\", \"season\", \"season\", \"season\", \"season\", \"season\", \"second\", \"second\", \"second\", \"second\", \"second\", \"second\", \"second\", \"sector\", \"sector\", \"sector\", \"sector\", \"sector\", \"sector\", \"sector\", \"seekers\", \"seekers\", \"seekers\", \"seekers\", \"seekers\", \"seekers\", \"seekers\", \"sees\", \"sees\", \"sees\", \"sees\", \"sees\", \"sees\", \"sees\", \"senate\", \"senate\", \"senate\", \"senate\", \"senate\", \"senate\", \"senate\", \"sentence\", \"sentence\", \"sentence\", \"sentence\", \"sentence\", \"sentence\", \"sentence\", \"series\", \"series\", \"series\", \"series\", \"series\", \"series\", \"series\", \"service\", \"service\", \"service\", \"service\", \"service\", \"service\", \"service\", \"set\", \"set\", \"set\", \"set\", \"set\", \"set\", \"set\", \"sex\", \"sex\", \"sex\", \"sex\", \"sex\", \"sex\", \"sex\", \"sexual\", \"sexual\", \"sexual\", \"sexual\", \"sexual\", \"sexual\", \"sexual\", \"share\", \"share\", \"share\", \"share\", \"share\", \"share\", \"share\", \"shares\", \"shares\", \"shares\", \"shares\", \"shares\", \"shares\", \"shares\", \"shark\", \"shark\", \"shark\", \"shark\", \"shark\", \"shark\", \"shark\", \"shooting\", \"shooting\", \"shooting\", \"shooting\", \"shooting\", \"shooting\", \"shooting\", \"south\", \"south\", \"south\", \"south\", \"south\", \"south\", \"south\", \"spark\", \"spark\", \"spark\", \"spark\", \"spark\", \"spark\", \"spark\", \"spill\", \"spill\", \"spill\", \"spill\", \"spill\", \"spill\", \"spill\", \"sri\", \"sri\", \"sri\", \"sri\", \"sri\", \"sri\", \"sri\", \"stabbing\", \"stabbing\", \"stabbing\", \"stabbing\", \"stabbing\", \"stabbing\", \"stabbing\", \"staff\", \"staff\", \"staff\", \"staff\", \"staff\", \"staff\", \"staff\", \"state\", \"state\", \"state\", \"state\", \"state\", \"state\", \"state\", \"strikes\", \"strikes\", \"strikes\", \"strikes\", \"strikes\", \"strikes\", \"strikes\", \"strong\", \"strong\", \"strong\", \"strong\", \"strong\", \"strong\", \"strong\", \"study\", \"study\", \"study\", \"study\", \"study\", \"study\", \"study\", \"support\", \"support\", \"support\", \"support\", \"support\", \"support\", \"support\", \"suspected\", \"suspected\", \"suspected\", \"suspected\", \"suspected\", \"suspected\", \"suspected\", \"sydney\", \"sydney\", \"sydney\", \"sydney\", \"sydney\", \"sydney\", \"sydney\", \"takes\", \"takes\", \"takes\", \"takes\", \"takes\", \"takes\", \"takes\", \"tasmania\", \"tasmania\", \"tasmania\", \"tasmania\", \"tasmania\", \"tasmania\", \"tasmania\", \"teen\", \"teen\", \"teen\", \"teen\", \"teen\", \"teen\", \"teen\", \"test\", \"test\", \"test\", \"test\", \"test\", \"test\", \"test\", \"thursday\", \"thursday\", \"thursday\", \"thursday\", \"thursday\", \"thursday\", \"thursday\", \"tigers\", \"tigers\", \"tigers\", \"tigers\", \"tigers\", \"tigers\", \"tigers\", \"title\", \"title\", \"title\", \"title\", \"title\", \"title\", \"title\", \"told\", \"told\", \"told\", \"told\", \"told\", \"told\", \"told\", \"toll\", \"toll\", \"toll\", \"toll\", \"toll\", \"toll\", \"toll\", \"trade\", \"trade\", \"trade\", \"trade\", \"trade\", \"trade\", \"trade\", \"trading\", \"trading\", \"trading\", \"trading\", \"trading\", \"trading\", \"trading\", \"train\", \"train\", \"train\", \"train\", \"train\", \"train\", \"train\", \"training\", \"training\", \"training\", \"training\", \"training\", \"training\", \"training\", \"travel\", \"travel\", \"travel\", \"travel\", \"travel\", \"travel\", \"travel\", \"trial\", \"trial\", \"trial\", \"trial\", \"trial\", \"trial\", \"trial\", \"trump\", \"trump\", \"trump\", \"trump\", \"trump\", \"trump\", \"trump\", \"turnbull\", \"turnbull\", \"turnbull\", \"turnbull\", \"turnbull\", \"turnbull\", \"turnbull\", \"union\", \"union\", \"union\", \"union\", \"union\", \"union\", \"union\", \"upgrade\", \"upgrade\", \"upgrade\", \"upgrade\", \"upgrade\", \"upgrade\", \"upgrade\", \"urged\", \"urged\", \"urged\", \"urged\", \"urged\", \"urged\", \"urged\", \"urges\", \"urges\", \"urges\", \"urges\", \"urges\", \"urges\", \"urges\", \"vic\", \"vic\", \"vic\", \"vic\", \"vic\", \"vic\", \"vic\", \"victory\", \"victory\", \"victory\", \"victory\", \"victory\", \"victory\", \"victory\", \"violence\", \"violence\", \"violence\", \"violence\", \"violence\", \"violence\", \"violence\", \"vote\", \"vote\", \"vote\", \"vote\", \"vote\", \"vote\", \"vote\", \"vs\", \"vs\", \"vs\", \"vs\", \"vs\", \"vs\", \"vs\", \"wa\", \"wa\", \"wa\", \"wa\", \"wa\", \"wa\", \"wa\", \"wall\", \"wall\", \"wall\", \"wall\", \"wall\", \"wall\", \"wall\", \"warning\", \"warning\", \"warning\", \"warning\", \"warning\", \"warning\", \"warning\", \"warriors\", \"warriors\", \"warriors\", \"warriors\", \"warriors\", \"warriors\", \"warriors\", \"water\", \"water\", \"water\", \"water\", \"water\", \"water\", \"water\", \"way\", \"way\", \"way\", \"way\", \"way\", \"way\", \"way\", \"west\", \"west\", \"west\", \"west\", \"west\", \"west\", \"west\", \"wheat\", \"wheat\", \"wheat\", \"wheat\", \"wheat\", \"wheat\", \"wheat\", \"white\", \"white\", \"white\", \"white\", \"white\", \"white\", \"white\", \"win\", \"win\", \"win\", \"win\", \"win\", \"win\", \"win\", \"wind\", \"wind\", \"wind\", \"wind\", \"wind\", \"wind\", \"wind\", \"wins\", \"wins\", \"wins\", \"wins\", \"wins\", \"wins\", \"wins\", \"woman\", \"woman\", \"woman\", \"woman\", \"woman\", \"woman\", \"woman\", \"wool\", \"wool\", \"wool\", \"wool\", \"wool\", \"wool\", \"wool\", \"work\", \"work\", \"work\", \"work\", \"work\", \"work\", \"work\", \"workers\", \"workers\", \"workers\", \"workers\", \"workers\", \"workers\", \"workers\", \"world\", \"world\", \"world\", \"world\", \"world\", \"world\", \"world\", \"wrap\", \"wrap\", \"wrap\", \"wrap\", \"wrap\", \"wrap\", \"wrap\", \"years\", \"years\", \"years\", \"years\", \"years\", \"years\", \"years\", \"youth\", \"youth\", \"youth\", \"youth\", \"youth\", \"youth\", \"youth\"]}, \"R\": 30, \"lambda.step\": 0.01, \"plot.opts\": {\"xlab\": \"PC1\", \"ylab\": \"PC2\"}, \"topic.order\": [7, 6, 4, 3, 1, 5, 2]};\n",
       "\n",
       "function LDAvis_load_lib(url, callback){\n",
       "  var s = document.createElement('script');\n",
       "  s.src = url;\n",
       "  s.async = true;\n",
       "  s.onreadystatechange = s.onload = callback;\n",
       "  s.onerror = function(){console.warn(\"failed to load library \" + url);};\n",
       "  document.getElementsByTagName(\"head\")[0].appendChild(s);\n",
       "}\n",
       "\n",
       "if(typeof(LDAvis) !== \"undefined\"){\n",
       "   // already loaded: just create the visualization\n",
       "   !function(LDAvis){\n",
       "       new LDAvis(\"#\" + \"ldavis_el1245217868430800482124813209\", ldavis_el1245217868430800482124813209_data);\n",
       "   }(LDAvis);\n",
       "}else if(typeof define === \"function\" && define.amd){\n",
       "   // require.js is available: use it to load d3/LDAvis\n",
       "   require.config({paths: {d3: \"https://d3js.org/d3.v5\"}});\n",
       "   require([\"d3\"], function(d3){\n",
       "      window.d3 = d3;\n",
       "      LDAvis_load_lib(\"https://cdn.jsdelivr.net/gh/bmabey/pyLDAvis@3.4.0/pyLDAvis/js/ldavis.v3.0.0.js\", function(){\n",
       "        new LDAvis(\"#\" + \"ldavis_el1245217868430800482124813209\", ldavis_el1245217868430800482124813209_data);\n",
       "      });\n",
       "    });\n",
       "}else{\n",
       "    // require.js not available: dynamically load d3 & LDAvis\n",
       "    LDAvis_load_lib(\"https://d3js.org/d3.v5.js\", function(){\n",
       "         LDAvis_load_lib(\"https://cdn.jsdelivr.net/gh/bmabey/pyLDAvis@3.4.0/pyLDAvis/js/ldavis.v3.0.0.js\", function(){\n",
       "                 new LDAvis(\"#\" + \"ldavis_el1245217868430800482124813209\", ldavis_el1245217868430800482124813209_data);\n",
       "            })\n",
       "         });\n",
       "}\n",
       "</script>"
      ],
      "text/plain": [
       "PreparedData(topic_coordinates=                x           y  topics  cluster       Freq\n",
       "topic                                                    \n",
       "6      195.414749   17.241480       1        1  15.119895\n",
       "5      -80.005539  174.664764       2        1  14.653602\n",
       "3     -170.969986   15.822544       3        1  14.385241\n",
       "2       12.006309   16.455801       4        1  14.343279\n",
       "0      103.811363 -141.527847       5        1  14.184910\n",
       "4      -79.145721 -142.320541       6        1  14.119804\n",
       "1      103.326576  175.270462       7        1  13.193269, topic_info=            Term          Freq         Total Category  logprob  loglift\n",
       "4215      police  8.910187e+06  8.910187e+06  Default  30.0000  30.0000\n",
       "3452         man  6.753808e+06  6.753808e+06  Default  29.0000  29.0000\n",
       "1427       court  3.477984e+06  3.477984e+06  Default  28.0000  28.0000\n",
       "2959   interview  2.954005e+06  2.954005e+06  Default  27.0000  27.0000\n",
       "1446       crash  2.974109e+06  2.974109e+06  Default  26.0000  26.0000\n",
       "...          ...           ...           ...      ...      ...      ...\n",
       "464    australia  7.490501e+05  3.756165e+06   Topic7   4.1417   9.9473\n",
       "4661      report  5.936318e+05  2.215669e+06   Topic7   3.9091  10.2426\n",
       "6345       years  5.143989e+05  1.302581e+06   Topic7   3.7658  10.6305\n",
       "1085     charged  4.970225e+05  2.519685e+06   Topic7   3.7315   9.9364\n",
       "465   australian  4.913183e+05  3.177740e+06   Topic7   3.7199   9.6928\n",
       "\n",
       "[391 rows x 6 columns], token_table=      Topic      Freq   Term\n",
       "term                        \n",
       "20        1  0.002243     19\n",
       "20        2  0.002175     19\n",
       "20        3  0.987296     19\n",
       "20        4  0.002128     19\n",
       "20        5  0.002107     19\n",
       "...     ...       ...    ...\n",
       "6352      3  0.002398  youth\n",
       "6352      4  0.826029  youth\n",
       "6352      5  0.162068  youth\n",
       "6352      6  0.002350  youth\n",
       "6352      7  0.002197  youth\n",
       "\n",
       "[2359 rows x 3 columns], R=30, lambda_step=0.01, plot_opts={'xlab': 'PC1', 'ylab': 'PC2'}, topic_order=[7, 6, 4, 3, 1, 5, 2])"
      ]
     },
     "execution_count": 38,
     "metadata": {},
     "output_type": "execute_result"
    }
   ],
   "source": [
    "#panel = pyLDAvis.sklearn.prepare(LDA_model, dtm, cv, mds='tsne') # Create the panel for the visualization for old version\n",
    "panel"
   ]
  },
  {
   "cell_type": "markdown",
   "metadata": {},
   "source": [
    "### Some Comments On The Graphic     \n",
    "\n",
    "- By selecting a particular term on the right, we can see which topic(s) it belongs.    \n",
    "- Vice-versa, by choosing a topic on the left, we can see all the terms, from most to least relevant term.  "
   ]
  },
  {
   "cell_type": "code",
   "execution_count": null,
   "metadata": {},
   "outputs": [],
   "source": []
  },
  {
   "cell_type": "code",
   "execution_count": null,
   "metadata": {},
   "outputs": [],
   "source": [
    "--END--"
   ]
  }
 ],
 "metadata": {
  "kernelspec": {
   "display_name": "Python 3 (ipykernel)",
   "language": "python",
   "name": "python3"
  },
  "language_info": {
   "codemirror_mode": {
    "name": "ipython",
    "version": 3
   },
   "file_extension": ".py",
   "mimetype": "text/x-python",
   "name": "python",
   "nbconvert_exporter": "python",
   "pygments_lexer": "ipython3",
   "version": "3.11.5"
  },
  "toc": {
   "base_numbering": 1,
   "nav_menu": {},
   "number_sections": true,
   "sideBar": true,
   "skip_h1_title": false,
   "title_cell": "Table of Contents",
   "title_sidebar": "Contents",
   "toc_cell": false,
   "toc_position": {},
   "toc_section_display": true,
   "toc_window_display": false
  }
 },
 "nbformat": 4,
 "nbformat_minor": 4
}
