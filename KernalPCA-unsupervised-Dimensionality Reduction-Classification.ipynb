{
 "cells": [
  {
   "cell_type": "code",
   "execution_count": null,
   "id": "8963c62c",
   "metadata": {},
   "outputs": [],
   "source": [
    "#PCA is a Principle Component Analysis -supervised-both input and out put train (x,y)\n",
    "#Scalar (size) and Vector(size and direction) \n",
    "#Eigen Value (Scalar(single)value), Eigen Vector*(1Dimention,2D,3D ) \n",
    "#Eiggen higher value is  PCA1 , low in 3d is pca3"
   ]
  },
  {
   "cell_type": "code",
   "execution_count": 1,
   "id": "517c02a8",
   "metadata": {},
   "outputs": [],
   "source": [
    "#import libraries\n",
    "import numpy as np\n",
    "import matplotlib.pyplot as plt\n",
    "import pandas as pd"
   ]
  },
  {
   "cell_type": "code",
   "execution_count": null,
   "id": "bdb8763d",
   "metadata": {},
   "outputs": [],
   "source": [
    "#dataset[\"outputcolumn\"].value_counts() to check imbalanced data"
   ]
  },
  {
   "cell_type": "code",
   "execution_count": 2,
   "id": "bb8c6e42",
   "metadata": {},
   "outputs": [],
   "source": [
    "# Importing the dataset\n",
    "dataset = pd.read_csv('Wine.csv')"
   ]
  },
  {
   "cell_type": "code",
   "execution_count": 3,
   "id": "f51fe8c0",
   "metadata": {},
   "outputs": [
    {
     "data": {
      "text/plain": [
       "Index(['Alcohol', 'Malic_Acid', 'Ash', 'Ash_Alcanity', 'Magnesium',\n",
       "       'Total_Phenols', 'Flavanoids', 'Nonflavanoid_Phenols',\n",
       "       'Proanthocyanins', 'Color_Intensity', 'Hue', 'OD280', 'Proline',\n",
       "       'Customer_Segment'],\n",
       "      dtype='object')"
      ]
     },
     "execution_count": 3,
     "metadata": {},
     "output_type": "execute_result"
    }
   ],
   "source": [
    "dataset.columns\n",
    "#14 columns are u=index 0 to 13"
   ]
  },
  {
   "cell_type": "code",
   "execution_count": 4,
   "id": "af1351e1",
   "metadata": {},
   "outputs": [
    {
     "data": {
      "text/plain": [
       "array([[1.423e+01, 1.710e+00, 2.430e+00, ..., 1.040e+00, 3.920e+00,\n",
       "        1.065e+03],\n",
       "       [1.320e+01, 1.780e+00, 2.140e+00, ..., 1.050e+00, 3.400e+00,\n",
       "        1.050e+03],\n",
       "       [1.316e+01, 2.360e+00, 2.670e+00, ..., 1.030e+00, 3.170e+00,\n",
       "        1.185e+03],\n",
       "       ...,\n",
       "       [1.327e+01, 4.280e+00, 2.260e+00, ..., 5.900e-01, 1.560e+00,\n",
       "        8.350e+02],\n",
       "       [1.317e+01, 2.590e+00, 2.370e+00, ..., 6.000e-01, 1.620e+00,\n",
       "        8.400e+02],\n",
       "       [1.413e+01, 4.100e+00, 2.740e+00, ..., 6.100e-01, 1.600e+00,\n",
       "        5.600e+02]])"
      ]
     },
     "execution_count": 4,
     "metadata": {},
     "output_type": "execute_result"
    }
   ],
   "source": [
    "\n",
    "X = dataset.iloc[:, 0:13].values\n",
    "#all rows (:) and columns from index 0 to 12 (13 not included)\n",
    "X"
   ]
  },
  {
   "cell_type": "code",
   "execution_count": 5,
   "id": "50ed28f9",
   "metadata": {},
   "outputs": [],
   "source": [
    "y = dataset.iloc[:, 13].values\n",
    "#all rows (:) and only the column at index 13 (a single column)"
   ]
  },
  {
   "cell_type": "code",
   "execution_count": 6,
   "id": "1b7f38b3",
   "metadata": {},
   "outputs": [
    {
     "data": {
      "text/plain": [
       "array([1, 1, 1, 1, 1, 1, 1, 1, 1, 1, 1, 1, 1, 1, 1, 1, 1, 1, 1, 1, 1, 1,\n",
       "       1, 1, 1, 1, 1, 1, 1, 1, 1, 1, 1, 1, 1, 1, 1, 1, 1, 1, 1, 1, 1, 1,\n",
       "       1, 1, 1, 1, 1, 1, 1, 1, 1, 1, 1, 1, 1, 1, 1, 2, 2, 2, 2, 2, 2, 2,\n",
       "       2, 2, 2, 2, 2, 2, 2, 2, 2, 2, 2, 2, 2, 2, 2, 2, 2, 2, 2, 2, 2, 2,\n",
       "       2, 2, 2, 2, 2, 2, 2, 2, 2, 2, 2, 2, 2, 2, 2, 2, 2, 2, 2, 2, 2, 2,\n",
       "       2, 2, 2, 2, 2, 2, 2, 2, 2, 2, 2, 2, 2, 2, 2, 2, 2, 2, 2, 2, 3, 3,\n",
       "       3, 3, 3, 3, 3, 3, 3, 3, 3, 3, 3, 3, 3, 3, 3, 3, 3, 3, 3, 3, 3, 3,\n",
       "       3, 3, 3, 3, 3, 3, 3, 3, 3, 3, 3, 3, 3, 3, 3, 3, 3, 3, 3, 3, 3, 3,\n",
       "       3, 3], dtype=int64)"
      ]
     },
     "execution_count": 6,
     "metadata": {},
     "output_type": "execute_result"
    }
   ],
   "source": [
    "y"
   ]
  },
  {
   "cell_type": "code",
   "execution_count": 7,
   "id": "835480c2",
   "metadata": {},
   "outputs": [],
   "source": [
    "# Splitting the dataset into the Training set and Test set\n",
    "from sklearn.model_selection import train_test_split\n",
    "X_train, X_test, y_train, y_test = train_test_split(X, y, test_size = 0.2, random_state = 0)"
   ]
  },
  {
   "cell_type": "code",
   "execution_count": 8,
   "id": "38db30c2",
   "metadata": {},
   "outputs": [],
   "source": [
    "# Feature Scaling on X (input)\n",
    "from sklearn.preprocessing import StandardScaler\n",
    "sc = StandardScaler()\n",
    "X_train = sc.fit_transform(X_train)  #learn and predict same passed input X_train(parameter)\n",
    "X_test = sc.transform(X_test)   #input test set:learned from the training data (fit) are applied to modify the test data."
   ]
  },
  {
   "cell_type": "code",
   "execution_count": 24,
   "id": "0587f2ee",
   "metadata": {},
   "outputs": [],
   "source": [
    "# Applying PCA\n",
    "from sklearn.decomposition import KernelPCA\n",
    "#kpca = KernelPCA(n_components = 2,kernal='rbf')  #2D rbf is non linear\n",
    "#kpca = KernelPCA(n_components=2, kernel=\"rbf\", gamma=15)\n",
    "kpca = KernelPCA(n_components=2, kernel='rbf', gamma=15, fit_inverse_transform=False)\n",
    "X_train = kpca.fit_transform(X_train)\n",
    "X_test = kpca.transform(X_test)\n",
    "#explained_variance = KernelPCA.explained_variance_ratio_  #PCA1,PCA2(clusters) eigen vector created based on Evalues"
   ]
  },
  {
   "cell_type": "code",
   "execution_count": 22,
   "id": "fc4aff13",
   "metadata": {},
   "outputs": [
    {
     "name": "stdout",
     "output_type": "stream",
     "text": [
      "1.5.2\n"
     ]
    }
   ],
   "source": [
    "import sklearn\n",
    "print(sklearn.__version__)"
   ]
  },
  {
   "cell_type": "code",
   "execution_count": 23,
   "id": "7b9cc9fa",
   "metadata": {},
   "outputs": [
    {
     "name": "stdout",
     "output_type": "stream",
     "text": [
      "Requirement already satisfied: scikit-learn in c:\\users\\hp\\anaconda3\\lib\\site-packages (1.5.2)Note: you may need to restart the kernel to use updated packages.\n",
      "\n",
      "Requirement already satisfied: numpy>=1.19.5 in c:\\users\\hp\\anaconda3\\lib\\site-packages (from scikit-learn) (1.24.3)\n",
      "Requirement already satisfied: scipy>=1.6.0 in c:\\users\\hp\\anaconda3\\lib\\site-packages (from scikit-learn) (1.14.1)\n",
      "Requirement already satisfied: joblib>=1.2.0 in c:\\users\\hp\\anaconda3\\lib\\site-packages (from scikit-learn) (1.2.0)\n",
      "Requirement already satisfied: threadpoolctl>=3.1.0 in c:\\users\\hp\\anaconda3\\lib\\site-packages (from scikit-learn) (3.5.0)\n"
     ]
    }
   ],
   "source": [
    "pip install -U scikit-learn"
   ]
  },
  {
   "cell_type": "code",
   "execution_count": 26,
   "id": "11c0282a",
   "metadata": {},
   "outputs": [
    {
     "name": "stdout",
     "output_type": "stream",
     "text": [
      "['X_fit_', '__annotations__', '__class__', '__delattr__', '__dict__', '__dir__', '__doc__', '__eq__', '__format__', '__ge__', '__getattribute__', '__getstate__', '__gt__', '__hash__', '__init__', '__init_subclass__', '__le__', '__lt__', '__module__', '__ne__', '__new__', '__reduce__', '__reduce_ex__', '__repr__', '__setattr__', '__setstate__', '__sizeof__', '__sklearn_clone__', '__str__', '__subclasshook__', '__weakref__', '_build_request_for_signature', '_centerer', '_check_feature_names', '_check_n_features', '_doc_link_module', '_doc_link_template', '_doc_link_url_param_generator', '_fit_inverse_transform', '_fit_transform', '_get_default_requests', '_get_doc_link', '_get_kernel', '_get_metadata_request', '_get_param_names', '_get_tags', '_more_tags', '_n_features_out', '_parameter_constraints', '_repr_html_', '_repr_html_inner', '_repr_mimebundle_', '_sklearn_auto_wrap_output_keys', '_validate_data', '_validate_params', 'alpha', 'coef0', 'copy_X', 'degree', 'eigen_solver', 'eigenvalues_', 'eigenvectors_', 'fit', 'fit_inverse_transform', 'fit_transform', 'gamma', 'gamma_', 'get_feature_names_out', 'get_metadata_routing', 'get_params', 'inverse_transform', 'iterated_power', 'kernel', 'kernel_params', 'max_iter', 'n_components', 'n_features_in_', 'n_jobs', 'random_state', 'remove_zero_eig', 'set_output', 'set_params', 'tol', 'transform']\n"
     ]
    }
   ],
   "source": [
    "print(dir(kpca))"
   ]
  },
  {
   "cell_type": "code",
   "execution_count": 30,
   "id": "1ce11aa6",
   "metadata": {},
   "outputs": [],
   "source": [
    "# Access the eigenvalues\n",
    "eigenvalues = kpca.eigenvalues_\n",
    "eigenvector = kpca.eigenvectors_"
   ]
  },
  {
   "cell_type": "code",
   "execution_count": 31,
   "id": "46092baa",
   "metadata": {},
   "outputs": [
    {
     "data": {
      "text/plain": [
       "array([[-1.42871722e-02, -2.65543884e-17],\n",
       "       [-1.42871722e-02,  1.40275318e-15],\n",
       "       [-1.42871722e-02,  0.00000000e+00],\n",
       "       [-1.42871722e-02,  4.44089210e-16],\n",
       "       [-1.42871722e-02,  1.33445823e-17],\n",
       "       [-1.42871722e-02,  1.22408044e-17],\n",
       "       [-1.42871722e-02,  1.29288806e-17],\n",
       "       [-1.42871722e-02,  1.18072624e-17],\n",
       "       [-1.42871722e-02,  1.23550904e-17],\n",
       "       [-1.42871722e-02,  1.11947125e-17],\n",
       "       [-1.42871722e-02,  1.22904380e-17],\n",
       "       [-1.42871722e-02,  2.28113861e-18],\n",
       "       [-1.42871722e-02,  2.61219564e-18],\n",
       "       [-1.42871722e-02,  2.03629831e-18],\n",
       "       [ 4.92907442e-01,  5.00000000e-01],\n",
       "       [-1.42871722e-02, -5.17501950e-17],\n",
       "       [-1.42871722e-02, -5.17501950e-17],\n",
       "       [-1.42871722e-02, -5.17501950e-17],\n",
       "       [-1.42871722e-02, -5.17383246e-17],\n",
       "       [-1.42871722e-02, -5.17442945e-17],\n",
       "       [-1.42871722e-02, -5.17383246e-17],\n",
       "       [-1.42871722e-02, -5.17442945e-17],\n",
       "       [-1.42871722e-02, -5.00041565e-17],\n",
       "       [-1.42871722e-02, -5.00101264e-17],\n",
       "       [-1.42871722e-02, -5.00041565e-17],\n",
       "       [-1.42871722e-02, -5.00101264e-17],\n",
       "       [-1.42871722e-02, -5.02396008e-17],\n",
       "       [-1.42871722e-02, -5.00041565e-17],\n",
       "       [-1.42871722e-02, -5.02396008e-17],\n",
       "       [-1.42871722e-02, -5.02396008e-17],\n",
       "       [-1.42871722e-02, -4.86079177e-17],\n",
       "       [-1.42871722e-02, -4.85054327e-17],\n",
       "       [-1.42871722e-02, -4.86079177e-17],\n",
       "       [-1.42871722e-02, -4.88014138e-17],\n",
       "       [-1.42871722e-02, -4.88014138e-17],\n",
       "       [-1.42871722e-02, -4.69938925e-17],\n",
       "       [-1.42871722e-02, -4.53330775e-17],\n",
       "       [-1.42871722e-02, -4.46903154e-17],\n",
       "       [-1.42871722e-02, -4.45436091e-17],\n",
       "       [-1.42871722e-02, -4.45436091e-17],\n",
       "       [-1.42871722e-02, -4.48337333e-17],\n",
       "       [-1.42871722e-02, -4.34522031e-17],\n",
       "       [-1.42871722e-02, -4.34876476e-17],\n",
       "       [-1.42871722e-02, -4.34876476e-17],\n",
       "       [-1.42871722e-02, -4.34876476e-17],\n",
       "       [-1.42871722e-02, -4.31704542e-17],\n",
       "       [-1.42871722e-02, -4.13621086e-17],\n",
       "       [-1.42871722e-02, -4.13621086e-17],\n",
       "       [-1.42871722e-02, -4.13621086e-17],\n",
       "       [-1.42871722e-02, -4.13621086e-17],\n",
       "       [-1.42871722e-02, -4.13979653e-17],\n",
       "       [-1.42871722e-02, -3.96637972e-17],\n",
       "       [-1.42871722e-02, -3.79296290e-17],\n",
       "       [-1.42871722e-02, -3.79296290e-17],\n",
       "       [-1.42871722e-02, -3.79296290e-17],\n",
       "       [-1.42871722e-02, -3.77478904e-17],\n",
       "       [-1.42871722e-02, -3.61954609e-17],\n",
       "       [-1.42871722e-02, -3.61954609e-17],\n",
       "       [-1.42871722e-02, -3.61462052e-17],\n",
       "       [-1.42871722e-02, -3.58727685e-17],\n",
       "       [-1.42871722e-02, -3.44120370e-17],\n",
       "       [-1.42871722e-02, -3.44996135e-17],\n",
       "       [-1.42871722e-02, -3.44120370e-17],\n",
       "       [-1.42871722e-02, -3.26912680e-17],\n",
       "       [-1.42871722e-02, -3.09791453e-17],\n",
       "       [-1.42871722e-02, -3.09791453e-17],\n",
       "       [-1.42871722e-02, -3.09791453e-17],\n",
       "       [-1.42871722e-02, -3.09791453e-17],\n",
       "       [-1.42871722e-02, -2.92449771e-17],\n",
       "       [-1.42871722e-02, -2.92449771e-17],\n",
       "       [-1.42871722e-02, -2.91040233e-17],\n",
       "       [-1.42871722e-02, -2.91040233e-17],\n",
       "       [-1.42871722e-02, -2.73698552e-17],\n",
       "       [-1.42871722e-02, -2.73698552e-17],\n",
       "       [-1.42871722e-02, -2.73698552e-17],\n",
       "       [-1.42871722e-02, -2.56356871e-17],\n",
       "       [-1.42871722e-02, -2.39015189e-17],\n",
       "       [-1.42871722e-02, -2.39092087e-17],\n",
       "       [-1.42871722e-02, -2.21750406e-17],\n",
       "       [-1.42871722e-02, -2.21750406e-17],\n",
       "       [-1.42871722e-02, -2.21750406e-17],\n",
       "       [-1.42871722e-02, -2.21750406e-17],\n",
       "       [-1.42871722e-02, -2.04408724e-17],\n",
       "       [-1.42871722e-02, -1.87067043e-17],\n",
       "       [-1.42871722e-02, -1.87067043e-17],\n",
       "       [-1.42871722e-02, -1.69725361e-17],\n",
       "       [-1.42871722e-02, -1.69725361e-17],\n",
       "       [-1.42871722e-02, -1.69725361e-17],\n",
       "       [-1.42871722e-02, -1.52383680e-17],\n",
       "       [-1.42871722e-02, -1.51650149e-17],\n",
       "       [-1.42871722e-02, -1.54034192e-17],\n",
       "       [-1.42871722e-02, -1.51650149e-17],\n",
       "       [-1.42871722e-02, -1.36692511e-17],\n",
       "       [-1.42871722e-02, -1.34308468e-17],\n",
       "       [-1.42871722e-02, -1.19350829e-17],\n",
       "       [-1.42871722e-02, -9.96251049e-18],\n",
       "       [-1.42871722e-02, -1.02009148e-17],\n",
       "       [-1.42871722e-02, -8.46674667e-18],\n",
       "       [-1.42871722e-02, -1.02709796e-17],\n",
       "       [-1.42871722e-02, -4.99841040e-18],\n",
       "       [ 4.92907442e-01,  5.00000000e-01],\n",
       "       [-1.42871722e-02, -6.07196196e-17],\n",
       "       [-1.42871722e-02, -6.43338378e-17],\n",
       "       [-1.42871722e-02, -6.77296452e-17],\n",
       "       [-1.42871722e-02, -6.78021741e-17],\n",
       "       [-1.42871722e-02, -6.78021741e-17],\n",
       "       [-1.42871722e-02, -7.11979815e-17],\n",
       "       [-1.42871722e-02, -7.08514650e-17],\n",
       "       [-1.42871722e-02, -7.10327915e-17],\n",
       "       [-1.42871722e-02, -6.77773152e-17],\n",
       "       [-1.42871722e-02, -6.78482042e-17],\n",
       "       [-1.42871722e-02, -6.78482042e-17],\n",
       "       [-1.42871722e-02, -6.43798680e-17],\n",
       "       [-1.42871722e-02, -6.09115317e-17],\n",
       "       [-1.42871722e-02, -6.09115317e-17],\n",
       "       [-1.42871722e-02, -6.09115317e-17],\n",
       "       [-1.42871722e-02, -5.74431954e-17],\n",
       "       [-1.42871722e-02, -5.39748592e-17],\n",
       "       [-1.42871722e-02, -5.39748592e-17],\n",
       "       [-1.42871722e-02, -5.74175101e-17],\n",
       "       [-1.42871722e-02, -5.74175101e-17],\n",
       "       [-1.42871722e-02, -5.76267302e-17],\n",
       "       [-1.42871722e-02, -5.41583939e-17],\n",
       "       [-1.42871722e-02, -5.06900576e-17],\n",
       "       [-1.42871722e-02, -5.06900576e-17],\n",
       "       [-1.42871722e-02, -5.06900576e-17],\n",
       "       [-1.42871722e-02, -5.06546131e-17],\n",
       "       [-1.42871722e-02, -4.71307782e-17],\n",
       "       [-1.42871722e-02, -5.06337347e-17],\n",
       "       [-1.42871722e-02, -4.71862768e-17],\n",
       "       [-1.42871722e-02, -4.38646468e-17],\n",
       "       [-1.42871722e-02, -4.71653984e-17],\n",
       "       [-1.42871722e-02, -4.39492777e-17],\n",
       "       [-1.42871722e-02, -4.71653984e-17],\n",
       "       [-1.42871722e-02, -4.34758985e-17],\n",
       "       [-1.42871722e-02, -4.34058338e-17],\n",
       "       [ 4.92907442e-01, -5.00000000e-01],\n",
       "       [-1.42871722e-02,  8.28267950e-18],\n",
       "       [-1.42871722e-02,  1.01981741e-17],\n",
       "       [-1.42871722e-02,  1.19323423e-17],\n",
       "       [ 4.92907442e-01, -5.00000000e-01],\n",
       "       [-1.42871722e-02,  6.73991077e-17]])"
      ]
     },
     "execution_count": 31,
     "metadata": {},
     "output_type": "execute_result"
    }
   ],
   "source": [
    "eigenvector"
   ]
  },
  {
   "cell_type": "code",
   "execution_count": 28,
   "id": "bbaab8f5",
   "metadata": {},
   "outputs": [
    {
     "data": {
      "text/plain": [
       "array([5.83098592, 2.        ])"
      ]
     },
     "execution_count": 28,
     "metadata": {},
     "output_type": "execute_result"
    }
   ],
   "source": [
    "eigenvalues"
   ]
  },
  {
   "cell_type": "code",
   "execution_count": null,
   "id": "ac567d3e",
   "metadata": {},
   "outputs": [],
   "source": [
    "#PCA Dimentional Reduction(used all features(i/p)) applied and utilize to any linear model"
   ]
  },
  {
   "cell_type": "code",
   "execution_count": 32,
   "id": "d542a984",
   "metadata": {},
   "outputs": [
    {
     "data": {
      "text/html": [
       "<style>#sk-container-id-1 {\n",
       "  /* Definition of color scheme common for light and dark mode */\n",
       "  --sklearn-color-text: black;\n",
       "  --sklearn-color-line: gray;\n",
       "  /* Definition of color scheme for unfitted estimators */\n",
       "  --sklearn-color-unfitted-level-0: #fff5e6;\n",
       "  --sklearn-color-unfitted-level-1: #f6e4d2;\n",
       "  --sklearn-color-unfitted-level-2: #ffe0b3;\n",
       "  --sklearn-color-unfitted-level-3: chocolate;\n",
       "  /* Definition of color scheme for fitted estimators */\n",
       "  --sklearn-color-fitted-level-0: #f0f8ff;\n",
       "  --sklearn-color-fitted-level-1: #d4ebff;\n",
       "  --sklearn-color-fitted-level-2: #b3dbfd;\n",
       "  --sklearn-color-fitted-level-3: cornflowerblue;\n",
       "\n",
       "  /* Specific color for light theme */\n",
       "  --sklearn-color-text-on-default-background: var(--sg-text-color, var(--theme-code-foreground, var(--jp-content-font-color1, black)));\n",
       "  --sklearn-color-background: var(--sg-background-color, var(--theme-background, var(--jp-layout-color0, white)));\n",
       "  --sklearn-color-border-box: var(--sg-text-color, var(--theme-code-foreground, var(--jp-content-font-color1, black)));\n",
       "  --sklearn-color-icon: #696969;\n",
       "\n",
       "  @media (prefers-color-scheme: dark) {\n",
       "    /* Redefinition of color scheme for dark theme */\n",
       "    --sklearn-color-text-on-default-background: var(--sg-text-color, var(--theme-code-foreground, var(--jp-content-font-color1, white)));\n",
       "    --sklearn-color-background: var(--sg-background-color, var(--theme-background, var(--jp-layout-color0, #111)));\n",
       "    --sklearn-color-border-box: var(--sg-text-color, var(--theme-code-foreground, var(--jp-content-font-color1, white)));\n",
       "    --sklearn-color-icon: #878787;\n",
       "  }\n",
       "}\n",
       "\n",
       "#sk-container-id-1 {\n",
       "  color: var(--sklearn-color-text);\n",
       "}\n",
       "\n",
       "#sk-container-id-1 pre {\n",
       "  padding: 0;\n",
       "}\n",
       "\n",
       "#sk-container-id-1 input.sk-hidden--visually {\n",
       "  border: 0;\n",
       "  clip: rect(1px 1px 1px 1px);\n",
       "  clip: rect(1px, 1px, 1px, 1px);\n",
       "  height: 1px;\n",
       "  margin: -1px;\n",
       "  overflow: hidden;\n",
       "  padding: 0;\n",
       "  position: absolute;\n",
       "  width: 1px;\n",
       "}\n",
       "\n",
       "#sk-container-id-1 div.sk-dashed-wrapped {\n",
       "  border: 1px dashed var(--sklearn-color-line);\n",
       "  margin: 0 0.4em 0.5em 0.4em;\n",
       "  box-sizing: border-box;\n",
       "  padding-bottom: 0.4em;\n",
       "  background-color: var(--sklearn-color-background);\n",
       "}\n",
       "\n",
       "#sk-container-id-1 div.sk-container {\n",
       "  /* jupyter's `normalize.less` sets `[hidden] { display: none; }`\n",
       "     but bootstrap.min.css set `[hidden] { display: none !important; }`\n",
       "     so we also need the `!important` here to be able to override the\n",
       "     default hidden behavior on the sphinx rendered scikit-learn.org.\n",
       "     See: https://github.com/scikit-learn/scikit-learn/issues/21755 */\n",
       "  display: inline-block !important;\n",
       "  position: relative;\n",
       "}\n",
       "\n",
       "#sk-container-id-1 div.sk-text-repr-fallback {\n",
       "  display: none;\n",
       "}\n",
       "\n",
       "div.sk-parallel-item,\n",
       "div.sk-serial,\n",
       "div.sk-item {\n",
       "  /* draw centered vertical line to link estimators */\n",
       "  background-image: linear-gradient(var(--sklearn-color-text-on-default-background), var(--sklearn-color-text-on-default-background));\n",
       "  background-size: 2px 100%;\n",
       "  background-repeat: no-repeat;\n",
       "  background-position: center center;\n",
       "}\n",
       "\n",
       "/* Parallel-specific style estimator block */\n",
       "\n",
       "#sk-container-id-1 div.sk-parallel-item::after {\n",
       "  content: \"\";\n",
       "  width: 100%;\n",
       "  border-bottom: 2px solid var(--sklearn-color-text-on-default-background);\n",
       "  flex-grow: 1;\n",
       "}\n",
       "\n",
       "#sk-container-id-1 div.sk-parallel {\n",
       "  display: flex;\n",
       "  align-items: stretch;\n",
       "  justify-content: center;\n",
       "  background-color: var(--sklearn-color-background);\n",
       "  position: relative;\n",
       "}\n",
       "\n",
       "#sk-container-id-1 div.sk-parallel-item {\n",
       "  display: flex;\n",
       "  flex-direction: column;\n",
       "}\n",
       "\n",
       "#sk-container-id-1 div.sk-parallel-item:first-child::after {\n",
       "  align-self: flex-end;\n",
       "  width: 50%;\n",
       "}\n",
       "\n",
       "#sk-container-id-1 div.sk-parallel-item:last-child::after {\n",
       "  align-self: flex-start;\n",
       "  width: 50%;\n",
       "}\n",
       "\n",
       "#sk-container-id-1 div.sk-parallel-item:only-child::after {\n",
       "  width: 0;\n",
       "}\n",
       "\n",
       "/* Serial-specific style estimator block */\n",
       "\n",
       "#sk-container-id-1 div.sk-serial {\n",
       "  display: flex;\n",
       "  flex-direction: column;\n",
       "  align-items: center;\n",
       "  background-color: var(--sklearn-color-background);\n",
       "  padding-right: 1em;\n",
       "  padding-left: 1em;\n",
       "}\n",
       "\n",
       "\n",
       "/* Toggleable style: style used for estimator/Pipeline/ColumnTransformer box that is\n",
       "clickable and can be expanded/collapsed.\n",
       "- Pipeline and ColumnTransformer use this feature and define the default style\n",
       "- Estimators will overwrite some part of the style using the `sk-estimator` class\n",
       "*/\n",
       "\n",
       "/* Pipeline and ColumnTransformer style (default) */\n",
       "\n",
       "#sk-container-id-1 div.sk-toggleable {\n",
       "  /* Default theme specific background. It is overwritten whether we have a\n",
       "  specific estimator or a Pipeline/ColumnTransformer */\n",
       "  background-color: var(--sklearn-color-background);\n",
       "}\n",
       "\n",
       "/* Toggleable label */\n",
       "#sk-container-id-1 label.sk-toggleable__label {\n",
       "  cursor: pointer;\n",
       "  display: block;\n",
       "  width: 100%;\n",
       "  margin-bottom: 0;\n",
       "  padding: 0.5em;\n",
       "  box-sizing: border-box;\n",
       "  text-align: center;\n",
       "}\n",
       "\n",
       "#sk-container-id-1 label.sk-toggleable__label-arrow:before {\n",
       "  /* Arrow on the left of the label */\n",
       "  content: \"▸\";\n",
       "  float: left;\n",
       "  margin-right: 0.25em;\n",
       "  color: var(--sklearn-color-icon);\n",
       "}\n",
       "\n",
       "#sk-container-id-1 label.sk-toggleable__label-arrow:hover:before {\n",
       "  color: var(--sklearn-color-text);\n",
       "}\n",
       "\n",
       "/* Toggleable content - dropdown */\n",
       "\n",
       "#sk-container-id-1 div.sk-toggleable__content {\n",
       "  max-height: 0;\n",
       "  max-width: 0;\n",
       "  overflow: hidden;\n",
       "  text-align: left;\n",
       "  /* unfitted */\n",
       "  background-color: var(--sklearn-color-unfitted-level-0);\n",
       "}\n",
       "\n",
       "#sk-container-id-1 div.sk-toggleable__content.fitted {\n",
       "  /* fitted */\n",
       "  background-color: var(--sklearn-color-fitted-level-0);\n",
       "}\n",
       "\n",
       "#sk-container-id-1 div.sk-toggleable__content pre {\n",
       "  margin: 0.2em;\n",
       "  border-radius: 0.25em;\n",
       "  color: var(--sklearn-color-text);\n",
       "  /* unfitted */\n",
       "  background-color: var(--sklearn-color-unfitted-level-0);\n",
       "}\n",
       "\n",
       "#sk-container-id-1 div.sk-toggleable__content.fitted pre {\n",
       "  /* unfitted */\n",
       "  background-color: var(--sklearn-color-fitted-level-0);\n",
       "}\n",
       "\n",
       "#sk-container-id-1 input.sk-toggleable__control:checked~div.sk-toggleable__content {\n",
       "  /* Expand drop-down */\n",
       "  max-height: 200px;\n",
       "  max-width: 100%;\n",
       "  overflow: auto;\n",
       "}\n",
       "\n",
       "#sk-container-id-1 input.sk-toggleable__control:checked~label.sk-toggleable__label-arrow:before {\n",
       "  content: \"▾\";\n",
       "}\n",
       "\n",
       "/* Pipeline/ColumnTransformer-specific style */\n",
       "\n",
       "#sk-container-id-1 div.sk-label input.sk-toggleable__control:checked~label.sk-toggleable__label {\n",
       "  color: var(--sklearn-color-text);\n",
       "  background-color: var(--sklearn-color-unfitted-level-2);\n",
       "}\n",
       "\n",
       "#sk-container-id-1 div.sk-label.fitted input.sk-toggleable__control:checked~label.sk-toggleable__label {\n",
       "  background-color: var(--sklearn-color-fitted-level-2);\n",
       "}\n",
       "\n",
       "/* Estimator-specific style */\n",
       "\n",
       "/* Colorize estimator box */\n",
       "#sk-container-id-1 div.sk-estimator input.sk-toggleable__control:checked~label.sk-toggleable__label {\n",
       "  /* unfitted */\n",
       "  background-color: var(--sklearn-color-unfitted-level-2);\n",
       "}\n",
       "\n",
       "#sk-container-id-1 div.sk-estimator.fitted input.sk-toggleable__control:checked~label.sk-toggleable__label {\n",
       "  /* fitted */\n",
       "  background-color: var(--sklearn-color-fitted-level-2);\n",
       "}\n",
       "\n",
       "#sk-container-id-1 div.sk-label label.sk-toggleable__label,\n",
       "#sk-container-id-1 div.sk-label label {\n",
       "  /* The background is the default theme color */\n",
       "  color: var(--sklearn-color-text-on-default-background);\n",
       "}\n",
       "\n",
       "/* On hover, darken the color of the background */\n",
       "#sk-container-id-1 div.sk-label:hover label.sk-toggleable__label {\n",
       "  color: var(--sklearn-color-text);\n",
       "  background-color: var(--sklearn-color-unfitted-level-2);\n",
       "}\n",
       "\n",
       "/* Label box, darken color on hover, fitted */\n",
       "#sk-container-id-1 div.sk-label.fitted:hover label.sk-toggleable__label.fitted {\n",
       "  color: var(--sklearn-color-text);\n",
       "  background-color: var(--sklearn-color-fitted-level-2);\n",
       "}\n",
       "\n",
       "/* Estimator label */\n",
       "\n",
       "#sk-container-id-1 div.sk-label label {\n",
       "  font-family: monospace;\n",
       "  font-weight: bold;\n",
       "  display: inline-block;\n",
       "  line-height: 1.2em;\n",
       "}\n",
       "\n",
       "#sk-container-id-1 div.sk-label-container {\n",
       "  text-align: center;\n",
       "}\n",
       "\n",
       "/* Estimator-specific */\n",
       "#sk-container-id-1 div.sk-estimator {\n",
       "  font-family: monospace;\n",
       "  border: 1px dotted var(--sklearn-color-border-box);\n",
       "  border-radius: 0.25em;\n",
       "  box-sizing: border-box;\n",
       "  margin-bottom: 0.5em;\n",
       "  /* unfitted */\n",
       "  background-color: var(--sklearn-color-unfitted-level-0);\n",
       "}\n",
       "\n",
       "#sk-container-id-1 div.sk-estimator.fitted {\n",
       "  /* fitted */\n",
       "  background-color: var(--sklearn-color-fitted-level-0);\n",
       "}\n",
       "\n",
       "/* on hover */\n",
       "#sk-container-id-1 div.sk-estimator:hover {\n",
       "  /* unfitted */\n",
       "  background-color: var(--sklearn-color-unfitted-level-2);\n",
       "}\n",
       "\n",
       "#sk-container-id-1 div.sk-estimator.fitted:hover {\n",
       "  /* fitted */\n",
       "  background-color: var(--sklearn-color-fitted-level-2);\n",
       "}\n",
       "\n",
       "/* Specification for estimator info (e.g. \"i\" and \"?\") */\n",
       "\n",
       "/* Common style for \"i\" and \"?\" */\n",
       "\n",
       ".sk-estimator-doc-link,\n",
       "a:link.sk-estimator-doc-link,\n",
       "a:visited.sk-estimator-doc-link {\n",
       "  float: right;\n",
       "  font-size: smaller;\n",
       "  line-height: 1em;\n",
       "  font-family: monospace;\n",
       "  background-color: var(--sklearn-color-background);\n",
       "  border-radius: 1em;\n",
       "  height: 1em;\n",
       "  width: 1em;\n",
       "  text-decoration: none !important;\n",
       "  margin-left: 1ex;\n",
       "  /* unfitted */\n",
       "  border: var(--sklearn-color-unfitted-level-1) 1pt solid;\n",
       "  color: var(--sklearn-color-unfitted-level-1);\n",
       "}\n",
       "\n",
       ".sk-estimator-doc-link.fitted,\n",
       "a:link.sk-estimator-doc-link.fitted,\n",
       "a:visited.sk-estimator-doc-link.fitted {\n",
       "  /* fitted */\n",
       "  border: var(--sklearn-color-fitted-level-1) 1pt solid;\n",
       "  color: var(--sklearn-color-fitted-level-1);\n",
       "}\n",
       "\n",
       "/* On hover */\n",
       "div.sk-estimator:hover .sk-estimator-doc-link:hover,\n",
       ".sk-estimator-doc-link:hover,\n",
       "div.sk-label-container:hover .sk-estimator-doc-link:hover,\n",
       ".sk-estimator-doc-link:hover {\n",
       "  /* unfitted */\n",
       "  background-color: var(--sklearn-color-unfitted-level-3);\n",
       "  color: var(--sklearn-color-background);\n",
       "  text-decoration: none;\n",
       "}\n",
       "\n",
       "div.sk-estimator.fitted:hover .sk-estimator-doc-link.fitted:hover,\n",
       ".sk-estimator-doc-link.fitted:hover,\n",
       "div.sk-label-container:hover .sk-estimator-doc-link.fitted:hover,\n",
       ".sk-estimator-doc-link.fitted:hover {\n",
       "  /* fitted */\n",
       "  background-color: var(--sklearn-color-fitted-level-3);\n",
       "  color: var(--sklearn-color-background);\n",
       "  text-decoration: none;\n",
       "}\n",
       "\n",
       "/* Span, style for the box shown on hovering the info icon */\n",
       ".sk-estimator-doc-link span {\n",
       "  display: none;\n",
       "  z-index: 9999;\n",
       "  position: relative;\n",
       "  font-weight: normal;\n",
       "  right: .2ex;\n",
       "  padding: .5ex;\n",
       "  margin: .5ex;\n",
       "  width: min-content;\n",
       "  min-width: 20ex;\n",
       "  max-width: 50ex;\n",
       "  color: var(--sklearn-color-text);\n",
       "  box-shadow: 2pt 2pt 4pt #999;\n",
       "  /* unfitted */\n",
       "  background: var(--sklearn-color-unfitted-level-0);\n",
       "  border: .5pt solid var(--sklearn-color-unfitted-level-3);\n",
       "}\n",
       "\n",
       ".sk-estimator-doc-link.fitted span {\n",
       "  /* fitted */\n",
       "  background: var(--sklearn-color-fitted-level-0);\n",
       "  border: var(--sklearn-color-fitted-level-3);\n",
       "}\n",
       "\n",
       ".sk-estimator-doc-link:hover span {\n",
       "  display: block;\n",
       "}\n",
       "\n",
       "/* \"?\"-specific style due to the `<a>` HTML tag */\n",
       "\n",
       "#sk-container-id-1 a.estimator_doc_link {\n",
       "  float: right;\n",
       "  font-size: 1rem;\n",
       "  line-height: 1em;\n",
       "  font-family: monospace;\n",
       "  background-color: var(--sklearn-color-background);\n",
       "  border-radius: 1rem;\n",
       "  height: 1rem;\n",
       "  width: 1rem;\n",
       "  text-decoration: none;\n",
       "  /* unfitted */\n",
       "  color: var(--sklearn-color-unfitted-level-1);\n",
       "  border: var(--sklearn-color-unfitted-level-1) 1pt solid;\n",
       "}\n",
       "\n",
       "#sk-container-id-1 a.estimator_doc_link.fitted {\n",
       "  /* fitted */\n",
       "  border: var(--sklearn-color-fitted-level-1) 1pt solid;\n",
       "  color: var(--sklearn-color-fitted-level-1);\n",
       "}\n",
       "\n",
       "/* On hover */\n",
       "#sk-container-id-1 a.estimator_doc_link:hover {\n",
       "  /* unfitted */\n",
       "  background-color: var(--sklearn-color-unfitted-level-3);\n",
       "  color: var(--sklearn-color-background);\n",
       "  text-decoration: none;\n",
       "}\n",
       "\n",
       "#sk-container-id-1 a.estimator_doc_link.fitted:hover {\n",
       "  /* fitted */\n",
       "  background-color: var(--sklearn-color-fitted-level-3);\n",
       "}\n",
       "</style><div id=\"sk-container-id-1\" class=\"sk-top-container\"><div class=\"sk-text-repr-fallback\"><pre>LogisticRegression(random_state=0)</pre><b>In a Jupyter environment, please rerun this cell to show the HTML representation or trust the notebook. <br />On GitHub, the HTML representation is unable to render, please try loading this page with nbviewer.org.</b></div><div class=\"sk-container\" hidden><div class=\"sk-item\"><div class=\"sk-estimator fitted sk-toggleable\"><input class=\"sk-toggleable__control sk-hidden--visually\" id=\"sk-estimator-id-1\" type=\"checkbox\" checked><label for=\"sk-estimator-id-1\" class=\"sk-toggleable__label fitted sk-toggleable__label-arrow fitted\">&nbsp;&nbsp;LogisticRegression<a class=\"sk-estimator-doc-link fitted\" rel=\"noreferrer\" target=\"_blank\" href=\"https://scikit-learn.org/1.5/modules/generated/sklearn.linear_model.LogisticRegression.html\">?<span>Documentation for LogisticRegression</span></a><span class=\"sk-estimator-doc-link fitted\">i<span>Fitted</span></span></label><div class=\"sk-toggleable__content fitted\"><pre>LogisticRegression(random_state=0)</pre></div> </div></div></div></div>"
      ],
      "text/plain": [
       "LogisticRegression(random_state=0)"
      ]
     },
     "execution_count": 32,
     "metadata": {},
     "output_type": "execute_result"
    }
   ],
   "source": [
    "# Fitting Logistic Regression to the Training set\n",
    "from sklearn.linear_model import LogisticRegression\n",
    "classifier = LogisticRegression(random_state = 0)\n",
    "classifier.fit(X_train, y_train) #supervised both x,y"
   ]
  },
  {
   "cell_type": "code",
   "execution_count": 33,
   "id": "f540d122",
   "metadata": {},
   "outputs": [],
   "source": [
    "# Predicting the Test set results\n",
    "y_pred = classifier.predict(X_test)"
   ]
  },
  {
   "cell_type": "code",
   "execution_count": 34,
   "id": "81f66c3c",
   "metadata": {},
   "outputs": [],
   "source": [
    "# Making the Confusion Matrix\n",
    "from sklearn.metrics import confusion_matrix\n",
    "cm = confusion_matrix(y_test, y_pred)"
   ]
  },
  {
   "cell_type": "code",
   "execution_count": 35,
   "id": "d471b9fd",
   "metadata": {},
   "outputs": [
    {
     "data": {
      "text/plain": [
       "array([[ 0, 14,  0],\n",
       "       [ 0, 16,  0],\n",
       "       [ 0,  6,  0]], dtype=int64)"
      ]
     },
     "execution_count": 35,
     "metadata": {},
     "output_type": "execute_result"
    }
   ],
   "source": [
    "cm"
   ]
  },
  {
   "cell_type": "code",
   "execution_count": 37,
   "id": "d7e7b059",
   "metadata": {},
   "outputs": [],
   "source": [
    "import warnings\n",
    "warnings.filterwarnings(\"ignore\")"
   ]
  },
  {
   "cell_type": "code",
   "execution_count": 38,
   "id": "609d85f8",
   "metadata": {},
   "outputs": [
    {
     "data": {
      "text/plain": [
       "'              precision    recall  f1-score   support\\n\\n           1       0.00      0.00      0.00        14\\n           2       0.44      1.00      0.62        16\\n           3       0.00      0.00      0.00         6\\n\\n    accuracy                           0.44        36\\n   macro avg       0.15      0.33      0.21        36\\nweighted avg       0.20      0.44      0.27        36\\n'"
      ]
     },
     "execution_count": 38,
     "metadata": {},
     "output_type": "execute_result"
    }
   ],
   "source": [
    "from sklearn.metrics import classification_report\n",
    "clf = classification_report(y_test,y_pred)\n",
    "clf"
   ]
  },
  {
   "cell_type": "code",
   "execution_count": 39,
   "id": "14612705",
   "metadata": {},
   "outputs": [
    {
     "name": "stdout",
     "output_type": "stream",
     "text": [
      "              precision    recall  f1-score   support\n",
      "\n",
      "           1       0.00      0.00      0.00        14\n",
      "           2       0.44      1.00      0.62        16\n",
      "           3       0.00      0.00      0.00         6\n",
      "\n",
      "    accuracy                           0.44        36\n",
      "   macro avg       0.15      0.33      0.21        36\n",
      "weighted avg       0.20      0.44      0.27        36\n",
      "\n"
     ]
    }
   ],
   "source": [
    "print(clf)"
   ]
  },
  {
   "cell_type": "code",
   "execution_count": 40,
   "id": "7be667f1",
   "metadata": {},
   "outputs": [],
   "source": [
    "#Accuracy is 97 is good score to save best model."
   ]
  },
  {
   "cell_type": "code",
   "execution_count": null,
   "id": "3be6edcd",
   "metadata": {},
   "outputs": [],
   "source": []
  },
  {
   "cell_type": "code",
   "execution_count": 41,
   "id": "8d32bdeb",
   "metadata": {},
   "outputs": [
    {
     "data": {
      "image/png": "[encoded data removed]",
      "text/plain": [
       "<Figure size 640x480 with 1 Axes>"
      ]
     },
     "metadata": {},
     "output_type": "display_data"
    }
   ],
   "source": [
    "# Visualising the Training set results\n",
    "from matplotlib.colors import ListedColormap\n",
    "X_set, y_set = X_train, y_train\n",
    "X1, X2 = np.meshgrid(np.arange(start = X_set[:, 0].min() - 1, stop = X_set[:, 0].max() + 1, step = 0.01),\n",
    "                     np.arange(start = X_set[:, 1].min() - 1, stop = X_set[:, 1].max() + 1, step = 0.01))\n",
    "plt.contourf(X1, X2, classifier.predict(np.array([X1.ravel(), X2.ravel()]).T).reshape(X1.shape),\n",
    "             alpha = 0.75, cmap = ListedColormap(('red', 'green', 'blue')))\n",
    "plt.xlim(X1.min(), X1.max())\n",
    "plt.ylim(X2.min(), X2.max())\n",
    "for i, j in enumerate(np.unique(y_set)):\n",
    "    plt.scatter(X_set[y_set == j, 0], X_set[y_set == j, 1],\n",
    "                c = ListedColormap(('red', 'green', 'blue'))(i), label = j)\n",
    "plt.title('Logistic Regression (Training set)')\n",
    "plt.xlabel('PC1')\n",
    "plt.ylabel('PC2')\n",
    "plt.legend()\n",
    "plt.show()"
   ]
  },
  {
   "cell_type": "code",
   "execution_count": 42,
   "id": "3104ee43",
   "metadata": {},
   "outputs": [
    {
     "data": {
      "image/png": "[encoded data removed]",
      "text/plain": [
       "<Figure size 640x480 with 1 Axes>"
      ]
     },
     "metadata": {},
     "output_type": "display_data"
    }
   ],
   "source": [
    "# Visualising the Test set results\n",
    "from matplotlib.colors import ListedColormap\n",
    "X_set, y_set = X_test, y_test\n",
    "X1, X2 = np.meshgrid(np.arange(start = X_set[:, 0].min() - 1, stop = X_set[:, 0].max() + 1, step = 0.01),\n",
    "                     np.arange(start = X_set[:, 1].min() - 1, stop = X_set[:, 1].max() + 1, step = 0.01))\n",
    "plt.contourf(X1, X2, classifier.predict(np.array([X1.ravel(), X2.ravel()]).T).reshape(X1.shape),\n",
    "             alpha = 0.75, cmap = ListedColormap(('red', 'green', 'blue')))\n",
    "plt.xlim(X1.min(), X1.max())\n",
    "plt.ylim(X2.min(), X2.max())\n",
    "for i, j in enumerate(np.unique(y_set)):\n",
    "    plt.scatter(X_set[y_set == j, 0], X_set[y_set == j, 1],\n",
    "                c = ListedColormap(('red', 'green', 'blue'))(i), label = j)\n",
    "plt.title('Logistic Regression (Test set)')\n",
    "plt.xlabel('PC1')\n",
    "plt.ylabel('PC2')\n",
    "plt.legend()\n",
    "plt.show()"
   ]
  },
  {
   "cell_type": "code",
   "execution_count": null,
   "id": "9d3bc757",
   "metadata": {},
   "outputs": [],
   "source": []
  }
 ],
 "metadata": {
  "kernelspec": {
   "display_name": "Python 3 (ipykernel)",
   "language": "python",
   "name": "python3"
  },
  "language_info": {
   "codemirror_mode": {
    "name": "ipython",
    "version": 3
   },
   "file_extension": ".py",
   "mimetype": "text/x-python",
   "name": "python",
   "nbconvert_exporter": "python",
   "pygments_lexer": "ipython3",
   "version": "3.11.4"
  }
 },
 "nbformat": 4,
 "nbformat_minor": 5
}
